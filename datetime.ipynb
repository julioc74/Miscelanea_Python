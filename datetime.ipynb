{
 "cells": [
  {
   "cell_type": "code",
   "execution_count": 2,
   "metadata": {},
   "outputs": [
    {
     "name": "stdout",
     "output_type": "stream",
     "text": [
      "2023-10-01\n"
     ]
    }
   ],
   "source": [
    "import datetime         # importamos el modulo datetime \n",
    "\n",
    "today = datetime.date.today()       # nos da la fecha de hoy\n",
    "print(today)"
   ]
  },
  {
   "cell_type": "markdown",
   "metadata": {},
   "source": [
    "Obtiene solo la fecha actual."
   ]
  },
  {
   "cell_type": "code",
   "execution_count": 3,
   "metadata": {},
   "outputs": [
    {
     "name": "stdout",
     "output_type": "stream",
     "text": [
      "01/10/2023\n"
     ]
    }
   ],
   "source": [
    "print(today.strftime(\"%d/%m/%Y\"))"
   ]
  },
  {
   "cell_type": "markdown",
   "metadata": {},
   "source": [
    "Obtiene la fecha actual junto con la hora, minutos\n",
    "y segundos"
   ]
  },
  {
   "cell_type": "code",
   "execution_count": 4,
   "metadata": {},
   "outputs": [
    {
     "name": "stdout",
     "output_type": "stream",
     "text": [
      "2023-10-01 20:06:19.954037\n"
     ]
    }
   ],
   "source": [
    "print(datetime.datetime.today())"
   ]
  },
  {
   "cell_type": "markdown",
   "metadata": {},
   "source": [
    "Igual que con el metodo today(), con el metodo\n",
    "now() conseguimos lo mismo que en el caso anterior."
   ]
  },
  {
   "cell_type": "code",
   "execution_count": 5,
   "metadata": {},
   "outputs": [
    {
     "name": "stdout",
     "output_type": "stream",
     "text": [
      "2023-10-01 20:06:23.738121\n"
     ]
    }
   ],
   "source": [
    "now = datetime.datetime.now()\n",
    "print(now)"
   ]
  },
  {
   "cell_type": "markdown",
   "metadata": {},
   "source": [
    "Con el metodo now podemos obtener el año"
   ]
  },
  {
   "cell_type": "code",
   "execution_count": 17,
   "metadata": {},
   "outputs": [
    {
     "name": "stdout",
     "output_type": "stream",
     "text": [
      "2023\n"
     ]
    }
   ],
   "source": [
    "print(now.year)"
   ]
  },
  {
   "cell_type": "markdown",
   "metadata": {},
   "source": [
    "El mes"
   ]
  },
  {
   "cell_type": "code",
   "execution_count": 18,
   "metadata": {},
   "outputs": [
    {
     "name": "stdout",
     "output_type": "stream",
     "text": [
      "10\n"
     ]
    }
   ],
   "source": [
    "print(now.month)"
   ]
  },
  {
   "cell_type": "markdown",
   "metadata": {},
   "source": [
    "El dia"
   ]
  },
  {
   "cell_type": "code",
   "execution_count": 19,
   "metadata": {},
   "outputs": [
    {
     "name": "stdout",
     "output_type": "stream",
     "text": [
      "1\n"
     ]
    }
   ],
   "source": [
    "print(now.day)"
   ]
  },
  {
   "cell_type": "markdown",
   "metadata": {},
   "source": [
    "La hora"
   ]
  },
  {
   "cell_type": "code",
   "execution_count": 20,
   "metadata": {},
   "outputs": [
    {
     "name": "stdout",
     "output_type": "stream",
     "text": [
      "20\n"
     ]
    }
   ],
   "source": [
    "print(now.hour)"
   ]
  },
  {
   "cell_type": "markdown",
   "metadata": {},
   "source": [
    "Los minutos"
   ]
  },
  {
   "cell_type": "code",
   "execution_count": 21,
   "metadata": {},
   "outputs": [
    {
     "name": "stdout",
     "output_type": "stream",
     "text": [
      "6\n"
     ]
    }
   ],
   "source": [
    "print(now.minute)"
   ]
  },
  {
   "cell_type": "markdown",
   "metadata": {},
   "source": [
    "Y los segundos"
   ]
  },
  {
   "cell_type": "code",
   "execution_count": 22,
   "metadata": {},
   "outputs": [
    {
     "name": "stdout",
     "output_type": "stream",
     "text": [
      "23\n"
     ]
    }
   ],
   "source": [
    "print(now.second)"
   ]
  },
  {
   "cell_type": "markdown",
   "metadata": {},
   "source": [
    "Obtenemos solo la hora actual"
   ]
  },
  {
   "cell_type": "code",
   "execution_count": 6,
   "metadata": {},
   "outputs": [
    {
     "name": "stdout",
     "output_type": "stream",
     "text": [
      "20:06:23\n"
     ]
    }
   ],
   "source": [
    "current_time = now.time()\n",
    "print(current_time.strftime(\"%H:%M:%S\"))"
   ]
  },
  {
   "cell_type": "markdown",
   "metadata": {},
   "source": [
    "Obtenemos la fecha y hora actual."
   ]
  },
  {
   "cell_type": "code",
   "execution_count": 7,
   "metadata": {},
   "outputs": [
    {
     "name": "stdout",
     "output_type": "stream",
     "text": [
      "2023-10-01 20:06:23\n"
     ]
    }
   ],
   "source": [
    "print(now.strftime(\"%Y-%m-%d %H:%M:%S\"))"
   ]
  },
  {
   "cell_type": "markdown",
   "metadata": {},
   "source": [
    "Tambien con el metodo combine se pueden combinar 2 o mas objetos datetime."
   ]
  },
  {
   "cell_type": "code",
   "execution_count": 45,
   "metadata": {},
   "outputs": [
    {
     "name": "stdout",
     "output_type": "stream",
     "text": [
      "2021-03-15 19:27:11\n"
     ]
    }
   ],
   "source": [
    "date = datetime.date(2021, 3, 15)\n",
    "time = datetime.time(19, 27, 11)\n",
    "print(datetime.datetime.combine(date, time))"
   ]
  },
  {
   "cell_type": "markdown",
   "metadata": {},
   "source": [
    "Formatea una fecha y hora personalizada"
   ]
  },
  {
   "cell_type": "code",
   "execution_count": 8,
   "metadata": {},
   "outputs": [
    {
     "name": "stdout",
     "output_type": "stream",
     "text": [
      "Dia: 20/06/2023, Hora: 17:25\n"
     ]
    }
   ],
   "source": [
    "custom_date = datetime.datetime(2023, 6, 20, 17, 25)\n",
    "print(custom_date.strftime(\"Dia: %d/%m/%Y, Hora: %H:%M\"))"
   ]
  },
  {
   "cell_type": "markdown",
   "metadata": {},
   "source": [
    "strptime realiza el proceso inverso de strftime, convierte una\n",
    "cadena de fecha en un objeto datetime segun un formato especifico."
   ]
  },
  {
   "cell_type": "code",
   "execution_count": 9,
   "metadata": {},
   "outputs": [],
   "source": [
    "date_string = \"2023-10-01\"\n",
    "object_datetime = datetime.datetime.strptime(date_string, \"%Y-%m-%d\")"
   ]
  },
  {
   "cell_type": "markdown",
   "metadata": {},
   "source": [
    "weekday() devuelve el dia de la semana como un numero (0 para lunes,\n",
    "1 para el martes,... 6 para el domingo)"
   ]
  },
  {
   "cell_type": "code",
   "execution_count": 10,
   "metadata": {},
   "outputs": [
    {
     "name": "stdout",
     "output_type": "stream",
     "text": [
      "6\n"
     ]
    }
   ],
   "source": [
    "day_of_week = now.weekday()\n",
    "print(day_of_week)"
   ]
  },
  {
   "cell_type": "markdown",
   "metadata": {},
   "source": [
    "isoweekday() nos da el dia de la semana segun el estandar iso (1 para lunes,\n",
    "2 para el martes,... 7 para el domingo)"
   ]
  },
  {
   "cell_type": "code",
   "execution_count": 11,
   "metadata": {},
   "outputs": [
    {
     "name": "stdout",
     "output_type": "stream",
     "text": [
      "7\n"
     ]
    }
   ],
   "source": [
    "iso_day = now.isoweekday()\n",
    "print(iso_day)"
   ]
  },
  {
   "cell_type": "markdown",
   "metadata": {},
   "source": [
    "Aca vemos algunos otros formatos mas usados"
   ]
  },
  {
   "cell_type": "markdown",
   "metadata": {},
   "source": [
    "Para obtener el dia de la semana usamos strftime(\"%A\"), el formato %A\n",
    "nos da el dia de la semana (en ingles)"
   ]
  },
  {
   "cell_type": "code",
   "execution_count": 12,
   "metadata": {},
   "outputs": [
    {
     "name": "stdout",
     "output_type": "stream",
     "text": [
      "Today is Sunday\n"
     ]
    }
   ],
   "source": [
    "day_name = now.strftime(\"%A\")\n",
    "print(f\"Today is {day_name}\")"
   ]
  },
  {
   "cell_type": "markdown",
   "metadata": {},
   "source": [
    "Para obtener la forma abreviada usamos strftime(\"%a\")"
   ]
  },
  {
   "cell_type": "code",
   "execution_count": 31,
   "metadata": {},
   "outputs": [
    {
     "name": "stdout",
     "output_type": "stream",
     "text": [
      "Sun\n"
     ]
    }
   ],
   "source": [
    "print(now.strftime(\"%a\"))"
   ]
  },
  {
   "cell_type": "markdown",
   "metadata": {},
   "source": [
    "Para obtener el mes usamos strftime(\"%B\"), el formato %B\n",
    "nos da el mes actual (en ingles)"
   ]
  },
  {
   "cell_type": "code",
   "execution_count": 30,
   "metadata": {},
   "outputs": [
    {
     "name": "stdout",
     "output_type": "stream",
     "text": [
      "The current month is October\n"
     ]
    }
   ],
   "source": [
    "month_name = now.strftime(\"%B\")\n",
    "print(f\"The current month is {month_name}\")"
   ]
  },
  {
   "cell_type": "markdown",
   "metadata": {},
   "source": [
    "Para obtener la forma abreviada usamos strftime(\"%b\")"
   ]
  },
  {
   "cell_type": "code",
   "execution_count": 32,
   "metadata": {},
   "outputs": [
    {
     "name": "stdout",
     "output_type": "stream",
     "text": [
      "Oct\n"
     ]
    }
   ],
   "source": [
    "print(now.strftime(\"%b\"))"
   ]
  },
  {
   "cell_type": "markdown",
   "metadata": {},
   "source": [
    "Tambien podemos obtener la fecha y hora actual con strftime(\"%c\")"
   ]
  },
  {
   "cell_type": "code",
   "execution_count": 35,
   "metadata": {},
   "outputs": [
    {
     "name": "stdout",
     "output_type": "stream",
     "text": [
      "Now is Sun Oct  1 20:06:23 2023\n"
     ]
    }
   ],
   "source": [
    "dt1 = now.strftime(\"%c\")\n",
    "print(f\"Now is {dt1}\")"
   ]
  },
  {
   "cell_type": "markdown",
   "metadata": {},
   "source": [
    "Con strftime(\"%x\") obtenemos la fecha actual"
   ]
  },
  {
   "cell_type": "code",
   "execution_count": 38,
   "metadata": {},
   "outputs": [
    {
     "name": "stdout",
     "output_type": "stream",
     "text": [
      "Today is 10/01/23\n"
     ]
    }
   ],
   "source": [
    "dt2 = now.strftime(\"%x\")\n",
    "print(f\"Today is {dt2}\")"
   ]
  },
  {
   "cell_type": "markdown",
   "metadata": {},
   "source": [
    "Y con strftime(\"%X\") obtenemos la hora exacta."
   ]
  },
  {
   "cell_type": "code",
   "execution_count": 39,
   "metadata": {},
   "outputs": [
    {
     "name": "stdout",
     "output_type": "stream",
     "text": [
      "It is 20:06:23\n"
     ]
    }
   ],
   "source": [
    "dt3 = now.strftime(\"%X\")\n",
    "print(f\"It is {dt3}\")"
   ]
  },
  {
   "cell_type": "markdown",
   "metadata": {},
   "source": [
    "Con strftime(\"%p\") sabremos si es AM o PM."
   ]
  },
  {
   "cell_type": "code",
   "execution_count": 37,
   "metadata": {},
   "outputs": [
    {
     "name": "stdout",
     "output_type": "stream",
     "text": [
      "Now is PM\n"
     ]
    }
   ],
   "source": [
    "am_or_pm = now.strftime(\"%p\")\n",
    "print(f\"Now is {am_or_pm}\")"
   ]
  },
  {
   "cell_type": "markdown",
   "metadata": {},
   "source": [
    "Y podemos juntar los dos ultimos formatos para obtener\n",
    "lo siguiente:"
   ]
  },
  {
   "cell_type": "code",
   "execution_count": 42,
   "metadata": {},
   "outputs": [
    {
     "name": "stdout",
     "output_type": "stream",
     "text": [
      "It is 20:06:23 PM\n"
     ]
    }
   ],
   "source": [
    "dt4 = now.strftime(\"%X %p\")\n",
    "print(f\"It is {dt4}\")"
   ]
  },
  {
   "cell_type": "markdown",
   "metadata": {},
   "source": [
    "Con la clase datetime del modulo datetime, configuramos una fecha cualquiera."
   ]
  },
  {
   "cell_type": "code",
   "execution_count": 26,
   "metadata": {},
   "outputs": [
    {
     "name": "stdout",
     "output_type": "stream",
     "text": [
      "2018-07-12 11:23:52.000317\n"
     ]
    }
   ],
   "source": [
    "date = datetime.datetime(2018, 7, 12, 11, 23, 52, 317)\n",
    "print(date)"
   ]
  },
  {
   "cell_type": "markdown",
   "metadata": {},
   "source": [
    "Con la clase timedelta del modulo datetime podemos representar intervalos de tiempo\n",
    "y podemos usarlos para sumar o restar intervalos de tiempo. "
   ]
  },
  {
   "cell_type": "code",
   "execution_count": 27,
   "metadata": {},
   "outputs": [
    {
     "name": "stdout",
     "output_type": "stream",
     "text": [
      "2018-08-03 21:23:52.000317\n"
     ]
    }
   ],
   "source": [
    "after_date = date + datetime.timedelta(days=22, hours=10)\n",
    "before_date = date - datetime.timedelta(weeks=5, days=3)\n",
    "\n",
    "print(after_date)"
   ]
  },
  {
   "cell_type": "code",
   "execution_count": 28,
   "metadata": {},
   "outputs": [
    {
     "name": "stdout",
     "output_type": "stream",
     "text": [
      "2018-06-04 11:23:52.000317\n"
     ]
    }
   ],
   "source": [
    "print(before_date)"
   ]
  },
  {
   "cell_type": "markdown",
   "metadata": {},
   "source": [
    "obtenemos el intervalo de tiempo entre after_date y before_date."
   ]
  },
  {
   "cell_type": "code",
   "execution_count": 29,
   "metadata": {},
   "outputs": [
    {
     "name": "stdout",
     "output_type": "stream",
     "text": [
      "60 days, 10:00:00\n"
     ]
    }
   ],
   "source": [
    "print(after_date-before_date)"
   ]
  },
  {
   "cell_type": "markdown",
   "metadata": {},
   "source": [
    "datetime.timezone es una clase en Python que representa un desplazamiento fijo de tiempo \n",
    "desde la hora UTC (Tiempo Universal Coordinado) o GMT (Greenwich Mean Time). \n",
    "Esta clase se utiliza para trabajar con zonas horarias en aplicaciones que requieren\n",
    "manejar fechas y horas en contextos globales y proporciona una forma estándar de representar \n",
    "zonas horarias en el lenguaje."
   ]
  },
  {
   "cell_type": "markdown",
   "metadata": {},
   "source": [
    "En este caso indica la zona horaria, en este caso, UTC+7, que significa que la hora \n",
    "proporcionada está 7 horas por delante del Tiempo Universal Coordinado (UTC)."
   ]
  },
  {
   "cell_type": "code",
   "execution_count": 43,
   "metadata": {},
   "outputs": [
    {
     "name": "stdout",
     "output_type": "stream",
     "text": [
      "2020-05-14 16:45:37.000329+07:00\n"
     ]
    }
   ],
   "source": [
    "print(datetime.datetime(2020, 5, 14, 16, 45, 37, 329,\n",
    "        datetime.timezone(datetime.timedelta(hours=7))))"
   ]
  },
  {
   "cell_type": "markdown",
   "metadata": {},
   "source": [
    "Y en este otro caso indica la zona horaria, en este caso, UTC+7, que significa que la hora \n",
    "proporcionada está 3 horas antes del Tiempo Universal Coordinado (UTC)."
   ]
  },
  {
   "cell_type": "code",
   "execution_count": 44,
   "metadata": {},
   "outputs": [
    {
     "name": "stdout",
     "output_type": "stream",
     "text": [
      "2020-05-14 16:45:37.000329-03:00\n"
     ]
    }
   ],
   "source": [
    "print(datetime.datetime(2020, 5, 14, 16, 45, 37, 329,\n",
    "        datetime.timezone(datetime.timedelta(hours=-3))))"
   ]
  }
 ],
 "metadata": {
  "kernelspec": {
   "display_name": "Python 3",
   "language": "python",
   "name": "python3"
  },
  "language_info": {
   "codemirror_mode": {
    "name": "ipython",
    "version": 3
   },
   "file_extension": ".py",
   "mimetype": "text/x-python",
   "name": "python",
   "nbconvert_exporter": "python",
   "pygments_lexer": "ipython3",
   "version": "3.10.7"
  },
  "orig_nbformat": 4
 },
 "nbformat": 4,
 "nbformat_minor": 2
}
