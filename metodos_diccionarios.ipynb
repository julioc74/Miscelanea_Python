{
 "cells": [
  {
   "cell_type": "markdown",
   "metadata": {},
   "source": [
    "# METODOS DE DICCIONARIOS "
   ]
  },
  {
   "cell_type": "markdown",
   "metadata": {},
   "source": [
    "## METODO CLEAR()"
   ]
  },
  {
   "cell_type": "markdown",
   "metadata": {},
   "source": [
    "El metodo clear() elimina todos los elementos de un diccionario"
   ]
  },
  {
   "cell_type": "code",
   "execution_count": 1,
   "metadata": {},
   "outputs": [
    {
     "name": "stdout",
     "output_type": "stream",
     "text": [
      "{}\n"
     ]
    }
   ],
   "source": [
    "capitales = {\"Francia\" : \"Paris\",\n",
    "             \"Italia\" : \"Roma\",\n",
    "             \"Rusia\" : \"Moscu\"\n",
    "             }\n",
    "\n",
    "capitales.clear()\n",
    "\n",
    "print(capitales)"
   ]
  },
  {
   "cell_type": "markdown",
   "metadata": {},
   "source": [
    "## METODO COPY()"
   ]
  },
  {
   "cell_type": "markdown",
   "metadata": {},
   "source": [
    "El metodo copy() devuelve una copia de un diccionario"
   ]
  },
  {
   "cell_type": "code",
   "execution_count": 2,
   "metadata": {},
   "outputs": [
    {
     "name": "stdout",
     "output_type": "stream",
     "text": [
      "{'nombre': 'Maria', 'edad': 35, 'genero': 'Femenino'}\n"
     ]
    }
   ],
   "source": [
    "personas = {\n",
    "            \"nombre\" : \"Maria\",\n",
    "            \"edad\" : 35,\n",
    "            \"genero\" : \"Femenino\"\n",
    "            }\n",
    "\n",
    "x = personas.copy()\n",
    "print(x)"
   ]
  },
  {
   "cell_type": "markdown",
   "metadata": {},
   "source": [
    "## METODO FROMKEYS()"
   ]
  },
  {
   "cell_type": "markdown",
   "metadata": {},
   "source": [
    "fromkeys(clave(obligatorio), valor(opcional))"
   ]
  },
  {
   "cell_type": "markdown",
   "metadata": {},
   "source": [
    "El metodo fromkeys() se utiliza para crear un nuevo diccionario con claves especificas\n",
    "que pueden ser dadas desde un iterable (lista, tupla, etc) y un valor predeterminado que\n",
    "es comun para dichas claves; si no se le da un valor predeterminado, el valor sera\n",
    "'None' para todas las claves  "
   ]
  },
  {
   "cell_type": "code",
   "execution_count": 1,
   "metadata": {},
   "outputs": [
    {
     "name": "stdout",
     "output_type": "stream",
     "text": [
      "{'Maria': 0, 'Pedro': 0, 'Jose': 0}\n"
     ]
    }
   ],
   "source": [
    "nombres = ['Maria', 'Pedro', 'Jose']\n",
    "\n",
    "puntos = 0\n",
    "\n",
    "diccionario = dict.fromkeys(nombres, puntos)\n",
    "print(diccionario)"
   ]
  },
  {
   "cell_type": "code",
   "execution_count": 2,
   "metadata": {},
   "outputs": [
    {
     "name": "stdout",
     "output_type": "stream",
     "text": [
      "{'aceite': None, 'azucar': None, 'leche': None}\n"
     ]
    }
   ],
   "source": [
    "producto = ['aceite', 'azucar', 'leche']\n",
    "diccionario2 = dict.fromkeys(producto)\n",
    "print(diccionario2)"
   ]
  },
  {
   "cell_type": "markdown",
   "metadata": {},
   "source": [
    "## METODO GET()"
   ]
  },
  {
   "cell_type": "markdown",
   "metadata": {},
   "source": [
    "get(clave(obligatorio), valor(opcional))"
   ]
  },
  {
   "cell_type": "markdown",
   "metadata": {},
   "source": [
    "Este metodo devuelve el valor del elemento pasando como argumento\n",
    "al metodo su respectiva clave.\n",
    "Si la clave no existe, podemos generar otro elemento clave-valor\n",
    "mas agregando como parametro dicho elemento.\n",
    "Si el valor de una clave no existe, nos devolvera None"
   ]
  },
  {
   "cell_type": "code",
   "execution_count": 1,
   "metadata": {},
   "outputs": [
    {
     "name": "stdout",
     "output_type": "stream",
     "text": [
      "UK\n"
     ]
    }
   ],
   "source": [
    "ciudades = {\n",
    "             \"Paris\" : \"Francia\",\n",
    "             \"Londres\" : \"UK\",\n",
    "             \"Bogota\" : \"Colombia\"\n",
    "              \n",
    "}\n",
    "\n",
    "x = ciudades.get(\"Londres\")\n",
    "print(x)"
   ]
  },
  {
   "cell_type": "code",
   "execution_count": 3,
   "metadata": {},
   "outputs": [
    {
     "name": "stdout",
     "output_type": "stream",
     "text": [
      "Japon\n"
     ]
    }
   ],
   "source": [
    "y = ciudades.get(\"Tokyo\", \"Japon\")\n",
    "print(y)"
   ]
  },
  {
   "cell_type": "code",
   "execution_count": 4,
   "metadata": {},
   "outputs": [
    {
     "name": "stdout",
     "output_type": "stream",
     "text": [
      "None\n"
     ]
    }
   ],
   "source": [
    "z = ciudades.get(\"Madrid\")\n",
    "print(z)\n"
   ]
  },
  {
   "cell_type": "markdown",
   "metadata": {},
   "source": [
    "## METODO ITEMS()"
   ]
  },
  {
   "cell_type": "markdown",
   "metadata": {},
   "source": [
    "Este metodo devuelve un objeto que contiene pares (clave-valor) de \n",
    "un diccionario en forma de tuplas dentro de una lista."
   ]
  },
  {
   "cell_type": "code",
   "execution_count": 1,
   "metadata": {},
   "outputs": [
    {
     "name": "stdout",
     "output_type": "stream",
     "text": [
      "dict_items([('nombre', 'Julio'), ('edad', 34), ('saldo', '1500 $')])\n"
     ]
    }
   ],
   "source": [
    "registro_personas = {\"nombre\" : \"Julio\",\n",
    "                     \"edad\" : 34,\n",
    "                     \"saldo\" : \"1500 $\"}\n",
    "\n",
    "x = registro_personas.items()\n",
    "print(x)"
   ]
  },
  {
   "cell_type": "markdown",
   "metadata": {},
   "source": [
    "Cuando un item o elemento en un diccionario su valor cambia,\n",
    "el objeto (par clave-valor) de dicho valor tambien cambia.\n"
   ]
  },
  {
   "cell_type": "code",
   "execution_count": 3,
   "metadata": {},
   "outputs": [
    {
     "name": "stdout",
     "output_type": "stream",
     "text": [
      "dict_items([('nombre', 'Julio'), ('edad', 34), ('saldo', '1200 $')])\n"
     ]
    }
   ],
   "source": [
    "registro_personas[\"saldo\"] = \"1200 $\"\n",
    "\n",
    "print(registro_personas.items())"
   ]
  },
  {
   "cell_type": "markdown",
   "metadata": {},
   "source": [
    "## METODO KEYS()"
   ]
  },
  {
   "cell_type": "markdown",
   "metadata": {},
   "source": [
    "Este metodo nos devuelve una lista de claves de un diccionario."
   ]
  },
  {
   "cell_type": "code",
   "execution_count": 1,
   "metadata": {},
   "outputs": [
    {
     "name": "stdout",
     "output_type": "stream",
     "text": [
      "dict_keys(['nombre', 'capital', 'idioma', 'habitantes', 'continente'])\n"
     ]
    }
   ],
   "source": [
    "pais = {\n",
    "        \"nombre\" : \"Francia\",\n",
    "        \"capital\" : \"Paris\",\n",
    "        \"idioma\" : \"frances\",\n",
    "        \"habitantes\" : 67750000,\n",
    "        \"continente\" : \"Europa\"\n",
    "}\n",
    "\n",
    "x = pais.keys()\n",
    "print(x)"
   ]
  },
  {
   "cell_type": "markdown",
   "metadata": {},
   "source": [
    "Tambien podemos actualizar datos agregando un nuevo par clave-valor"
   ]
  },
  {
   "cell_type": "code",
   "execution_count": 2,
   "metadata": {},
   "outputs": [
    {
     "name": "stdout",
     "output_type": "stream",
     "text": [
      "dict_keys(['nombre', 'capital', 'idioma', 'habitantes', 'continente', 'territorio (km2)'])\n"
     ]
    }
   ],
   "source": [
    "pais[\"territorio (km2)\"] = 675417\n",
    "\n",
    "print(x)"
   ]
  },
  {
   "cell_type": "markdown",
   "metadata": {},
   "source": [
    "## METODO POP()"
   ]
  },
  {
   "cell_type": "markdown",
   "metadata": {},
   "source": [
    "Este metodo elimina los elementos de un diccionario, especificando\n",
    "en los parametros la clave del par clave-valor del elemento\n",
    "a eliminar.\n",
    "El valor del elemento eliminado es el valor de retorno del\n",
    "metodo pop()"
   ]
  },
  {
   "cell_type": "code",
   "execution_count": 1,
   "metadata": {},
   "outputs": [
    {
     "name": "stdout",
     "output_type": "stream",
     "text": [
      "{'nombre': 'Francia', 'capital': 'Paris', 'idioma': 'frances', 'continente': 'Europa'}\n"
     ]
    }
   ],
   "source": [
    "pais = {\n",
    "        \"nombre\" : \"Francia\",\n",
    "        \"capital\" : \"Paris\",\n",
    "        \"idioma\" : \"frances\",\n",
    "        \"habitantes\" : 67750000,\n",
    "        \"continente\" : \"Europa\"\n",
    "}\n",
    "\n",
    "pais.pop(\"habitantes\")\n",
    "\n",
    "print(pais)"
   ]
  },
  {
   "cell_type": "code",
   "execution_count": 2,
   "metadata": {},
   "outputs": [
    {
     "name": "stdout",
     "output_type": "stream",
     "text": [
      "Europa\n"
     ]
    }
   ],
   "source": [
    "x = pais.pop(\"continente\")\n",
    "print(x)"
   ]
  },
  {
   "cell_type": "markdown",
   "metadata": {},
   "source": [
    "Aca en el siguiente ejemplo, se extrae el valor a partir de la clave y lo borra, aceptando el valor por defecto"
   ]
  },
  {
   "cell_type": "code",
   "execution_count": 2,
   "metadata": {},
   "outputs": [
    {
     "data": {
      "text/plain": [
       "'blue'"
      ]
     },
     "execution_count": 2,
     "metadata": {},
     "output_type": "execute_result"
    }
   ],
   "source": [
    "colores = {\n",
    "            \"azul\" : \"blue\",\n",
    "            \"amarillo\" : \"yellow\",\n",
    "            \"verde\" : \"green\"\n",
    "            }\n",
    "\n",
    "colores.pop(\"azul\",\"inexistente\")"
   ]
  },
  {
   "cell_type": "code",
   "execution_count": 3,
   "metadata": {},
   "outputs": [
    {
     "name": "stdout",
     "output_type": "stream",
     "text": [
      "{'amarillo': 'yellow', 'verde': 'green'}\n"
     ]
    }
   ],
   "source": [
    "print(colores)"
   ]
  },
  {
   "cell_type": "markdown",
   "metadata": {},
   "source": [
    "Nota: Si el parámetro valor por defecto no es especificado y el elemento con la clave buscada en el parámetro no existe, se lanza un error."
   ]
  },
  {
   "cell_type": "code",
   "execution_count": 4,
   "metadata": {},
   "outputs": [
    {
     "ename": "KeyError",
     "evalue": "'claro'",
     "output_type": "error",
     "traceback": [
      "\u001b[1;31m---------------------------------------------------------------------------\u001b[0m",
      "\u001b[1;31mKeyError\u001b[0m                                  Traceback (most recent call last)",
      "Cell \u001b[1;32mIn [4], line 7\u001b[0m\n\u001b[0;32m      1\u001b[0m contrarios \u001b[38;5;241m=\u001b[39m {\n\u001b[0;32m      2\u001b[0m                 \u001b[38;5;124m\"\u001b[39m\u001b[38;5;124mbonito\u001b[39m\u001b[38;5;124m\"\u001b[39m : \u001b[38;5;124m\"\u001b[39m\u001b[38;5;124mfeo\u001b[39m\u001b[38;5;124m\"\u001b[39m,\n\u001b[0;32m      3\u001b[0m                 \u001b[38;5;124m\"\u001b[39m\u001b[38;5;124malto\u001b[39m\u001b[38;5;124m\"\u001b[39m  : \u001b[38;5;124m\"\u001b[39m\u001b[38;5;124mbajo\u001b[39m\u001b[38;5;124m\"\u001b[39m,\n\u001b[0;32m      4\u001b[0m                 \u001b[38;5;124m\"\u001b[39m\u001b[38;5;124mrapido\u001b[39m\u001b[38;5;124m\"\u001b[39m : \u001b[38;5;124m\"\u001b[39m\u001b[38;5;124mlento\u001b[39m\u001b[38;5;124m\"\u001b[39m\n\u001b[0;32m      5\u001b[0m                 }\n\u001b[1;32m----> 7\u001b[0m \u001b[43mcontrarios\u001b[49m\u001b[38;5;241;43m.\u001b[39;49m\u001b[43mpop\u001b[49m\u001b[43m(\u001b[49m\u001b[38;5;124;43m\"\u001b[39;49m\u001b[38;5;124;43mclaro\u001b[39;49m\u001b[38;5;124;43m\"\u001b[39;49m\u001b[43m)\u001b[49m\n",
      "\u001b[1;31mKeyError\u001b[0m: 'claro'"
     ]
    }
   ],
   "source": [
    "contrarios = {\n",
    "                \"bonito\" : \"feo\",\n",
    "                \"alto\"  : \"bajo\",\n",
    "                \"rapido\" : \"lento\"\n",
    "                }\n",
    "\n",
    "contrarios.pop(\"claro\")"
   ]
  },
  {
   "cell_type": "markdown",
   "metadata": {},
   "source": [
    "## METODO POP_ITEM()"
   ]
  },
  {
   "cell_type": "markdown",
   "metadata": {},
   "source": [
    "Este metodo elimina el último elemento que fué insertado en el diccionario"
   ]
  },
  {
   "cell_type": "code",
   "execution_count": 1,
   "metadata": {},
   "outputs": [
    {
     "data": {
      "text/plain": [
       "{'nombre': 'Oscar',\n",
       " 'edad': 37,\n",
       " 'sexo': 'masculino',\n",
       " 'donacion_organos': 'False',\n",
       " 'hobbies': ['pesca', 'futbol', 'cine', 'correr']}"
      ]
     },
     "execution_count": 1,
     "metadata": {},
     "output_type": "execute_result"
    }
   ],
   "source": [
    "archivo = {\n",
    "            \"nombre\" : \"Oscar\",\n",
    "            \"edad\"  :  37,\n",
    "            \"sexo\"  : \"masculino\",\n",
    "            \"donacion_organos\" : \"False\",\n",
    "            \"hobbies\" : [\"pesca\", \"futbol\", \"cine\", \"correr\"],\n",
    "            \"estado_civil\" : \"soltero\"\n",
    "}\n",
    "\n",
    "archivo.popitem()\n",
    "\n",
    "archivo"
   ]
  },
  {
   "cell_type": "markdown",
   "metadata": {},
   "source": [
    "NOTA: En versiones anteriores a python 3.7 el método popitem() eliminaba un elemento al azar.\n",
    "        El elemento eliminado es el valor de retorno del método popitem() como una tupla."
   ]
  },
  {
   "cell_type": "markdown",
   "metadata": {},
   "source": [
    "## METODO SETDEFAULT()"
   ]
  },
  {
   "cell_type": "markdown",
   "metadata": {},
   "source": [
    "Este método hace que si se introduce una clave en dicho método devuelve el valor asociada a esa clave;\n",
    "si la clave no existe la agrega con el valor por defecto que se le especifique."
   ]
  },
  {
   "cell_type": "code",
   "execution_count": 2,
   "metadata": {},
   "outputs": [
    {
     "data": {
      "text/plain": [
       "37"
      ]
     },
     "execution_count": 2,
     "metadata": {},
     "output_type": "execute_result"
    }
   ],
   "source": [
    "archivo = {\n",
    "            \"nombre\" : \"Oscar\",\n",
    "            \"edad\"  :  37,\n",
    "            \"sexo\"  : \"masculino\",\n",
    "            \"donacion_organos\" : \"False\",\n",
    "            \"hobbies\" : [\"pesca\", \"futbol\", \"cine\", \"correr\"],\n",
    "            \"estado_civil\" : \"soltero\"\n",
    "}\n",
    "\n",
    "archivo.setdefault(\"edad\")"
   ]
  },
  {
   "cell_type": "markdown",
   "metadata": {},
   "source": [
    "Por mas que se le quiera cambiar el valor a una clave ya existente, con este método no se podrá realizarlo."
   ]
  },
  {
   "cell_type": "code",
   "execution_count": 3,
   "metadata": {},
   "outputs": [
    {
     "data": {
      "text/plain": [
       "{'nombre': 'Oscar',\n",
       " 'edad': 37,\n",
       " 'sexo': 'masculino',\n",
       " 'donacion_organos': 'False',\n",
       " 'hobbies': ['pesca', 'futbol', 'cine', 'correr'],\n",
       " 'estado_civil': 'soltero'}"
      ]
     },
     "execution_count": 3,
     "metadata": {},
     "output_type": "execute_result"
    }
   ],
   "source": [
    "archivo.setdefault(\"estado_civil\", \"casado\")\n",
    "archivo"
   ]
  },
  {
   "cell_type": "markdown",
   "metadata": {},
   "source": [
    "Como se explicó anteriormente, si la clave no existe se le agrega con el valor especificado."
   ]
  },
  {
   "cell_type": "code",
   "execution_count": 4,
   "metadata": {},
   "outputs": [
    {
     "data": {
      "text/plain": [
       "{'nombre': 'Oscar',\n",
       " 'edad': 37,\n",
       " 'sexo': 'masculino',\n",
       " 'donacion_organos': 'False',\n",
       " 'hobbies': ['pesca', 'futbol', 'cine', 'correr'],\n",
       " 'estado_civil': 'soltero',\n",
       " 'grupo_sanguineo': 'O+'}"
      ]
     },
     "execution_count": 4,
     "metadata": {},
     "output_type": "execute_result"
    }
   ],
   "source": [
    "archivo.setdefault(\"grupo_sanguineo\", \"O+\")\n",
    "archivo"
   ]
  },
  {
   "cell_type": "markdown",
   "metadata": {},
   "source": [
    "## METODO UPDATE()"
   ]
  },
  {
   "cell_type": "markdown",
   "metadata": {},
   "source": [
    "Este método inserta elementos (pares clave-valor) en un diccionario, estos elementos pueden ser otros diccionarios o un objeto iterable."
   ]
  },
  {
   "cell_type": "code",
   "execution_count": 8,
   "metadata": {},
   "outputs": [
    {
     "data": {
      "text/plain": [
       "{'nombre': 'Oscar',\n",
       " 'edad': 37,\n",
       " 'sexo': 'masculino',\n",
       " 'donacion_organos': 'False',\n",
       " 'hobbies': ['pesca', 'futbol', 'cine', 'correr'],\n",
       " 'estado_civil': 'soltero',\n",
       " 'peso': '70 kg'}"
      ]
     },
     "execution_count": 8,
     "metadata": {},
     "output_type": "execute_result"
    }
   ],
   "source": [
    "archivo = {\n",
    "            \"nombre\" : \"Oscar\",\n",
    "            \"edad\"  :  37,\n",
    "            \"sexo\"  : \"masculino\",\n",
    "            \"donacion_organos\" : \"False\",\n",
    "            \"hobbies\" : [\"pesca\", \"futbol\", \"cine\", \"correr\"],\n",
    "            \"estado_civil\" : \"soltero\"\n",
    "}\n",
    "\n",
    "archivo.update({\"peso\" : \"70 kg\"})\n",
    "archivo"
   ]
  },
  {
   "cell_type": "markdown",
   "metadata": {},
   "source": [
    "Aqui agregando otro diccionario con mas de un elemento"
   ]
  },
  {
   "cell_type": "code",
   "execution_count": 10,
   "metadata": {},
   "outputs": [
    {
     "data": {
      "text/plain": [
       "{'nombre': 'Oscar',\n",
       " 'edad': 37,\n",
       " 'sexo': 'masculino',\n",
       " 'donacion_organos': 'False',\n",
       " 'hobbies': ['pesca', 'futbol', 'cine', 'correr'],\n",
       " 'estado_civil': 'soltero',\n",
       " 'peso': '70 kg',\n",
       " 'direccion': 'Av. Paz 123 ciudad Gotica 3-1',\n",
       " 'telefono': '1234-56789',\n",
       " 'codigo_postal': '328-1464'}"
      ]
     },
     "execution_count": 10,
     "metadata": {},
     "output_type": "execute_result"
    }
   ],
   "source": [
    "archivo.update({\"direccion\" : \"Av. Paz 123 ciudad Gotica 3-1\", \"telefono\" : \"1234-56789\", \"codigo_postal\" : \"328-1464\"})\n",
    "archivo"
   ]
  },
  {
   "cell_type": "markdown",
   "metadata": {},
   "source": [
    "NOTA: A diferencia del método setdefault, aqui si se le agrega un par clave-valor con una clave ya existente pero con otro valor diferente, dicho\n",
    "        valor cambiará; es decir se actualizará, se tendria que tener cuidado con este detalle."
   ]
  },
  {
   "cell_type": "code",
   "execution_count": 11,
   "metadata": {},
   "outputs": [
    {
     "data": {
      "text/plain": [
       "{'nombre': 'Oscar',\n",
       " 'edad': 37,\n",
       " 'sexo': 'masculino',\n",
       " 'donacion_organos': 'False',\n",
       " 'hobbies': ['pesca', 'futbol', 'cine', 'correr'],\n",
       " 'estado_civil': 'casado'}"
      ]
     },
     "execution_count": 11,
     "metadata": {},
     "output_type": "execute_result"
    }
   ],
   "source": [
    "archivo = {\n",
    "            \"nombre\" : \"Oscar\",\n",
    "            \"edad\"  :  37,\n",
    "            \"sexo\"  : \"masculino\",\n",
    "            \"donacion_organos\" : \"False\",\n",
    "            \"hobbies\" : [\"pesca\", \"futbol\", \"cine\", \"correr\"],\n",
    "            \"estado_civil\" : \"soltero\"\n",
    "}\n",
    "\n",
    "archivo.update({\"estado_civil\" : \"casado\"})\n",
    "archivo"
   ]
  },
  {
   "cell_type": "markdown",
   "metadata": {},
   "source": [
    "## METODO VALUES()"
   ]
  },
  {
   "cell_type": "markdown",
   "metadata": {},
   "source": [
    "Este método retorna un objeto la cual contiene los valores de un diccionario en una lista, dicho objeto\n",
    "reflejará cualquier cambio hecho en el diccionario."
   ]
  },
  {
   "cell_type": "code",
   "execution_count": 13,
   "metadata": {},
   "outputs": [
    {
     "name": "stdout",
     "output_type": "stream",
     "text": [
      "dict_values(['Oscar', 37, 'masculino', 'False', ['pesca', 'futbol', 'cine', 'correr'], 'soltero'])\n"
     ]
    }
   ],
   "source": [
    "archivo = {\n",
    "            \"nombre\" : \"Oscar\",\n",
    "            \"edad\"  :  37,\n",
    "            \"sexo\"  : \"masculino\",\n",
    "            \"donacion_organos\" : \"False\",\n",
    "            \"hobbies\" : [\"pesca\", \"futbol\", \"cine\", \"correr\"],\n",
    "            \"estado_civil\" : \"soltero\"\n",
    "}\n",
    "\n",
    "print(archivo.values())\n"
   ]
  },
  {
   "cell_type": "code",
   "execution_count": 14,
   "metadata": {},
   "outputs": [
    {
     "name": "stdout",
     "output_type": "stream",
     "text": [
      "dict_values(['Oscar', 37, 'masculino', 'True', ['pesca', 'futbol', 'cine', 'correr'], 'soltero'])\n"
     ]
    }
   ],
   "source": [
    "archivo[\"donacion_organos\"] = \"True\"\n",
    "print(archivo.values())"
   ]
  }
 ],
 "metadata": {
  "kernelspec": {
   "display_name": "Python 3",
   "language": "python",
   "name": "python3"
  },
  "language_info": {
   "codemirror_mode": {
    "name": "ipython",
    "version": 3
   },
   "file_extension": ".py",
   "mimetype": "text/x-python",
   "name": "python",
   "nbconvert_exporter": "python",
   "pygments_lexer": "ipython3",
   "version": "3.10.7"
  }
 },
 "nbformat": 4,
 "nbformat_minor": 2
}
