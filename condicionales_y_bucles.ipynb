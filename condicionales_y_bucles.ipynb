{
 "cells": [
  {
   "cell_type": "markdown",
   "metadata": {},
   "source": [
    "# CONDICIONALES"
   ]
  },
  {
   "cell_type": "markdown",
   "metadata": {},
   "source": [
    "## Uso de if"
   ]
  },
  {
   "cell_type": "code",
   "execution_count": 2,
   "metadata": {},
   "outputs": [
    {
     "name": "stdout",
     "output_type": "stream",
     "text": [
      "8 es mayor que 5\n"
     ]
    }
   ],
   "source": [
    "i = 8\n",
    "\n",
    "if (i>5):\n",
    "    print(f\"{i} es mayor que 5\")\n",
    "    "
   ]
  },
  {
   "cell_type": "markdown",
   "metadata": {},
   "source": [
    "## Nota: Si no se cumple la condicion dentro de la sentencia if; no se realizara ninguna accion. "
   ]
  },
  {
   "cell_type": "code",
   "execution_count": 1,
   "metadata": {},
   "outputs": [],
   "source": [
    "i = 3\n",
    "\n",
    "if (i > 10):\n",
    "    print(\"El numero i es mayor que 10\")"
   ]
  },
  {
   "cell_type": "markdown",
   "metadata": {},
   "source": [
    "## Uso de if - else"
   ]
  },
  {
   "cell_type": "code",
   "execution_count": 3,
   "metadata": {},
   "outputs": [
    {
     "name": "stdout",
     "output_type": "stream",
     "text": [
      "10 es menor o igual a 15\n"
     ]
    }
   ],
   "source": [
    "j = 10\n",
    "\n",
    "if (j > 15):\n",
    "    print(f\"{j} es mayor que 15\")\n",
    "    \n",
    "else:\n",
    "    print(f\"{j} es menor o igual a 15\")"
   ]
  },
  {
   "cell_type": "markdown",
   "metadata": {},
   "source": [
    "## Uso de if - elif - else"
   ]
  },
  {
   "cell_type": "code",
   "execution_count": 5,
   "metadata": {},
   "outputs": [
    {
     "name": "stdout",
     "output_type": "stream",
     "text": [
      "La longitud de la palabra camioneta es larga\n"
     ]
    }
   ],
   "source": [
    "palabra = \"camioneta\"\n",
    "\n",
    "if len(palabra) < 4:\n",
    "    print(f\"La longitud de la palabra {palabra} es corta\")\n",
    "elif len(palabra) < 7:\n",
    "    print(f\"La longitud de la palabra {palabra} es mediana\")\n",
    "else:\n",
    "    print(f\"La longitud de la palabra {palabra} es larga\")\n",
    "    "
   ]
  },
  {
   "cell_type": "markdown",
   "metadata": {},
   "source": [
    "## Uso de match - case"
   ]
  },
  {
   "cell_type": "code",
   "execution_count": 6,
   "metadata": {},
   "outputs": [
    {
     "name": "stdout",
     "output_type": "stream",
     "text": [
      "Ingrese dia de hoy\n",
      "jueves\n",
      "El menu es huevo frito\n"
     ]
    }
   ],
   "source": [
    "print(\"Ingrese dia de hoy\")\n",
    "info = input(\"Ingrese dia\")\n",
    "print(info)\n",
    "\n",
    "match info:\n",
    "    case \"lunes\":\n",
    "        print(\"El menu es pollo frito\")\n",
    "        \n",
    "    case \"martes\":\n",
    "        print(\"El menu es arroz con pollo\")\n",
    "        \n",
    "    case \"miercoles\":\n",
    "        print(\"El menu es pescado frito\")\n",
    "        \n",
    "    case \"jueves\":\n",
    "        print(\"El menu es huevo frito\")\n",
    "        \n",
    "    case \"viernes\":\n",
    "        print(\"El menu es pollo al vino\")\n",
    "        \n",
    "    case _:\n",
    "        print(\"Ingrese dia entre lunes a viernes\")\n",
    "        "
   ]
  },
  {
   "cell_type": "markdown",
   "metadata": {},
   "source": [
    "# BUCLES"
   ]
  },
  {
   "cell_type": "markdown",
   "metadata": {},
   "source": [
    "## Uso de for"
   ]
  },
  {
   "cell_type": "code",
   "execution_count": 6,
   "metadata": {},
   "outputs": [
    {
     "name": "stdout",
     "output_type": "stream",
     "text": [
      "5\n",
      "6\n",
      "7\n",
      "8\n",
      "9\n"
     ]
    }
   ],
   "source": [
    "for i in range(5, 10):\n",
    "    print(i)"
   ]
  },
  {
   "cell_type": "markdown",
   "metadata": {},
   "source": [
    "## Uso de while"
   ]
  },
  {
   "cell_type": "code",
   "execution_count": 8,
   "metadata": {},
   "outputs": [
    {
     "name": "stdout",
     "output_type": "stream",
     "text": [
      "0 es menor que 5\n",
      "1 es menor que 5\n",
      "2 es menor que 5\n",
      "3 es menor que 5\n",
      "4 es menor que 5\n"
     ]
    }
   ],
   "source": [
    "n = 0\n",
    "while (n < 5):\n",
    "    print (f\"{n} es menor que 5\")\n",
    "    n += 1"
   ]
  },
  {
   "cell_type": "markdown",
   "metadata": {},
   "source": [
    "## Uso de break"
   ]
  },
  {
   "cell_type": "code",
   "execution_count": 10,
   "metadata": {},
   "outputs": [
    {
     "name": "stdout",
     "output_type": "stream",
     "text": [
      "ab no es un numero\n",
      "La suma hasta antes del primer elemento no numerico es 7\n"
     ]
    }
   ],
   "source": [
    "lista = [2, 5, \"ab\", 4, \"3\", -1]\n",
    "suma = 0\n",
    "\n",
    "for elemento in lista:\n",
    "    if not isinstance (elemento, int):\n",
    "        print(elemento, \"no es un numero\")\n",
    "        break\n",
    "    suma += elemento\n",
    "print(f\"La suma hasta antes del primer elemento no numerico es {sum}\")"
   ]
  },
  {
   "cell_type": "markdown",
   "metadata": {},
   "source": [
    "## Uso de continue"
   ]
  },
  {
   "cell_type": "code",
   "execution_count": 11,
   "metadata": {},
   "outputs": [
    {
     "name": "stdout",
     "output_type": "stream",
     "text": [
      "ab no es un numero\n",
      "3 no es un numero\n",
      "La suma de todos los valores de tipo int es 10\n"
     ]
    }
   ],
   "source": [
    "lista = [2, 5, \"ab\", 4, \"3\", -1]\n",
    "suma = 0\n",
    "\n",
    "for elemento in lista:\n",
    "    if not isinstance (elemento, int):\n",
    "        print(f\"{elemento} no es un numero\")\n",
    "        continue\n",
    "    suma += elemento\n",
    "print(f\"La suma de todos los valores de tipo int es {suma}\")"
   ]
  },
  {
   "cell_type": "code",
   "execution_count": 2,
   "metadata": {},
   "outputs": [
    {
     "name": "stdout",
     "output_type": "stream",
     "text": [
      "1 3 5 7 9 "
     ]
    }
   ],
   "source": [
    "for i in range(1,20):\n",
    "    if (i % 2) == 1:\n",
    "        print(i, end= \" \")\n",
    "        continue\n",
    "    if (i % 5) == 0:\n",
    "        break "
   ]
  },
  {
   "cell_type": "markdown",
   "metadata": {},
   "source": [
    "## Uso de for - else"
   ]
  },
  {
   "cell_type": "code",
   "execution_count": 3,
   "metadata": {},
   "outputs": [
    {
     "name": "stdout",
     "output_type": "stream",
     "text": [
      "No hay ningun numero par en la lista\n"
     ]
    }
   ],
   "source": [
    "lista = [1,3,5,7,9]\n",
    "\n",
    "for num in lista:\n",
    "    if num % 2 == 0:\n",
    "        print(f\"En la lista el primer par encontrado es {num}\")\n",
    "        break\n",
    "\n",
    "else: \n",
    "    print(\"No hay ningun numero par en la lista\")"
   ]
  },
  {
   "cell_type": "markdown",
   "metadata": {},
   "source": [
    "## Uso de while - else"
   ]
  },
  {
   "cell_type": "code",
   "execution_count": 6,
   "metadata": {},
   "outputs": [
    {
     "name": "stdout",
     "output_type": "stream",
     "text": [
      "Has acertado el numero secreto es 8!\n"
     ]
    }
   ],
   "source": [
    "# Vamos a hacer un juego que consiste en adivinar un numero y tienes 4 chances\n",
    "\n",
    "from random import randint\n",
    "chances = 4\n",
    "num_secreto = randint(1,9)\n",
    "\n",
    "while chances > 0:\n",
    "    \n",
    "    num_pedido = int(input(\"Ingrese numero entre 1 y 12\"))\n",
    "    if num_secreto == num_pedido:\n",
    "        print(f\"Has acertado el numero secreto es {num_secreto}!\")\n",
    "        break\n",
    "    \n",
    "    chances -= 1\n",
    "    \n",
    "else: \n",
    "    print(\"Perdistes el juego\")\n",
    "    "
   ]
  },
  {
   "cell_type": "markdown",
   "metadata": {},
   "source": [
    "## Nota: El bloque de codigo del else no se ejecutara si el bucle ya sea for   o while acaba con la sentencia break."
   ]
  }
 ],
 "metadata": {
  "kernelspec": {
   "display_name": "Python 3",
   "language": "python",
   "name": "python3"
  },
  "language_info": {
   "codemirror_mode": {
    "name": "ipython",
    "version": 3
   },
   "file_extension": ".py",
   "mimetype": "text/x-python",
   "name": "python",
   "nbconvert_exporter": "python",
   "pygments_lexer": "ipython3",
   "version": "3.10.7"
  }
 },
 "nbformat": 4,
 "nbformat_minor": 2
}
