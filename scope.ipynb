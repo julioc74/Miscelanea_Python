{
 "cells": [
  {
   "cell_type": "markdown",
   "metadata": {},
   "source": [
    " <p style=\"font-size: 50px; text-align:center;\">SCOPE (ámbito de las variables)</p>"
   ]
  },
  {
   "cell_type": "markdown",
   "metadata": {},
   "source": [
    "## En python hay 3 ámbitos de variables y son: local, global y nonlocal  "
   ]
  },
  {
   "cell_type": "markdown",
   "metadata": {},
   "source": [
    "\n",
    "En este caso si hacemos la llamada a la función outer(), éste ejecutará primero la función inner() e imprimirá \"inner: nonlocal\" ya que la variable message aca dentro de\n",
    "la función inner() contiene el valor 'nonlocal'; y luego cuando ejecutamos print(\"outer:\", message) imprimirá \"outer: local\" ya que la variable de la función outer message\n",
    "contiene el valor de 'local', nótese que tanto la variable message de inner() y la variable message de outer() son dos variables diferentes, osea son dos referencias distintas.\n",
    "<p style=\"font-size: 50px;  text-align:center;\">⬇️</p>"
   ]
  },
  {
   "cell_type": "code",
   "execution_count": 1,
   "metadata": {},
   "outputs": [
    {
     "name": "stdout",
     "output_type": "stream",
     "text": [
      "inner: nonlocal\n",
      "outer: local\n"
     ]
    }
   ],
   "source": [
    "def outer():\n",
    "    \n",
    "    message = 'local'\n",
    "    \n",
    "    def inner():\n",
    "        \n",
    "        message = 'nonlocal'\n",
    "        print(\"inner:\", message)\n",
    "        \n",
    "    inner()\n",
    "    print(\"outer:\", message)\n",
    "    \n",
    "outer()"
   ]
  },
  {
   "cell_type": "markdown",
   "metadata": {},
   "source": [
    "Con la expresión \"nonlocal message\" lo que hace es una referencia a la variable message de la función outer(), es decir a \"message = 'local'\"; por lo que la variable message\n",
    "contendrá el valor de 'local'\n",
    "<p style=\"font-size: 50px;  text-align:center;\">⬇️</p>"
   ]
  },
  {
   "cell_type": "code",
   "execution_count": 2,
   "metadata": {},
   "outputs": [
    {
     "name": "stdout",
     "output_type": "stream",
     "text": [
      "inner: local\n",
      "outer: local\n"
     ]
    }
   ],
   "source": [
    "def outer():\n",
    "    message = 'local'\n",
    "    \n",
    "    def inner():\n",
    "        nonlocal message\n",
    "        print(\"inner:\", message)\n",
    "        \n",
    "    inner()\n",
    "    print(\"outer:\", message)\n",
    "    \n",
    "outer()"
   ]
  },
  {
   "cell_type": "markdown",
   "metadata": {},
   "source": [
    "Con la expresión \"nonlocal message\" dentro de la función inner() se hace una referencia a la variable message de la función outer(), pero luego en la siguiente \n",
    "linea \"message = 'nonlocal'\" le decimos que cambie el contenido de esa referencia de 'local' a 'nonlocal'\n",
    "<p style=\"font-size: 50px;  text-align:center;\">⬇️</p>"
   ]
  },
  {
   "cell_type": "code",
   "execution_count": 3,
   "metadata": {},
   "outputs": [
    {
     "name": "stdout",
     "output_type": "stream",
     "text": [
      "inner: nonlocal\n",
      "outer: nonlocal\n"
     ]
    }
   ],
   "source": [
    "def outer():\n",
    "    message = 'local'\n",
    "    \n",
    "    def inner():\n",
    "        nonlocal message\n",
    "        message = 'nonlocal'\n",
    "        print(\"inner:\", message)\n",
    "        \n",
    "    inner()\n",
    "    print(\"outer:\", message)\n",
    "    \n",
    "outer()"
   ]
  },
  {
   "cell_type": "markdown",
   "metadata": {},
   "source": [
    "## Funciones y Ámbito de Variables<br>\n",
    "🔹 Local:&nbsp;  Se usa en casi todas las funciones para definir variables temporales.<br>\n",
    "🔹 Global:&nbsp;  Se usa para compartir datos entre funciones sin pasarlos como parámetros.<br>\n",
    "🔹 Nonlocal:&nbsp;  Se usa en funciones anidadas para modificar variables de un nivel intermedio.<br>"
   ]
  },
  {
   "cell_type": "code",
   "execution_count": 2,
   "metadata": {},
   "outputs": [
    {
     "name": "stdout",
     "output_type": "stream",
     "text": [
      "10\n"
     ]
    },
    {
     "ename": "NameError",
     "evalue": "name 'x' is not defined",
     "output_type": "error",
     "traceback": [
      "\u001b[1;31m---------------------------------------------------------------------------\u001b[0m",
      "\u001b[1;31mNameError\u001b[0m                                 Traceback (most recent call last)",
      "Cell \u001b[1;32mIn [2], line 6\u001b[0m\n\u001b[0;32m      3\u001b[0m     \u001b[38;5;28mprint\u001b[39m(x)\n\u001b[0;32m      5\u001b[0m funcion()\n\u001b[1;32m----> 6\u001b[0m \u001b[38;5;28mprint\u001b[39m(\u001b[43mx\u001b[49m)\n",
      "\u001b[1;31mNameError\u001b[0m: name 'x' is not defined"
     ]
    }
   ],
   "source": [
    "def funcion():\n",
    "    x = 10  # Variable local\n",
    "    print(x)\n",
    "\n",
    "funcion()\n",
    "print(x) #  ❌ Esto da error porque x no existe fuera de la función.   "
   ]
  },
  {
   "cell_type": "code",
   "execution_count": 7,
   "metadata": {},
   "outputs": [
    {
     "name": "stdout",
     "output_type": "stream",
     "text": [
      "10\n",
      "10\n"
     ]
    }
   ],
   "source": [
    "x = 10  # Variable global\n",
    "\n",
    "def funcion():\n",
    "    print(x)  # Se puede leer una variable global dentro de una función\n",
    "\n",
    "funcion()  # ✅ Imprime 10\n",
    "print(x)  # ✅ También imprime 10"
   ]
  },
  {
   "cell_type": "code",
   "execution_count": 8,
   "metadata": {},
   "outputs": [
    {
     "name": "stdout",
     "output_type": "stream",
     "text": [
      "modificado\n"
     ]
    }
   ],
   "source": [
    "def outer():\n",
    "    x = \"original\"  # Variable en un ámbito intermedio (ni local ni global)\n",
    "\n",
    "    def inner():\n",
    "        nonlocal x  # Modifica x en outer()\n",
    "        x = \"modificado\"\n",
    "    \n",
    "    inner()\n",
    "    print(x)  # ✅ Imprime \"modificado\"\n",
    "\n",
    "outer()"
   ]
  },
  {
   "cell_type": "markdown",
   "metadata": {},
   "source": [
    "## Resúmen<br>\n",
    "\n",
    "| **Tipo**     | **Cuando se debe usar**                                                               | **<p style=\"text-align: center;\"> Precauciones </p>**|\n",
    "|:-------------|:-------------------------------------------------------------------------------------:|-----------------------------------------------------:|\n",
    "| Local        | Cuando la variable solo se necesita dentro de una función.                            | No accesible fuera de la función.                    |\n",
    "| Global       | Cuando el valor debe mantenerse en todo el programa.                                  | Puede generar efectos secundarios.                   |\n",
    "| Nonlocal     | Cuando se necesita modificar una variable en una función externa pero no global.      | Puede hacer el código menos claro.                   |"
   ]
  },
  {
   "cell_type": "markdown",
   "metadata": {},
   "source": [
    "## En general, las variables locales son la mejor opción en la mayoría de los casos porque aíslan la lógica y evitan conflictos. Las globales y nonlocales deben usarse con cuidado."
   ]
  }
 ],
 "metadata": {
  "kernelspec": {
   "display_name": "Python 3",
   "language": "python",
   "name": "python3"
  },
  "language_info": {
   "codemirror_mode": {
    "name": "ipython",
    "version": 3
   },
   "file_extension": ".py",
   "mimetype": "text/x-python",
   "name": "python",
   "nbconvert_exporter": "python",
   "pygments_lexer": "ipython3",
   "version": "3.10.7"
  }
 },
 "nbformat": 4,
 "nbformat_minor": 2
}
