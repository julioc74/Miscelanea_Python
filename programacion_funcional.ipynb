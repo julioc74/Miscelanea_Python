{
 "cells": [
  {
   "cell_type": "markdown",
   "metadata": {},
   "source": [
    "# LAMBDA"
   ]
  },
  {
   "cell_type": "code",
   "execution_count": 7,
   "metadata": {},
   "outputs": [
    {
     "name": "stdout",
     "output_type": "stream",
     "text": [
      "10\n"
     ]
    }
   ],
   "source": [
    "\n",
    "dobles = (lambda x: x * 2)\n",
    "print(dobles(5))"
   ]
  },
  {
   "cell_type": "code",
   "execution_count": 10,
   "metadata": {},
   "outputs": [
    {
     "data": {
      "text/plain": [
       "20"
      ]
     },
     "execution_count": 10,
     "metadata": {},
     "output_type": "execute_result"
    }
   ],
   "source": [
    "producto = (lambda x, y: x * y)(5,4)\n",
    "producto"
   ]
  },
  {
   "cell_type": "code",
   "execution_count": 11,
   "metadata": {},
   "outputs": [
    {
     "name": "stdout",
     "output_type": "stream",
     "text": [
      "mayor de edad\n"
     ]
    }
   ],
   "source": [
    "adulto = lambda edad: \"mayor de edad\" if edad > 18 else \"menor de edad\"\n",
    "print(adulto(22))"
   ]
  },
  {
   "cell_type": "code",
   "execution_count": 12,
   "metadata": {},
   "outputs": [
    {
     "name": "stdout",
     "output_type": "stream",
     "text": [
      "menor de edad\n"
     ]
    }
   ],
   "source": [
    "print(adulto(12))"
   ]
  },
  {
   "cell_type": "code",
   "execution_count": null,
   "metadata": {},
   "outputs": [
    {
     "data": {
      "text/plain": [
       "[(5, 'cinco'), (4, 'cuatro'), (2, 'dos'), (3, 'tres'), (1, 'uno')]"
      ]
     },
     "execution_count": 1,
     "metadata": {},
     "output_type": "execute_result"
    }
   ],
   "source": [
    "# Ordenado por índice alfabetico mediante el parámetro key  \n",
    "parejas = [(1, \"uno\"), (2, \"dos\"), (3, \"tres\"), (4, \"cuatro\"), (5, \"cinco\")]\n",
    "parejas.sort(key=lambda pareja: pareja[1])\n",
    "parejas"
   ]
  },
  {
   "cell_type": "markdown",
   "metadata": {},
   "source": [
    "## usando la función lambda junto con otras funciones especiales en este caso la función filter "
   ]
  },
  {
   "cell_type": "code",
   "execution_count": 38,
   "metadata": {},
   "outputs": [
    {
     "data": {
      "text/plain": [
       "['Tokyo', 'New York', 'Paris']"
      ]
     },
     "execution_count": 38,
     "metadata": {},
     "output_type": "execute_result"
    }
   ],
   "source": [
    "ciudades = [\"Tokyo\", \"Roma\", \"New York\", \"Rio\", \"Paris\" ]\n",
    "\n",
    "ciudades2 = list(filter(lambda ciudad: len(ciudad) > 4, ciudades))\n",
    "ciudades2\n"
   ]
  },
  {
   "cell_type": "markdown",
   "metadata": {},
   "source": [
    "# MAP"
   ]
  },
  {
   "cell_type": "code",
   "execution_count": 16,
   "metadata": {},
   "outputs": [
    {
     "name": "stdout",
     "output_type": "stream",
     "text": [
      "[3, 3, 5, 8, 11]\n"
     ]
    }
   ],
   "source": [
    "import math \n",
    "\n",
    "num = [10, 9, 25, 70, 121]\n",
    "cuadrados = list(map(math.sqrt, num))\n",
    "red = list(map(round, cuadrados))\n",
    "print(red)"
   ]
  },
  {
   "cell_type": "code",
   "execution_count": 4,
   "metadata": {},
   "outputs": [
    {
     "name": "stdout",
     "output_type": "stream",
     "text": [
      "[23.0, 23.8, 23.0, 26.4]\n"
     ]
    }
   ],
   "source": [
    "# las siguientes listas son las temperaturas de lunes a viernes de una \n",
    "# determinada semana en ºC de las siguientes ciudades \n",
    "\n",
    "ny = [23, 27, 22, 21, 22]\n",
    "tokyo = [25, 23, 23, 22, 26]\n",
    "paris = [24, 26, 24, 21, 20]\n",
    "rio = [27, 26, 28, 25, 26]\n",
    "\n",
    "ciudades = [ny, tokyo, paris, rio]\n",
    "\n",
    "def prom(lista):\n",
    "    suma = 0\n",
    "    for elem in lista:\n",
    "        suma += elem\n",
    "    promedio = suma/len(lista)\n",
    "    return promedio\n",
    "  \n",
    "temperaturas = list(map(prom, ciudades))     \n",
    "print(temperaturas)    "
   ]
  },
  {
   "cell_type": "code",
   "execution_count": 6,
   "metadata": {},
   "outputs": [
    {
     "data": {
      "text/plain": [
       "[5, 2, 4, 8, 12]"
      ]
     },
     "execution_count": 6,
     "metadata": {},
     "output_type": "execute_result"
    }
   ],
   "source": [
    "palabras = [\"silla\", \"tv\", \"auto\", \"gimnasio\", \"estratosfera\"]\n",
    "\n",
    "\n",
    "numero_letras = list(map(lambda x: len(x) , palabras))\n",
    "numero_letras"
   ]
  },
  {
   "cell_type": "code",
   "execution_count": 7,
   "metadata": {},
   "outputs": [
    {
     "data": {
      "text/plain": [
       "[77.0, 64.4, 89.6, 91.4, 68.0, 84.2, 53.6]"
      ]
     },
     "execution_count": 7,
     "metadata": {},
     "output_type": "execute_result"
    }
   ],
   "source": [
    "temp_en_celsius = [25, 18, 32, 33, 20, 29, 12]\n",
    "\n",
    "temp_en_fahrenheit = list(map(lambda c: 9*c / 5 + 32, temp_en_celsius))\n",
    "temp_en_fahrenheit\n",
    "    "
   ]
  },
  {
   "cell_type": "code",
   "execution_count": 9,
   "metadata": {},
   "outputs": [
    {
     "name": "stdout",
     "output_type": "stream",
     "text": [
      "[6, 12, 30]\n"
     ]
    }
   ],
   "source": [
    "lista1 = [2, 5, 10]\n",
    "lista2 = [4, 7, 20]\n",
    "\n",
    "suma_listas = list(map(lambda a, b: a + b, lista1, lista2))\n",
    "print(suma_listas)"
   ]
  },
  {
   "cell_type": "markdown",
   "metadata": {},
   "source": [
    "# FILTER"
   ]
  },
  {
   "cell_type": "code",
   "execution_count": 1,
   "metadata": {},
   "outputs": [
    {
     "data": {
      "text/plain": [
       "[8, 22, 14]"
      ]
     },
     "execution_count": 1,
     "metadata": {},
     "output_type": "execute_result"
    }
   ],
   "source": [
    "lista = [3, 8, 22, 11, 14, 5, 17]\n",
    "\n",
    "pares = list(filter(lambda x: x % 2 == 0, lista))\n",
    "pares"
   ]
  },
  {
   "cell_type": "markdown",
   "metadata": {},
   "source": [
    "## Usando la función anónima lambda"
   ]
  },
  {
   "cell_type": "code",
   "execution_count": 15,
   "metadata": {},
   "outputs": [
    {
     "name": "stdout",
     "output_type": "stream",
     "text": [
      "['Jose', 'Julio']\n"
     ]
    }
   ],
   "source": [
    "nombres = [\"Jose\", \"Luis\", \"Ana\", \"Pepe\", \"Julio\", \"Roberto\"]\n",
    "\n",
    "nombres_con_j = list(filter(lambda nombre: nombre[0] == \"J\", nombres))\n",
    "print (nombres_con_j)"
   ]
  },
  {
   "cell_type": "markdown",
   "metadata": {},
   "source": [
    "## Sin usar la funcion lambda"
   ]
  },
  {
   "cell_type": "code",
   "execution_count": 27,
   "metadata": {},
   "outputs": [
    {
     "data": {
      "text/plain": [
       "['Jose', 'Julio']"
      ]
     },
     "execution_count": 27,
     "metadata": {},
     "output_type": "execute_result"
    }
   ],
   "source": [
    "nombres = [\"Jose\", \"Luis\", \"Ana\", \"Pepe\", \"Julio\", \"Roberto\"]\n",
    "\n",
    "def nombres_con_j (nombre):\n",
    "    return nombre[0] == \"J\"\n",
    "    \n",
    "    \n",
    "lista_j = list(filter(nombres_con_j, nombres))    \n",
    "lista_j"
   ]
  },
  {
   "cell_type": "code",
   "execution_count": 20,
   "metadata": {},
   "outputs": [
    {
     "name": "stdout",
     "output_type": "stream",
     "text": [
      "['Maria', 'Jose', 'Luis', 'Juan']\n"
     ]
    }
   ],
   "source": [
    "datos = {\"Maria\": 23, \"Jose\": 30, \"Luis\": 21, \"Pepe\": 17, \"Ana\": 15, \"Juan\": 20}\n",
    "mayores_de_edad = list(filter(lambda nombre: datos[nombre] > 18, datos))\n",
    "print(mayores_de_edad)"
   ]
  },
  {
   "cell_type": "markdown",
   "metadata": {},
   "source": [
    "# REDUCE"
   ]
  },
  {
   "cell_type": "code",
   "execution_count": 41,
   "metadata": {},
   "outputs": [
    {
     "data": {
      "text/plain": [
       "58"
      ]
     },
     "execution_count": 41,
     "metadata": {},
     "output_type": "execute_result"
    }
   ],
   "source": [
    "import functools\n",
    "nums = [2, 5, 23, 11, 14, 3]\n",
    "\n",
    "x = functools.reduce(lambda a,b : a+b, nums)\n",
    "x"
   ]
  },
  {
   "cell_type": "markdown",
   "metadata": {},
   "source": [
    "# ACCUMULATE"
   ]
  },
  {
   "cell_type": "code",
   "execution_count": 44,
   "metadata": {},
   "outputs": [
    {
     "data": {
      "text/plain": [
       "[2, 7, 30, 41, 55, 58]"
      ]
     },
     "execution_count": 44,
     "metadata": {},
     "output_type": "execute_result"
    }
   ],
   "source": [
    "import itertools\n",
    "nums = [2, 5, 23, 11, 14, 3]\n",
    "\n",
    "x = list(itertools.accumulate(nums, lambda a,b: a+b))\n",
    "x"
   ]
  },
  {
   "cell_type": "markdown",
   "metadata": {},
   "source": [
    "# ZIP"
   ]
  },
  {
   "cell_type": "code",
   "execution_count": 2,
   "metadata": {},
   "outputs": [
    {
     "name": "stdout",
     "output_type": "stream",
     "text": [
      "[('Jose', 23), ('Pepe', 27), ('Maria', 32), ('Ana', 21), ('Carlos', 25)]\n"
     ]
    }
   ],
   "source": [
    "nombres = [\"Jose\", \"Pepe\", \"Maria\", \"Ana\", \"Carlos\"]\n",
    "edades = [23, 27, 32, 21, 25]\n",
    "\n",
    "datos = list(zip(nombres, edades))\n",
    "print(datos)"
   ]
  },
  {
   "cell_type": "code",
   "execution_count": 3,
   "metadata": {},
   "outputs": [
    {
     "name": "stdout",
     "output_type": "stream",
     "text": [
      "('Argentina', 'América', 'español')\n",
      "('Francia', 'Europa', 'francés')\n",
      "('Alemania', 'Europa', 'alemán')\n",
      "('Japón', 'Asia', 'japonés')\n",
      "('USA', 'América', 'inglés')\n",
      "('Peru', 'América', 'español')\n",
      "('Brasil', 'América', 'portugués')\n",
      "('Nigeria', 'Africa', 'inglés')\n",
      "('China', 'Asia', 'chino')\n",
      "('España', 'Europa', 'español')\n"
     ]
    }
   ],
   "source": [
    "paises = [\"Argentina\", \"Francia\", \"Alemania\", \"Japón\", \"USA\", \"Peru\", \"Brasil\", \"Nigeria\", \"China\", \"España\"]\n",
    "continentes = [\"América\", \"Europa\", \"Europa\", \"Asia\", \"América\", \"América\", \"América\", \"Africa\", \"Asia\", \"Europa\"]\n",
    "idiomas = [\"español\", \"francés\", \"alemán\", \"japonés\", \"inglés\", \"español\", \"portugués\", \"inglés\", \"chino\", \"español\"]\n",
    "\n",
    "for info in zip(paises, continentes, idiomas):\n",
    "    print(info)"
   ]
  },
  {
   "cell_type": "markdown",
   "metadata": {},
   "source": [
    "Para operar elementos en dos o más listas, en este caso sumar elementos de dos listas"
   ]
  },
  {
   "cell_type": "code",
   "execution_count": 9,
   "metadata": {},
   "outputs": [
    {
     "data": {
      "text/plain": [
       "[35, 45, 60, 80]"
      ]
     },
     "execution_count": 9,
     "metadata": {},
     "output_type": "execute_result"
    }
   ],
   "source": [
    "list1 = [10, 15, 20, 30]\n",
    "list2 = [25, 30, 40, 50]\n",
    "\n",
    "suma_listas = [m+n for m,n in zip(list1, list2)]\n",
    "suma_listas"
   ]
  },
  {
   "cell_type": "code",
   "execution_count": 2,
   "metadata": {},
   "outputs": [
    {
     "data": {
      "text/plain": [
       "[23.925, 21.85, 23.025, 23.5, 22.45]"
      ]
     },
     "execution_count": 2,
     "metadata": {},
     "output_type": "execute_result"
    }
   ],
   "source": [
    "import statistics\n",
    "\n",
    "# Sean los valores de las temperaturas máximas de lunes a viernes dado en ºC\n",
    "Rio = [23.4, 22.6, 25.5, 26.3, 24.8]\n",
    "Lima = [25.3, 23.5, 22.9, 22.4, 21,8]\n",
    "Santiago = [24.4, 19.5, 20.2, 22.1, 23.5]\n",
    "Buenos_Aires = [22.6, 21.8, 23.5, 23.2, 20.5]\n",
    "\n",
    "temp_m = [statistics.mean(t) for t in zip(Rio, Lima, Santiago, Buenos_Aires)]\n",
    "temp_m\n",
    "\n",
    "\n"
   ]
  },
  {
   "cell_type": "markdown",
   "metadata": {},
   "source": [
    "Convertir dos listas en un diccionario"
   ]
  },
  {
   "cell_type": "code",
   "execution_count": 11,
   "metadata": {},
   "outputs": [
    {
     "name": "stdout",
     "output_type": "stream",
     "text": [
      "{'José': 'pintor', 'Raúl': 'fotógrafo', 'Ana': 'comerciante', 'Luis': 'obrero', 'Rosa': 'dentista'}\n"
     ]
    }
   ],
   "source": [
    "nombres = [\"José\", \"Raúl\", \"Ana\", \"Luis\", \"Rosa\"]\n",
    "oficio = [\"pintor\", \"fotógrafo\", \"comerciante\", \"obrero\", \"dentista\"]\n",
    "\n",
    "registro = dict(zip(nombres, oficio))\n",
    "print(registro)"
   ]
  },
  {
   "cell_type": "markdown",
   "metadata": {},
   "source": [
    "Dadas dos listas uno con catetos_x y otra de catetos_y vamos a hallar los valores de sus respectivas hipotenusas"
   ]
  },
  {
   "cell_type": "code",
   "execution_count": 3,
   "metadata": {},
   "outputs": [
    {
     "name": "stdout",
     "output_type": "stream",
     "text": [
      "[5.0, 13.0, 25.0]\n"
     ]
    }
   ],
   "source": [
    "import math\n",
    "\n",
    "catetos_x = [3, 5, 7] # lista de catetos 1\n",
    "catetos_y = [4, 12, 24] # lista de catetos 2\n",
    "\n",
    "# lista de las hipotenusas generadas por los catetos1 y catetos2 en zip\n",
    "hipotenusas = [math.sqrt (m**2 + n**2) for m,n in zip(catetos_x, catetos_y)] \n",
    "print(hipotenusas)"
   ]
  }
 ],
 "metadata": {
  "kernelspec": {
   "display_name": "Python 3",
   "language": "python",
   "name": "python3"
  },
  "language_info": {
   "codemirror_mode": {
    "name": "ipython",
    "version": 3
   },
   "file_extension": ".py",
   "mimetype": "text/x-python",
   "name": "python",
   "nbconvert_exporter": "python",
   "pygments_lexer": "ipython3",
   "version": "3.10.7"
  }
 },
 "nbformat": 4,
 "nbformat_minor": 2
}
