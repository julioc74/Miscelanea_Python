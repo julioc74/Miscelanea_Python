{
 "cells": [
  {
   "cell_type": "markdown",
   "metadata": {},
   "source": [
    "# Formateo de cadenas de texto f-string"
   ]
  },
  {
   "cell_type": "code",
   "execution_count": 1,
   "metadata": {},
   "outputs": [
    {
     "name": "stdout",
     "output_type": "stream",
     "text": [
      "Mi nombre es Pepe y tengo 28 años de edad.\n"
     ]
    }
   ],
   "source": [
    "nombre = \"Pepe\"\n",
    "edad = 28\n",
    "frase = f\"Mi nombre es {nombre} y tengo {edad} años de edad.\"\n",
    "print(frase)"
   ]
  },
  {
   "cell_type": "code",
   "execution_count": 3,
   "metadata": {},
   "outputs": [
    {
     "name": "stdout",
     "output_type": "stream",
     "text": [
      "El doble de 15 es 30.\n"
     ]
    }
   ],
   "source": [
    "num = 15\n",
    "print(f\"El doble de {num} es {num*2}.\")"
   ]
  },
  {
   "cell_type": "code",
   "execution_count": 8,
   "metadata": {},
   "outputs": [
    {
     "name": "stdout",
     "output_type": "stream",
     "text": [
      "El valor de pi con 3 decimales es 3.142\n"
     ]
    }
   ],
   "source": [
    "import math\n",
    "print(f\"El valor de pi con 3 decimales es {math.pi:.3f}\")"
   ]
  },
  {
   "cell_type": "markdown",
   "metadata": {},
   "source": [
    "En bucles para hallar el cuadrado y el cubo \n",
    "de cada numero entre el 1 y el 10"
   ]
  },
  {
   "cell_type": "code",
   "execution_count": 14,
   "metadata": {},
   "outputs": [
    {
     "name": "stdout",
     "output_type": "stream",
     "text": [
      " 1   1    1\n",
      " 2   4    8\n",
      " 3   9   27\n",
      " 4  16   64\n",
      " 5  25  125\n",
      " 6  36  216\n",
      " 7  49  343\n",
      " 8  64  512\n",
      " 9  81  729\n",
      "10 100 1000\n"
     ]
    }
   ],
   "source": [
    "for x in range(1,11):\n",
    "    print(f\"{x:2d} {x*x:3d} {x*x*x:4d}\")"
   ]
  },
  {
   "cell_type": "markdown",
   "metadata": {},
   "source": [
    "f-string lo podemos usar en diccionarios "
   ]
  },
  {
   "cell_type": "code",
   "execution_count": 15,
   "metadata": {},
   "outputs": [
    {
     "name": "stdout",
     "output_type": "stream",
     "text": [
      "Juan       ==>       1234\n",
      "Pepe       ==>       5678\n",
      "Maria      ==>       2468\n"
     ]
    }
   ],
   "source": [
    "claves = {'Juan': 1234, 'Pepe': 5678, 'Maria': 2468}\n",
    "for nombre, clave in claves.items():\n",
    "    print(f\"{nombre:10} ==> {clave:10d}\")"
   ]
  },
  {
   "cell_type": "code",
   "execution_count": 44,
   "metadata": {},
   "outputs": [
    {
     "name": "stdout",
     "output_type": "stream",
     "text": [
      "Juan       ==>       1234\n",
      "Pepe       ==>       5678\n",
      "Maria      ==>       2468\n"
     ]
    }
   ],
   "source": [
    "claves = {'Juan': 1234, 'Pepe': 5678, 'Maria': 2468}\n",
    "for nombre, clave in claves.items():\n",
    "    print(f\"{nombre:10} ==> {clave:10d}\")"
   ]
  },
  {
   "cell_type": "markdown",
   "metadata": {},
   "source": [
    "Para numeros de punto flotante (decimales) si queremos \n",
    "dos decimales usamos .2f"
   ]
  },
  {
   "cell_type": "code",
   "execution_count": 18,
   "metadata": {},
   "outputs": [
    {
     "name": "stdout",
     "output_type": "stream",
     "text": [
      "El precio del producto es $23.65\n"
     ]
    }
   ],
   "source": [
    "precio = 23.65\n",
    "print(f\"El precio del producto es ${precio:.2f}\")"
   ]
  },
  {
   "cell_type": "markdown",
   "metadata": {},
   "source": [
    "Si queremos el precio del producto con 3 decimales \n",
    "usamos .3f"
   ]
  },
  {
   "cell_type": "code",
   "execution_count": 19,
   "metadata": {},
   "outputs": [
    {
     "name": "stdout",
     "output_type": "stream",
     "text": [
      "El precio del producto es $23.650\n"
     ]
    }
   ],
   "source": [
    "precio = 23.65\n",
    "print(f\"El precio del producto es ${precio:.3f}\")"
   ]
  },
  {
   "cell_type": "markdown",
   "metadata": {},
   "source": [
    "En este caso, :10 se usa para especificar un campo de ancho de 10 caracteres \n",
    "para la variable producto, pero como producto en este caso \"arroz\" tiene \n",
    "menos de 10 caracteres, se agregan espacios en blanco para alcanzar esa longitud. "
   ]
  },
  {
   "cell_type": "code",
   "execution_count": 21,
   "metadata": {},
   "outputs": [
    {
     "name": "stdout",
     "output_type": "stream",
     "text": [
      "El arroz      cuesta $15.58\n"
     ]
    }
   ],
   "source": [
    "producto = \"arroz\"\n",
    "precio = 15.58\n",
    "\n",
    "print(f\"El {producto:10} cuesta ${precio:.2f}\")\n"
   ]
  },
  {
   "cell_type": "code",
   "execution_count": 41,
   "metadata": {},
   "outputs": [
    {
     "name": "stdout",
     "output_type": "stream",
     "text": [
      "aceite          cuesta   $12.34\n",
      "arroz           cuesta   $15.58\n",
      "fideos          cuesta   $3.45\n",
      "leche           cuesta   $6.23\n",
      "mantequilla     cuesta   $2.39\n"
     ]
    }
   ],
   "source": [
    "lista_productos = [\"aceite\", \"arroz\", \"fideos\", \"leche\", \"mantequilla\"]\n",
    "lista_precios = [12.34, 15.58, 3.45, 6.23, 2.39]\n",
    "\n",
    "diccionario_final = dict(zip(lista_productos, lista_precios))\n",
    "for producto, precio in diccionario_final.items():\n",
    "    print(f\"{producto:15} cuesta   ${precio:.2f}\")"
   ]
  },
  {
   "cell_type": "markdown",
   "metadata": {},
   "source": [
    "Con el formato {producto:<15} conseguimos que cada producto en la lista se coloque \n",
    "a la izquierda de un campo de ancho 15 caracteres. Si la longitud del texto en \n",
    "producto es menor que 15 caracteres, se agregarán espacios en blanco a la derecha \n",
    "para alcanzar los 15 caracteres. \n",
    "Esto se hace para que el texto producto esté alineado a la izquierda y el texto \n",
    "de la variable precio comience en la misma posición desde la derecha, \n",
    "lo que proporciona un formato ordenado."
   ]
  },
  {
   "cell_type": "code",
   "execution_count": 42,
   "metadata": {},
   "outputs": [
    {
     "name": "stdout",
     "output_type": "stream",
     "text": [
      "aceite          cuesta   $12.34\n",
      "arroz           cuesta   $15.58\n",
      "fideos          cuesta   $3.45\n",
      "leche           cuesta   $6.23\n",
      "mantequilla     cuesta   $2.39\n"
     ]
    }
   ],
   "source": [
    "lista_productos = [\"aceite\", \"arroz\", \"fideos\", \"leche\", \"mantequilla\"]\n",
    "lista_precios = [12.34, 15.58, 3.45, 6.23, 2.39]\n",
    "\n",
    "diccionario_final = dict(zip(lista_productos, lista_precios))\n",
    "for producto, precio in diccionario_final.items():\n",
    "    print(f\"{producto:<15} cuesta   ${precio:.2f}\")"
   ]
  },
  {
   "cell_type": "code",
   "execution_count": 23,
   "metadata": {},
   "outputs": [
    {
     "name": "stdout",
     "output_type": "stream",
     "text": [
      "[1.44, 11.559999999999999, 25.0, 6.25]\n"
     ]
    }
   ],
   "source": [
    "lista = [1.2, 3.4, 5.0, 2.5]\n",
    "resultado = [x*x for x in lista]\n",
    "print(resultado)"
   ]
  },
  {
   "cell_type": "markdown",
   "metadata": {},
   "source": [
    "Puedes acotar el numero de decimales que desees"
   ]
  },
  {
   "cell_type": "code",
   "execution_count": 24,
   "metadata": {},
   "outputs": [
    {
     "name": "stdout",
     "output_type": "stream",
     "text": [
      "1.440\n",
      "11.560\n",
      "25.000\n",
      "6.250\n"
     ]
    }
   ],
   "source": [
    "lista = [1.2, 3.4, 5.0, 2.5]\n",
    "resultado = [x*x for x in lista]\n",
    "for num in resultado:\n",
    "    print(f\"{num:.3f}\")"
   ]
  },
  {
   "cell_type": "markdown",
   "metadata": {},
   "source": [
    "f-string se puede usar tambien en condicionales"
   ]
  },
  {
   "cell_type": "code",
   "execution_count": 3,
   "metadata": {},
   "outputs": [
    {
     "name": "stdout",
     "output_type": "stream",
     "text": [
      "El resultado es Aprobado\n"
     ]
    }
   ],
   "source": [
    "puntos = 13\n",
    "resultado = \"Aprobado\" if puntos > 11 else \"Desaprobado\"\n",
    "print(f\"El resultado es {resultado}\")"
   ]
  },
  {
   "cell_type": "markdown",
   "metadata": {},
   "source": [
    "Usando f-string dentro de una funcion para expresar porcentajes"
   ]
  },
  {
   "cell_type": "code",
   "execution_count": 1,
   "metadata": {},
   "outputs": [
    {
     "name": "stdout",
     "output_type": "stream",
     "text": [
      "12 representa el 13.79 %\n",
      "23 representa el 26.44 %\n",
      "45 representa el 51.72 %\n",
      "7 representa el 8.05 %\n"
     ]
    }
   ],
   "source": [
    "def porcentajes(*args):\n",
    "    for arg in args:\n",
    "        print(f\"{arg} representa el {(arg*100/sum(args)):.2f} %\")\n",
    "        \n",
    "porcentajes(12,23,45,7)"
   ]
  },
  {
   "cell_type": "markdown",
   "metadata": {},
   "source": [
    "La notacion :>x.y nos indica que el formato a imprimir sera de 'x' \n",
    "espacios de caracteres en total (incluido el punto decimal) contados\n",
    "a partir del inicio de cada linea de renglon e 'y' cantidades \n",
    "de decimales"
   ]
  },
  {
   "cell_type": "markdown",
   "metadata": {},
   "source": [
    "En el siguiente ejemplo numero1 = 253.8 contiene 3 enteros,\n",
    "1 decimal mas el punto en total ocupa 5 espacios de caracteres;\n",
    "por eso se ve que recien a la sexta fila (:>6.1f) se desplaza un\n",
    "caracter, a la septima fila (:>7.1f) se desplaza dos caracteres\n",
    "y asi suscesivamente.  "
   ]
  },
  {
   "cell_type": "code",
   "execution_count": 7,
   "metadata": {},
   "outputs": [
    {
     "name": "stdout",
     "output_type": "stream",
     "text": [
      "253.8\n",
      "253.8\n",
      "253.8\n",
      "253.8\n",
      "253.8\n",
      " 253.8\n",
      "  253.8\n",
      "   253.8\n",
      "    253.8\n",
      "     253.8\n",
      "      253.8\n",
      "       253.8\n"
     ]
    }
   ],
   "source": [
    "numero1 = 253.8\n",
    "\n",
    "print(f\"{numero1:>1.1f}\")\n",
    "print(f\"{numero1:>2.1f}\")\n",
    "print(f\"{numero1:>3.1f}\")\n",
    "print(f\"{numero1:>4.1f}\")\n",
    "print(f\"{numero1:>5.1f}\")\n",
    "print(f\"{numero1:>6.1f}\")\n",
    "print(f\"{numero1:>7.1f}\")\n",
    "print(f\"{numero1:>8.1f}\")\n",
    "print(f\"{numero1:>9.1f}\")\n",
    "print(f\"{numero1:>10.1f}\")\n",
    "print(f\"{numero1:>11.1f}\")\n",
    "print(f\"{numero1:>12.1f}\")\n"
   ]
  },
  {
   "cell_type": "markdown",
   "metadata": {},
   "source": [
    "En el ejemplo siguiente vemos que num2 = 2.564 le pedimos\n",
    "en cada formato de impresion (:>x.1f)\n",
    "En el primer print vemos el formato (:>1.1f) que quiere decir \n",
    "1 espacio de caracter y un decimal.\n",
    "En el segundo print vemos el formato (:>2.1f) que quiere decir \n",
    "2 espacios de caracteres y un decimal.\n",
    "A partir del cuarto print vemos el formato (:>4.1f) que quiere\n",
    "decir 4 espacios de caracteres y un decimal. Es por eso que el\n",
    "numero (2.6) que tiene tres caracteres corre un lugar a la \n",
    "derecha; con el formato siguiente (:>5.1f) 5 espacios de \n",
    "caracteres y un decimal correra dos espacios a la derecha y \n",
    "asi suscesivamente. \n"
   ]
  },
  {
   "cell_type": "code",
   "execution_count": 8,
   "metadata": {},
   "outputs": [
    {
     "name": "stdout",
     "output_type": "stream",
     "text": [
      "2.6\n",
      "2.6\n",
      "2.6\n",
      " 2.6\n",
      "  2.6\n",
      "   2.6\n",
      "    2.6\n",
      "     2.6\n",
      "      2.6\n",
      "       2.6\n",
      "        2.6\n",
      "         2.6\n"
     ]
    }
   ],
   "source": [
    "num2 = 2.564\n",
    "\n",
    "\n",
    "\n",
    "print(f\"{num2:>1.1f}\")\n",
    "print(f\"{num2:>2.1f}\")\n",
    "print(f\"{num2:>3.1f}\")\n",
    "print(f\"{num2:>4.1f}\")\n",
    "print(f\"{num2:>5.1f}\")\n",
    "print(f\"{num2:>6.1f}\")\n",
    "print(f\"{num2:>7.1f}\")\n",
    "print(f\"{num2:>8.1f}\")\n",
    "print(f\"{num2:>9.1f}\")\n",
    "print(f\"{num2:>10.1f}\")\n",
    "print(f\"{num2:>11.1f}\")\n",
    "print(f\"{num2:>12.1f}\")"
   ]
  },
  {
   "cell_type": "markdown",
   "metadata": {},
   "source": [
    "Expresando territorio en km2"
   ]
  },
  {
   "cell_type": "code",
   "execution_count": 17,
   "metadata": {},
   "outputs": [
    {
     "name": "stdout",
     "output_type": "stream",
     "text": [
      "Usa  -->  9,833,517\n",
      "Mexico  -->  1,964,375\n",
      "Japon  -->  377,975\n",
      "Italia  -->  301,340\n"
     ]
    }
   ],
   "source": [
    "territorio = {'Usa': 9833517, 'Mexico': 1964375, 'Japon': 377975, 'Italia': 301340 }\n",
    "\n",
    "for key, value in territorio.items():\n",
    "    print(f\"{key}  -->  {value:,}\")"
   ]
  }
 ],
 "metadata": {
  "kernelspec": {
   "display_name": "Python 3",
   "language": "python",
   "name": "python3"
  },
  "language_info": {
   "codemirror_mode": {
    "name": "ipython",
    "version": 3
   },
   "file_extension": ".py",
   "mimetype": "text/x-python",
   "name": "python",
   "nbconvert_exporter": "python",
   "pygments_lexer": "ipython3",
   "version": "3.10.7"
  }
 },
 "nbformat": 4,
 "nbformat_minor": 2
}
