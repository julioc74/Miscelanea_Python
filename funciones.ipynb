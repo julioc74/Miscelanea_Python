{
 "cells": [
  {
   "cell_type": "markdown",
   "metadata": {},
   "source": [
    "# FUNCIONES"
   ]
  },
  {
   "cell_type": "code",
   "execution_count": 1,
   "metadata": {},
   "outputs": [
    {
     "name": "stdout",
     "output_type": "stream",
     "text": [
      "7\n"
     ]
    }
   ],
   "source": [
    "def suma(a,b):\n",
    "    return a+b\n",
    "\n",
    "m = suma(4,3)\n",
    "print(m)"
   ]
  },
  {
   "cell_type": "code",
   "execution_count": 8,
   "metadata": {},
   "outputs": [],
   "source": [
    "def fahrenheit_a_celsius():\n",
    "    f = int(input(\"Ingrese temperatura en fahrenheit: \"))\n",
    "    c = (f - 32) * 5/9\n",
    "    print(f\"La temperatura {f}f en celsius es {c:.2f}c\")\n",
    "    \n",
    "    \n",
    "    \n",
    "    "
   ]
  },
  {
   "cell_type": "markdown",
   "metadata": {},
   "source": [
    "Al llamar a la funcion fahrenheit_a_celsius() nos sale el \n",
    "mensaje: \"Ingrese temperatura en fahrenheit: \" y escribimos 63"
   ]
  },
  {
   "cell_type": "code",
   "execution_count": 9,
   "metadata": {},
   "outputs": [
    {
     "name": "stdout",
     "output_type": "stream",
     "text": [
      "La temperatura 63f en celsius es 17.22c\n"
     ]
    }
   ],
   "source": [
    "fahrenheit_a_celsius()"
   ]
  },
  {
   "cell_type": "code",
   "execution_count": 2,
   "metadata": {},
   "outputs": [
    {
     "name": "stdout",
     "output_type": "stream",
     "text": [
      "la temperatura de -10 c es 14.0 f\n",
      "la temperatura de -9 c es 15.8 f\n",
      "la temperatura de -8 c es 17.6 f\n",
      "la temperatura de -7 c es 19.4 f\n",
      "la temperatura de -6 c es 21.2 f\n",
      "la temperatura de -5 c es 23.0 f\n",
      "la temperatura de -4 c es 24.8 f\n",
      "la temperatura de -3 c es 26.6 f\n",
      "la temperatura de -2 c es 28.4 f\n",
      "la temperatura de -1 c es 30.2 f\n",
      "la temperatura de 0 c es 32.0 f\n",
      "la temperatura de 1 c es 33.8 f\n",
      "la temperatura de 2 c es 35.6 f\n",
      "la temperatura de 3 c es 37.4 f\n",
      "la temperatura de 4 c es 39.2 f\n",
      "la temperatura de 5 c es 41.0 f\n",
      "la temperatura de 6 c es 42.8 f\n",
      "la temperatura de 7 c es 44.6 f\n",
      "la temperatura de 8 c es 46.4 f\n",
      "la temperatura de 9 c es 48.2 f\n",
      "la temperatura de 10 c es 50.0 f\n",
      "la temperatura de 11 c es 51.8 f\n",
      "la temperatura de 12 c es 53.6 f\n",
      "la temperatura de 13 c es 55.4 f\n",
      "la temperatura de 14 c es 57.2 f\n",
      "la temperatura de 15 c es 59.0 f\n",
      "la temperatura de 16 c es 60.8 f\n",
      "la temperatura de 17 c es 62.6 f\n",
      "la temperatura de 18 c es 64.4 f\n",
      "la temperatura de 19 c es 66.2 f\n",
      "la temperatura de 20 c es 68.0 f\n",
      "la temperatura de 21 c es 69.8 f\n",
      "la temperatura de 22 c es 71.6 f\n",
      "la temperatura de 23 c es 73.4 f\n",
      "la temperatura de 24 c es 75.2 f\n",
      "la temperatura de 25 c es 77.0 f\n",
      "la temperatura de 26 c es 78.8 f\n",
      "la temperatura de 27 c es 80.6 f\n",
      "la temperatura de 28 c es 82.4 f\n",
      "la temperatura de 29 c es 84.2 f\n",
      "la temperatura de 30 c es 86.0 f\n",
      "la temperatura de 31 c es 87.8 f\n",
      "la temperatura de 32 c es 89.6 f\n",
      "la temperatura de 33 c es 91.4 f\n",
      "la temperatura de 34 c es 93.2 f\n",
      "la temperatura de 35 c es 95.0 f\n",
      "la temperatura de 36 c es 96.8 f\n",
      "la temperatura de 37 c es 98.6 f\n",
      "la temperatura de 38 c es 100.4 f\n",
      "la temperatura de 39 c es 102.2 f\n",
      "la temperatura de 40 c es 104.0 f\n",
      "la temperatura de 41 c es 105.8 f\n",
      "la temperatura de 42 c es 107.6 f\n",
      "la temperatura de 43 c es 109.4 f\n",
      "la temperatura de 44 c es 111.2 f\n"
     ]
    }
   ],
   "source": [
    "def tabla_c_a_f():\n",
    "    for celsius in range (-10, 45):\n",
    "        fahrenheit = (9 * celsius /5) + 32 \n",
    "        print(f\"la temperatura de {celsius} c es {fahrenheit} f\")\n",
    "        \n",
    "tabla_c_a_f()        "
   ]
  },
  {
   "cell_type": "code",
   "execution_count": 2,
   "metadata": {},
   "outputs": [
    {
     "name": "stdout",
     "output_type": "stream",
     "text": [
      "la función incrementa(n=5) evaluada en x=7 es g(7)=12\n",
      "la función incrementa(n=10) evaluada en x=15 es h(15)=25\n"
     ]
    }
   ],
   "source": [
    "def incrementa(n):\n",
    "    return lambda x: x+n\n",
    "\n",
    "g = incrementa(5)\n",
    "print(f\"la función incrementa(n=5) evaluada en x=7 es g(7)={g(7)}\")\n",
    "\n",
    "h = incrementa(10)\n",
    "print(f\"la función incrementa(n=10) evaluada en x=15 es h(15)={h(15)}\")"
   ]
  },
  {
   "cell_type": "code",
   "execution_count": 1,
   "metadata": {},
   "outputs": [],
   "source": [
    "def opera(a, b, /, c=3):\n",
    "    return a + b * c"
   ]
  },
  {
   "cell_type": "code",
   "execution_count": 2,
   "metadata": {},
   "outputs": [
    {
     "data": {
      "text/plain": [
       "18"
      ]
     },
     "execution_count": 2,
     "metadata": {},
     "output_type": "execute_result"
    }
   ],
   "source": [
    "opera(3, 5)"
   ]
  },
  {
   "cell_type": "code",
   "execution_count": 3,
   "metadata": {},
   "outputs": [
    {
     "data": {
      "text/plain": [
       "14"
      ]
     },
     "execution_count": 3,
     "metadata": {},
     "output_type": "execute_result"
    }
   ],
   "source": [
    "opera(4, 2, c=5)"
   ]
  },
  {
   "cell_type": "markdown",
   "metadata": {},
   "source": [
    "Los parámetros antes del símbolo '/' se pasan sólo por posición, los parámetros después del símbolo '/' se pueden pasar tanto por posición, como por nombre\n",
    "y los parámetros después del símbolo '*' sólo pueden pasarse por nombre."
   ]
  },
  {
   "cell_type": "code",
   "execution_count": null,
   "metadata": {},
   "outputs": [
    {
     "name": "stdout",
     "output_type": "stream",
     "text": [
      "Mi nombre es Juan vivo en Rio y me gusta leer.\n"
     ]
    }
   ],
   "source": [
    "def imprime(nombre, /, ciudad, *, pasatiempo='correr'):\n",
    "    print(f\"Mi nombre es {nombre} vivo en {ciudad} y me gusta {pasatiempo}.\")\n",
    "    \n",
    "imprime(\"Juan\", \"Rio\", pasatiempo='leer')    "
   ]
  }
 ],
 "metadata": {
  "kernelspec": {
   "display_name": "Python 3",
   "language": "python",
   "name": "python3"
  },
  "language_info": {
   "codemirror_mode": {
    "name": "ipython",
    "version": 3
   },
   "file_extension": ".py",
   "mimetype": "text/x-python",
   "name": "python",
   "nbconvert_exporter": "python",
   "pygments_lexer": "ipython3",
   "version": "3.10.7"
  }
 },
 "nbformat": 4,
 "nbformat_minor": 2
}
