{
 "cells": [
  {
   "cell_type": "markdown",
   "metadata": {},
   "source": [
    "# FUNCIONES"
   ]
  },
  {
   "cell_type": "code",
   "execution_count": 1,
   "metadata": {},
   "outputs": [
    {
     "name": "stdout",
     "output_type": "stream",
     "text": [
      "7\n"
     ]
    }
   ],
   "source": [
    "def suma(a,b):\n",
    "    return a+b\n",
    "\n",
    "m = suma(4,3)\n",
    "print(m)"
   ]
  },
  {
   "cell_type": "code",
   "execution_count": 8,
   "metadata": {},
   "outputs": [],
   "source": [
    "def fahrenheit_a_celsius():\n",
    "    f = int(input(\"Ingrese temperatura en fahrenheit: \"))\n",
    "    c = (f - 32) * 5/9\n",
    "    print(f\"La temperatura {f}f en celsius es {c:.2f}c\")\n",
    "    \n",
    "    \n",
    "    \n",
    "    "
   ]
  },
  {
   "cell_type": "markdown",
   "metadata": {},
   "source": [
    "Al llamar a la funcion fahrenheit_a_celsius() nos sale el \n",
    "mensaje: \"Ingrese temperatura en fahrenheit: \" y escribimos 63"
   ]
  },
  {
   "cell_type": "code",
   "execution_count": 9,
   "metadata": {},
   "outputs": [
    {
     "name": "stdout",
     "output_type": "stream",
     "text": [
      "La temperatura 63f en celsius es 17.22c\n"
     ]
    }
   ],
   "source": [
    "fahrenheit_a_celsius()"
   ]
  },
  {
   "cell_type": "code",
   "execution_count": 2,
   "metadata": {},
   "outputs": [
    {
     "name": "stdout",
     "output_type": "stream",
     "text": [
      "la temperatura de -10 c es 14.0 f\n",
      "la temperatura de -9 c es 15.8 f\n",
      "la temperatura de -8 c es 17.6 f\n",
      "la temperatura de -7 c es 19.4 f\n",
      "la temperatura de -6 c es 21.2 f\n",
      "la temperatura de -5 c es 23.0 f\n",
      "la temperatura de -4 c es 24.8 f\n",
      "la temperatura de -3 c es 26.6 f\n",
      "la temperatura de -2 c es 28.4 f\n",
      "la temperatura de -1 c es 30.2 f\n",
      "la temperatura de 0 c es 32.0 f\n",
      "la temperatura de 1 c es 33.8 f\n",
      "la temperatura de 2 c es 35.6 f\n",
      "la temperatura de 3 c es 37.4 f\n",
      "la temperatura de 4 c es 39.2 f\n",
      "la temperatura de 5 c es 41.0 f\n",
      "la temperatura de 6 c es 42.8 f\n",
      "la temperatura de 7 c es 44.6 f\n",
      "la temperatura de 8 c es 46.4 f\n",
      "la temperatura de 9 c es 48.2 f\n",
      "la temperatura de 10 c es 50.0 f\n",
      "la temperatura de 11 c es 51.8 f\n",
      "la temperatura de 12 c es 53.6 f\n",
      "la temperatura de 13 c es 55.4 f\n",
      "la temperatura de 14 c es 57.2 f\n",
      "la temperatura de 15 c es 59.0 f\n",
      "la temperatura de 16 c es 60.8 f\n",
      "la temperatura de 17 c es 62.6 f\n",
      "la temperatura de 18 c es 64.4 f\n",
      "la temperatura de 19 c es 66.2 f\n",
      "la temperatura de 20 c es 68.0 f\n",
      "la temperatura de 21 c es 69.8 f\n",
      "la temperatura de 22 c es 71.6 f\n",
      "la temperatura de 23 c es 73.4 f\n",
      "la temperatura de 24 c es 75.2 f\n",
      "la temperatura de 25 c es 77.0 f\n",
      "la temperatura de 26 c es 78.8 f\n",
      "la temperatura de 27 c es 80.6 f\n",
      "la temperatura de 28 c es 82.4 f\n",
      "la temperatura de 29 c es 84.2 f\n",
      "la temperatura de 30 c es 86.0 f\n",
      "la temperatura de 31 c es 87.8 f\n",
      "la temperatura de 32 c es 89.6 f\n",
      "la temperatura de 33 c es 91.4 f\n",
      "la temperatura de 34 c es 93.2 f\n",
      "la temperatura de 35 c es 95.0 f\n",
      "la temperatura de 36 c es 96.8 f\n",
      "la temperatura de 37 c es 98.6 f\n",
      "la temperatura de 38 c es 100.4 f\n",
      "la temperatura de 39 c es 102.2 f\n",
      "la temperatura de 40 c es 104.0 f\n",
      "la temperatura de 41 c es 105.8 f\n",
      "la temperatura de 42 c es 107.6 f\n",
      "la temperatura de 43 c es 109.4 f\n",
      "la temperatura de 44 c es 111.2 f\n"
     ]
    }
   ],
   "source": [
    "def tabla_c_a_f():\n",
    "    for celsius in range (-10, 45):\n",
    "        fahrenheit = (9 * celsius /5) + 32 \n",
    "        print(f\"la temperatura de {celsius} c es {fahrenheit} f\")\n",
    "        \n",
    "tabla_c_a_f()        "
   ]
  },
  {
   "cell_type": "code",
   "execution_count": 2,
   "metadata": {},
   "outputs": [
    {
     "name": "stdout",
     "output_type": "stream",
     "text": [
      "la función incrementa(n=5) evaluada en x=7 es g(7)=12\n",
      "la función incrementa(n=10) evaluada en x=15 es h(15)=25\n"
     ]
    }
   ],
   "source": [
    "def incrementa(n):\n",
    "    return lambda x: x+n\n",
    "\n",
    "g = incrementa(5)\n",
    "print(f\"la función incrementa(n=5) evaluada en x=7 es g(7)={g(7)}\")\n",
    "\n",
    "h = incrementa(10)\n",
    "print(f\"la función incrementa(n=10) evaluada en x=15 es h(15)={h(15)}\")"
   ]
  },
  {
   "cell_type": "markdown",
   "metadata": {},
   "source": [
    "Función que halla el mcd de dos números basado en el algoritmo de Euclides mediante el operador divmod "
   ]
  },
  {
   "cell_type": "code",
   "execution_count": 1,
   "metadata": {},
   "outputs": [],
   "source": [
    "def mcd(a,b):\n",
    "    if a > b:\n",
    "        q , r = divmod(a, b)\n",
    "        if r == 0:\n",
    "            return b\n",
    "        else: \n",
    "            return mcd(b, r)\n",
    "        \n",
    "    else:\n",
    "        return mcd(b, a)\n",
    "        "
   ]
  },
  {
   "cell_type": "code",
   "execution_count": 2,
   "metadata": {},
   "outputs": [
    {
     "data": {
      "text/plain": [
       "12"
      ]
     },
     "execution_count": 2,
     "metadata": {},
     "output_type": "execute_result"
    }
   ],
   "source": [
    "mcd(60, 24) \n"
   ]
  },
  {
   "cell_type": "code",
   "execution_count": 3,
   "metadata": {},
   "outputs": [
    {
     "data": {
      "text/plain": [
       "48"
      ]
     },
     "execution_count": 3,
     "metadata": {},
     "output_type": "execute_result"
    }
   ],
   "source": [
    "mcd(144, 480)"
   ]
  },
  {
   "cell_type": "markdown",
   "metadata": {},
   "source": [
    "Otra manera de escribir la función seria..."
   ]
  },
  {
   "cell_type": "code",
   "execution_count": 4,
   "metadata": {},
   "outputs": [],
   "source": [
    "def mcd1(a, b):\n",
    "    if a > b:\n",
    "        q, r = divmod(a, b)\n",
    "        return b if r == 0 else mcd1(b, r)\n",
    "    return mcd1(b, a)"
   ]
  },
  {
   "cell_type": "code",
   "execution_count": 5,
   "metadata": {},
   "outputs": [
    {
     "data": {
      "text/plain": [
       "6"
      ]
     },
     "execution_count": 5,
     "metadata": {},
     "output_type": "execute_result"
    }
   ],
   "source": [
    "mcd1(18, 12)"
   ]
  },
  {
   "cell_type": "code",
   "execution_count": 6,
   "metadata": {},
   "outputs": [
    {
     "data": {
      "text/plain": [
       "12"
      ]
     },
     "execution_count": 6,
     "metadata": {},
     "output_type": "execute_result"
    }
   ],
   "source": [
    "mcd1(36, 240)"
   ]
  },
  {
   "cell_type": "markdown",
   "metadata": {},
   "source": [
    "Para evitar la recursión infinita si b == 0 y asi mejoramos la eficiencia"
   ]
  },
  {
   "cell_type": "code",
   "execution_count": 12,
   "metadata": {},
   "outputs": [],
   "source": [
    "def mcd2(a, b):\n",
    "    if b == 0:\n",
    "        return a  # Si 'b' es 0, el MCD es 'a'\n",
    "    return mcd2(b, a % b)\n"
   ]
  },
  {
   "cell_type": "code",
   "execution_count": 14,
   "metadata": {},
   "outputs": [
    {
     "data": {
      "text/plain": [
       "6"
      ]
     },
     "execution_count": 14,
     "metadata": {},
     "output_type": "execute_result"
    }
   ],
   "source": [
    "mcd2(18, 12)"
   ]
  },
  {
   "cell_type": "markdown",
   "metadata": {},
   "source": [
    "Simplificando la funcion mcd2 aun mas obetemos mcd3"
   ]
  },
  {
   "cell_type": "code",
   "execution_count": 15,
   "metadata": {},
   "outputs": [],
   "source": [
    "def mcd3(a, b):\n",
    "    return a if b == 0 else mcd3(b, a % b)"
   ]
  },
  {
   "cell_type": "code",
   "execution_count": 16,
   "metadata": {},
   "outputs": [
    {
     "data": {
      "text/plain": [
       "120"
      ]
     },
     "execution_count": 16,
     "metadata": {},
     "output_type": "execute_result"
    }
   ],
   "source": [
    "mcd3(480, 600)"
   ]
  },
  {
   "cell_type": "code",
   "execution_count": 17,
   "metadata": {},
   "outputs": [
    {
     "data": {
      "text/plain": [
       "36"
      ]
     },
     "execution_count": 17,
     "metadata": {},
     "output_type": "execute_result"
    }
   ],
   "source": [
    "mcd3(180, 72)"
   ]
  },
  {
   "cell_type": "markdown",
   "metadata": {},
   "source": [
    "Los parámetros antes de '/' son solo posicionales, osea deben pasarse sin usar nombres al llamar a la función.  "
   ]
  },
  {
   "cell_type": "code",
   "execution_count": 19,
   "metadata": {},
   "outputs": [],
   "source": [
    "def operar(a,b, /, c):\n",
    "    return a+b-c"
   ]
  },
  {
   "cell_type": "code",
   "execution_count": 21,
   "metadata": {},
   "outputs": [
    {
     "data": {
      "text/plain": [
       "2"
      ]
     },
     "execution_count": 21,
     "metadata": {},
     "output_type": "execute_result"
    }
   ],
   "source": [
    "operar(3, 4, c = 5)"
   ]
  },
  {
   "cell_type": "code",
   "execution_count": 22,
   "metadata": {},
   "outputs": [
    {
     "data": {
      "text/plain": [
       "7"
      ]
     },
     "execution_count": 22,
     "metadata": {},
     "output_type": "execute_result"
    }
   ],
   "source": [
    "operar(2, 9, 4)"
   ]
  },
  {
   "cell_type": "markdown",
   "metadata": {},
   "source": [
    "El siguiente código daría error, ya que los parámetros a y b sólo deben ser pasados por posición"
   ]
  },
  {
   "cell_type": "code",
   "execution_count": 23,
   "metadata": {},
   "outputs": [
    {
     "ename": "TypeError",
     "evalue": "operar() got some positional-only arguments passed as keyword arguments: 'a, b'",
     "output_type": "error",
     "traceback": [
      "\u001b[1;31m---------------------------------------------------------------------------\u001b[0m",
      "\u001b[1;31mTypeError\u001b[0m                                 Traceback (most recent call last)",
      "Cell \u001b[1;32mIn [23], line 1\u001b[0m\n\u001b[1;32m----> 1\u001b[0m \u001b[43moperar\u001b[49m\u001b[43m(\u001b[49m\u001b[43ma\u001b[49m\u001b[38;5;241;43m=\u001b[39;49m\u001b[38;5;241;43m2\u001b[39;49m\u001b[43m,\u001b[49m\u001b[43m \u001b[49m\u001b[43mb\u001b[49m\u001b[38;5;241;43m=\u001b[39;49m\u001b[38;5;241;43m5\u001b[39;49m\u001b[43m,\u001b[49m\u001b[43m \u001b[49m\u001b[43mc\u001b[49m\u001b[38;5;241;43m=\u001b[39;49m\u001b[38;5;241;43m4\u001b[39;49m\u001b[43m)\u001b[49m\n",
      "\u001b[1;31mTypeError\u001b[0m: operar() got some positional-only arguments passed as keyword arguments: 'a, b'"
     ]
    }
   ],
   "source": [
    "operar(a=2, b=5, c=4)"
   ]
  },
  {
   "cell_type": "markdown",
   "metadata": {},
   "source": [
    "Aqui otro caso, los parámetros antes de '/' (name, age) son solo posicionales.\n",
    "Es decir, deben pasarse sin usar nombres al llamar a la función."
   ]
  },
  {
   "cell_type": "code",
   "execution_count": 24,
   "metadata": {},
   "outputs": [],
   "source": [
    "def imprimir(name, age, /, etc):\n",
    "    print(f\"mi nombre es {name}, mi edad es {age} y soy {etc}\")"
   ]
  },
  {
   "cell_type": "code",
   "execution_count": 25,
   "metadata": {},
   "outputs": [
    {
     "name": "stdout",
     "output_type": "stream",
     "text": [
      "mi nombre es Juan, mi edad es 35 y soy cocinero\n"
     ]
    }
   ],
   "source": [
    "imprimir(\"Juan\", 35, \"cocinero\" )"
   ]
  },
  {
   "cell_type": "code",
   "execution_count": 26,
   "metadata": {},
   "outputs": [
    {
     "name": "stdout",
     "output_type": "stream",
     "text": [
      "mi nombre es Jose, mi edad es 23 y soy pintor\n"
     ]
    }
   ],
   "source": [
    "imprimir(\"Jose\", 23, etc=\"pintor\")"
   ]
  },
  {
   "cell_type": "markdown",
   "metadata": {},
   "source": [
    "Cuando * aparece solo en los parámetros sin un nombre específico (* a secas), significa que todos los parámetros que vienen después deben pasarse por nombre (keyword-only)."
   ]
  },
  {
   "cell_type": "code",
   "execution_count": 27,
   "metadata": {},
   "outputs": [],
   "source": [
    "def operaciones(a, b, c, /, *, d = 5, e = 10):\n",
    "    return (a + b - c * d * e)"
   ]
  },
  {
   "cell_type": "code",
   "execution_count": 28,
   "metadata": {},
   "outputs": [
    {
     "data": {
      "text/plain": [
       "-190"
      ]
     },
     "execution_count": 28,
     "metadata": {},
     "output_type": "execute_result"
    }
   ],
   "source": [
    "operaciones(3, 7, 4)"
   ]
  },
  {
   "cell_type": "code",
   "execution_count": 29,
   "metadata": {},
   "outputs": [
    {
     "data": {
      "text/plain": [
       "-1906"
      ]
     },
     "execution_count": 29,
     "metadata": {},
     "output_type": "execute_result"
    }
   ],
   "source": [
    "operaciones(2, 12, 32, d=15, e=4)"
   ]
  },
  {
   "cell_type": "markdown",
   "metadata": {},
   "source": [
    "Los parámetros antes del símbolo '/' se pasan sólo por posición, los parámetros después del símbolo '/' se pueden pasar<br> tanto por posición, como por nombre\n",
    "y los parámetros después del símbolo '*' sólo pueden pasarse por nombre."
   ]
  },
  {
   "cell_type": "code",
   "execution_count": 34,
   "metadata": {},
   "outputs": [
    {
     "name": "stdout",
     "output_type": "stream",
     "text": [
      "Mi nombre es Juan vivo en Rio y me gusta leer.\n"
     ]
    }
   ],
   "source": [
    "def imprime(nombre, /, ciudad, *, pasatiempo='correr'):\n",
    "    print(f\"Mi nombre es {nombre} vivo en {ciudad} y me gusta {pasatiempo}.\")\n",
    "    \n",
    "imprime(\"Juan\", \"Rio\", pasatiempo='leer')    "
   ]
  },
  {
   "cell_type": "code",
   "execution_count": 35,
   "metadata": {},
   "outputs": [
    {
     "name": "stdout",
     "output_type": "stream",
     "text": [
      "Mi nombre es Ana vivo en Lima y me gusta correr.\n"
     ]
    }
   ],
   "source": [
    "imprime(\"Ana\", ciudad=\"Lima\")"
   ]
  },
  {
   "cell_type": "markdown",
   "metadata": {},
   "source": [
    "cálculo de la velocidad final de un cuerpo que es lanzado hacia arriba"
   ]
  },
  {
   "cell_type": "code",
   "execution_count": 30,
   "metadata": {},
   "outputs": [],
   "source": [
    "def vfinal(vinicio, tiempo, /, *, gravedad = 9.8):\n",
    "    return(vinicio + gravedad * tiempo)"
   ]
  },
  {
   "cell_type": "code",
   "execution_count": 31,
   "metadata": {},
   "outputs": [
    {
     "data": {
      "text/plain": [
       "598.0"
      ]
     },
     "execution_count": 31,
     "metadata": {},
     "output_type": "execute_result"
    }
   ],
   "source": [
    "vfinal(10, 60)"
   ]
  },
  {
   "cell_type": "markdown",
   "metadata": {},
   "source": [
    "ley de cosenos. dados dos lados de un triángulo y el ángulo que forman entre ellos en radianes, se pide calcular la medida del tercer lado."
   ]
  },
  {
   "cell_type": "code",
   "execution_count": 32,
   "metadata": {},
   "outputs": [
    {
     "data": {
      "text/plain": [
       "5.2915026221291805"
      ]
     },
     "execution_count": 32,
     "metadata": {},
     "output_type": "execute_result"
    }
   ],
   "source": [
    "import math\n",
    "\n",
    "def leydecosenos(a, b, alpha):\n",
    "    return math.sqrt(a**2 + b**2 - 2*a*b*math.cos(alpha)) \n",
    "\n",
    "leydecosenos(4, 6, (math.pi/3))"
   ]
  },
  {
   "cell_type": "code",
   "execution_count": 33,
   "metadata": {},
   "outputs": [
    {
     "name": "stdout",
     "output_type": "stream",
     "text": [
      "x = 0.000m  y = 0.000m\n",
      "x = 1.837m  y = 3.108m\n",
      "x = 3.673m  y = 6.069m\n",
      "x = 5.510m  y = 8.883m\n",
      "x = 7.347m  y = 11.550m\n",
      "x = 9.184m  y = 14.070m\n",
      "x = 11.020m  y = 16.443m\n",
      "x = 12.857m  y = 18.669m\n",
      "x = 14.694m  y = 20.749m\n",
      "x = 16.531m  y = 22.681m\n",
      "x = 18.367m  y = 24.466m\n",
      "x = 20.204m  y = 26.105m\n",
      "x = 22.041m  y = 27.596m\n",
      "x = 23.878m  y = 28.941m\n",
      "x = 25.714m  y = 30.138m\n",
      "x = 27.551m  y = 31.189m\n",
      "x = 29.388m  y = 32.093m\n",
      "x = 31.224m  y = 32.850m\n",
      "x = 33.061m  y = 33.460m\n",
      "x = 34.898m  y = 33.923m\n",
      "x = 36.735m  y = 34.239m\n",
      "x = 38.571m  y = 34.408m\n",
      "x = 40.408m  y = 34.430m\n",
      "x = 42.245m  y = 34.305m\n",
      "x = 44.082m  y = 34.033m\n",
      "x = 45.918m  y = 33.615m\n",
      "x = 47.755m  y = 45.845m\n",
      "x = 49.592m  y = 45.624m\n",
      "x = 51.429m  y = 45.257m\n",
      "x = 53.265m  y = 44.743m\n",
      "x = 55.102m  y = 44.082m\n",
      "x = 56.939m  y = 43.273m\n",
      "x = 58.776m  y = 42.318m\n",
      "x = 60.612m  y = 41.216m\n",
      "x = 62.449m  y = 39.967m\n",
      "x = 64.286m  y = 38.571m\n",
      "x = 66.122m  y = 37.029m\n",
      "x = 67.959m  y = 35.339m\n",
      "x = 69.796m  y = 33.502m\n",
      "x = 71.633m  y = 31.518m\n",
      "x = 73.469m  y = 29.388m\n",
      "x = 75.306m  y = 27.110m\n",
      "x = 77.143m  y = 24.686m\n",
      "x = 78.980m  y = 22.114m\n",
      "x = 80.816m  y = 19.396m\n",
      "x = 82.653m  y = 16.531m\n",
      "x = 84.490m  y = 13.518m\n",
      "x = 86.327m  y = 10.359m\n",
      "x = 88.163m  y = 7.053m\n",
      "x = 90.000m  y = 3.600m\n",
      "la altura maxima es 45.918 m y el tiempo total es 6.122 s\n"
     ]
    }
   ],
   "source": [
    "# posición de un objeto lanzado con cierto ángulo alpha en movimiento parabólico\n",
    "import math\n",
    "import numpy as np\n",
    "\n",
    "def movparab(vo, alpha, /, *, g=9.8):\n",
    "    ttotal = 2*vo/g\n",
    "    hmax = (vo**2)/(2*g)\n",
    "    for t in np.arange(0, ttotal, ttotal/50): \n",
    "        x = vo*math.cos(alpha)*t\n",
    "        if (t<=vo/g):\n",
    "            y = vo*math.sin(alpha)*t-0.5*g*t**2\n",
    "        else:\n",
    "            y = hmax -0.5*g*(t - ttotal/2)**2\n",
    "        print(f\"x = {x:.3f}m  y = {y:.3f}m\")\n",
    "    print(f\"la altura maxima es {hmax:.3f} m y el tiempo total es {ttotal:.3f} s\")\n",
    "            \n",
    "movparab(30, math.pi/3)"
   ]
  }
 ],
 "metadata": {
  "kernelspec": {
   "display_name": "Python 3",
   "language": "python",
   "name": "python3"
  },
  "language_info": {
   "codemirror_mode": {
    "name": "ipython",
    "version": 3
   },
   "file_extension": ".py",
   "mimetype": "text/x-python",
   "name": "python",
   "nbconvert_exporter": "python",
   "pygments_lexer": "ipython3",
   "version": "3.10.7"
  }
 },
 "nbformat": 4,
 "nbformat_minor": 2
}
