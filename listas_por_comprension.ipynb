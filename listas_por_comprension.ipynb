{
 "cells": [
  {
   "cell_type": "markdown",
   "metadata": {},
   "source": [
    "# LISTAS POR COMPRENSION"
   ]
  },
  {
   "cell_type": "markdown",
   "metadata": {},
   "source": [
    "Creamos una lista con los numeros enteros elevado al\n",
    "cuadrado entre el 0 y 10"
   ]
  },
  {
   "cell_type": "code",
   "execution_count": 1,
   "metadata": {},
   "outputs": [
    {
     "name": "stdout",
     "output_type": "stream",
     "text": [
      "[0, 1, 4, 9, 16, 25, 36, 49, 64, 81, 100]\n"
     ]
    }
   ],
   "source": [
    "lista = [i*i for i in range(0, 11)]\n",
    "print(lista)"
   ]
  },
  {
   "cell_type": "markdown",
   "metadata": {},
   "source": [
    "De lista2 mostramos los elementos que son pares. "
   ]
  },
  {
   "cell_type": "code",
   "execution_count": 2,
   "metadata": {},
   "outputs": [
    {
     "name": "stdout",
     "output_type": "stream",
     "text": [
      "[4, 8, 10]\n"
     ]
    }
   ],
   "source": [
    "lista2 = [4, 3, 7, 8, 23, 11, 10, 15, 1]\n",
    "pares = [i for i in lista2 if i % 2 == 0]\n",
    "print(pares)"
   ]
  },
  {
   "cell_type": "markdown",
   "metadata": {},
   "source": [
    "De lista2 mostramos los elementos mayores a 10. "
   ]
  },
  {
   "cell_type": "code",
   "execution_count": 3,
   "metadata": {},
   "outputs": [
    {
     "name": "stdout",
     "output_type": "stream",
     "text": [
      "[23, 11, 15]\n"
     ]
    }
   ],
   "source": [
    "mayores_que_diez = [i for i in lista2 if i >10] \n",
    "print(mayores_que_diez)"
   ]
  },
  {
   "cell_type": "markdown",
   "metadata": {},
   "source": [
    "Te muestra los numeros mayores que 10 de lista2, y los que no \n",
    "lo devolvera como un cero"
   ]
  },
  {
   "cell_type": "code",
   "execution_count": 15,
   "metadata": {},
   "outputs": [
    {
     "name": "stdout",
     "output_type": "stream",
     "text": [
      "[0, 0, 0, 0, 23, 11, 0, 15, 0]\n"
     ]
    }
   ],
   "source": [
    "resultado = [ i if i > 10 else 0 for i in lista2]\n",
    "print(resultado)"
   ]
  },
  {
   "cell_type": "code",
   "execution_count": 21,
   "metadata": {},
   "outputs": [
    {
     "name": "stdout",
     "output_type": "stream",
     "text": [
      "[1, 2, 3]\n",
      "[4, 5, 6]\n",
      "[7, 8, 9]\n"
     ]
    }
   ],
   "source": [
    "lista_de_listas = [[1,2,3], [4,5,6], [7,8,9]]\n",
    "for lista in lista_de_listas:\n",
    "    print(lista)"
   ]
  },
  {
   "cell_type": "markdown",
   "metadata": {},
   "source": [
    "Convertimos una lista de listas en una lista simple\n",
    "con los mismos elementos"
   ]
  },
  {
   "cell_type": "code",
   "execution_count": 23,
   "metadata": {},
   "outputs": [
    {
     "name": "stdout",
     "output_type": "stream",
     "text": [
      "[1, 2, 3, 4, 5, 6, 7, 8, 9]\n"
     ]
    }
   ],
   "source": [
    "res = [elem for lista in lista_de_listas for elem in lista]\n",
    "print(res)"
   ]
  },
  {
   "cell_type": "markdown",
   "metadata": {},
   "source": [
    "Dados dos listas obtener pares ordenados por combinaciones"
   ]
  },
  {
   "cell_type": "code",
   "execution_count": 18,
   "metadata": {},
   "outputs": [
    {
     "name": "stdout",
     "output_type": "stream",
     "text": [
      "[('a', 1), ('a', 2), ('a', 3), ('b', 1), ('b', 2), ('b', 3), ('c', 1), ('c', 2), ('c', 3), ('d', 1), ('d', 2), ('d', 3)]\n"
     ]
    }
   ],
   "source": [
    "letras = ['a', 'b', 'c', 'd']\n",
    "numeros = [1, 2, 3]\n",
    "\n",
    "combinaciones = [(letra, numero) for letra in letras for numero in numeros]\n",
    "print(combinaciones)"
   ]
  },
  {
   "cell_type": "markdown",
   "metadata": {},
   "source": [
    "Mientras que con una funcion zip estaria limitado a la mas\n",
    "corta de las dos listas"
   ]
  },
  {
   "cell_type": "code",
   "execution_count": 19,
   "metadata": {},
   "outputs": [
    {
     "name": "stdout",
     "output_type": "stream",
     "text": [
      "[('a', 1), ('b', 2), ('c', 3)]\n"
     ]
    }
   ],
   "source": [
    "comb = list(zip(letras, numeros))\n",
    "print(comb)"
   ]
  },
  {
   "cell_type": "markdown",
   "metadata": {},
   "source": [
    "Dados dos listas obtener los pares ordenados tal que cumplan cierta \n",
    "condicion; en este caso que la suma de ambos elementos sea mayor\n",
    "a 10."
   ]
  },
  {
   "cell_type": "code",
   "execution_count": 2,
   "metadata": {},
   "outputs": [
    {
     "name": "stdout",
     "output_type": "stream",
     "text": [
      "[(2, 12), (4, 8), (4, 12), (7, 6), (7, 8), (7, 12), (9, 6), (9, 8), (9, 12)]\n"
     ]
    }
   ],
   "source": [
    "lista1 = [2,4,7,9]\n",
    "lista2 = [1,6,8,12]\n",
    " \n",
    "suma_mayores_que_diez = [(m,n) for m in lista1 for n in lista2 if m+n >10] \n",
    "print(suma_mayores_que_diez)"
   ]
  },
  {
   "cell_type": "markdown",
   "metadata": {},
   "source": [
    "Haciendo uso de multiples if\n",
    "Encontrar pares ordenados tales que el elemento de la lista1 sea mayor a 4\n",
    "y el elemento de la lista2 sea multiplo de 3.  "
   ]
  },
  {
   "cell_type": "code",
   "execution_count": 3,
   "metadata": {},
   "outputs": [
    {
     "name": "stdout",
     "output_type": "stream",
     "text": [
      "[(7, 6), (7, 12), (9, 6), (9, 12)]\n"
     ]
    }
   ],
   "source": [
    "pares_solucion = [(m,n) for m in lista1 for n in lista2 if m > 4 if n % 3 == 0]\n",
    "print(pares_solucion)"
   ]
  },
  {
   "cell_type": "markdown",
   "metadata": {},
   "source": [
    "Con la funcion map obtenemos el logaritmo decimal de \n",
    "cada numero de la lista datos"
   ]
  },
  {
   "cell_type": "code",
   "execution_count": 5,
   "metadata": {},
   "outputs": [
    {
     "name": "stdout",
     "output_type": "stream",
     "text": [
      "[0.47712125471966244, 0.6532125137753437, 1.0, 0.9030899869919435, 2.0293837776852097]\n"
     ]
    }
   ],
   "source": [
    "import math\n",
    "datos = [3, 4.5, 10, 8, 107]\n",
    "retorno = list(map(math.log10, datos))\n",
    "print(retorno)"
   ]
  },
  {
   "cell_type": "markdown",
   "metadata": {},
   "source": [
    "Pero el mismo resultado anterior lo podemos conseguir al usar \n",
    "comprension de listas de esta manera."
   ]
  },
  {
   "cell_type": "code",
   "execution_count": 4,
   "metadata": {},
   "outputs": [
    {
     "name": "stdout",
     "output_type": "stream",
     "text": [
      "[0.47712125471966244, 0.6532125137753437, 1.0, 0.9030899869919435, 2.0293837776852097]\n"
     ]
    }
   ],
   "source": [
    "import math\n",
    "datos = [3, 4.5, 10, 8, 107]\n",
    "logaritmos = [math.log10(i) for i in datos]\n",
    "print(logaritmos)"
   ]
  },
  {
   "cell_type": "markdown",
   "metadata": {},
   "source": [
    "Construimos la lista por comprension de las iniciales de cada palabra de \n",
    "una lista de palabras"
   ]
  },
  {
   "cell_type": "code",
   "execution_count": 3,
   "metadata": {},
   "outputs": [
    {
     "name": "stdout",
     "output_type": "stream",
     "text": [
      "['T', 'R', 'I', 'U', 'N', 'F', 'O']\n"
     ]
    }
   ],
   "source": [
    "palabras = ['Trabajar', 'Resiliencia', 'Incentivo', 'Union', 'Notable', 'Fe', 'Optimismo']\n",
    "\n",
    "acronimo = [palabra[0] for palabra in palabras]\n",
    "print(acronimo)"
   ]
  },
  {
   "cell_type": "markdown",
   "metadata": {},
   "source": [
    "Construimos la lista por comprension de la tabla del 7"
   ]
  },
  {
   "cell_type": "code",
   "execution_count": 8,
   "metadata": {},
   "outputs": [
    {
     "name": "stdout",
     "output_type": "stream",
     "text": [
      "[0, 7, 14, 21, 28, 35, 42, 49, 56, 63, 70, 77, 84]\n"
     ]
    }
   ],
   "source": [
    "tabla_del_7 = [7*i for i in range(13)]\n",
    "print(tabla_del_7)"
   ]
  },
  {
   "cell_type": "markdown",
   "metadata": {},
   "source": [
    "Tenemos una lista de tuplas (nombres, edad) y queremos saber los nombres cuyas\n",
    "edades sean mayores a 30 "
   ]
  },
  {
   "cell_type": "code",
   "execution_count": 2,
   "metadata": {},
   "outputs": [
    {
     "name": "stdout",
     "output_type": "stream",
     "text": [
      "[('Maria', 35), ('Antonio', 38), ('Carlos', 34)]\n"
     ]
    }
   ],
   "source": [
    "nombres_edad = [('Luis', 23), ('Maria', 35), ('Jose', 29), ('Antonio', 38), ('Ana', 27), ('Carlos', 34)]\n",
    "\n",
    "mayores_que_30 = [(nombre, edad) for (nombre, edad) in nombres_edad if edad > 30]\n",
    "print(mayores_que_30)"
   ]
  },
  {
   "cell_type": "markdown",
   "metadata": {},
   "source": [
    "Dada una lista de numeros hallar sus respectivos porcentajes utilizando\n",
    "f-string mediante comprension de listas"
   ]
  },
  {
   "cell_type": "code",
   "execution_count": 1,
   "metadata": {},
   "outputs": [
    {
     "name": "stdout",
     "output_type": "stream",
     "text": [
      "['7.407407407407407 % ', '25.925925925925927 % ', '14.814814814814815 % ', '51.851851851851855 % ']\n"
     ]
    }
   ],
   "source": [
    "numeros = [2,7,4,14]\n",
    "\n",
    "porcentajes = [f\"{i*100/sum(numeros)} %\" for i in numeros]\n",
    "print(porcentajes)"
   ]
  },
  {
   "cell_type": "markdown",
   "metadata": {},
   "source": [
    "Redondeando a dos decimales"
   ]
  },
  {
   "cell_type": "code",
   "execution_count": 4,
   "metadata": {},
   "outputs": [
    {
     "name": "stdout",
     "output_type": "stream",
     "text": [
      "['7.41 %', '25.93 %', '14.81 %', '51.85 %']\n"
     ]
    }
   ],
   "source": [
    "porcentajes_red = [f\"{i*100/sum(numeros):.2f} %\" for i in numeros ]\n",
    "print(porcentajes_red)"
   ]
  },
  {
   "cell_type": "markdown",
   "metadata": {},
   "source": [
    "Dada una lista llamada lista_variada que contiene diferentes tipos de datos\n",
    "como numeros enteros, de punto flotante y cadenas de texto y queremos obtener\n",
    "otra lista que contenga solo los numeros enteros de dicha lista. \n",
    "Para ello hacemos uso de una de las funciones built-in llamado isinstance()"
   ]
  },
  {
   "cell_type": "code",
   "execution_count": 1,
   "metadata": {},
   "outputs": [
    {
     "name": "stdout",
     "output_type": "stream",
     "text": [
      "[2, 7, -1]\n"
     ]
    }
   ],
   "source": [
    "lista_variada = [2, 5.3, \"a\", 7, \"memo\", -1, 2.9]\n",
    "\n",
    "solo_enteros = [i for i in lista_variada if isinstance(i, int)]\n",
    "print(solo_enteros)"
   ]
  },
  {
   "cell_type": "markdown",
   "metadata": {},
   "source": [
    "Ahora de lista_variada queremos obtener solo las cadenas de texto."
   ]
  },
  {
   "cell_type": "code",
   "execution_count": 2,
   "metadata": {},
   "outputs": [
    {
     "name": "stdout",
     "output_type": "stream",
     "text": [
      "['a', 'memo']\n"
     ]
    }
   ],
   "source": [
    "solo_string = [i for i in lista_variada if isinstance(i, str)]\n",
    "print(solo_string)"
   ]
  },
  {
   "cell_type": "markdown",
   "metadata": {},
   "source": [
    "Finalmente si de lista_variada queremos obtener una lista de numeros\n",
    "tanto enteros como de punto flotante"
   ]
  },
  {
   "cell_type": "code",
   "execution_count": 3,
   "metadata": {},
   "outputs": [
    {
     "name": "stdout",
     "output_type": "stream",
     "text": [
      "[2, 5.3, 7, -1, 2.9]\n"
     ]
    }
   ],
   "source": [
    "solo_numeros = [i for i in lista_variada if isinstance(i, (int, float))]\n",
    "print(solo_numeros)"
   ]
  },
  {
   "cell_type": "markdown",
   "metadata": {},
   "source": [
    "Creamos una lista de 5 números enteros al azar entre 1 y 101"
   ]
  },
  {
   "cell_type": "code",
   "execution_count": 1,
   "metadata": {},
   "outputs": [
    {
     "data": {
      "text/plain": [
       "[43, 45, 32, 22, 97]"
      ]
     },
     "execution_count": 1,
     "metadata": {},
     "output_type": "execute_result"
    }
   ],
   "source": [
    "import random\n",
    "lista4 = [random.randint(1, 101) for i in range(5)]\n",
    "lista4"
   ]
  },
  {
   "cell_type": "markdown",
   "metadata": {},
   "source": [
    "Y luego otra lista donde escribiremos si son pares o impares"
   ]
  },
  {
   "cell_type": "code",
   "execution_count": 2,
   "metadata": {},
   "outputs": [
    {
     "data": {
      "text/plain": [
       "['impar', 'impar', 'par', 'par', 'impar']"
      ]
     },
     "execution_count": 2,
     "metadata": {},
     "output_type": "execute_result"
    }
   ],
   "source": [
    "solo_pares = [\"par\" if n % 2 == 0 else \"impar\" for n in lista4]\n",
    "solo_pares"
   ]
  },
  {
   "cell_type": "markdown",
   "metadata": {},
   "source": [
    "Para condicionales con varias sentencias (else)"
   ]
  },
  {
   "cell_type": "code",
   "execution_count": null,
   "metadata": {},
   "outputs": [
    {
     "name": "stdout",
     "output_type": "stream",
     "text": [
      "['bajo', 'bajo', 'medio', 'alto', 'alto', 'medio', 'alto', 'bajo', 'alto']\n"
     ]
    }
   ],
   "source": [
    "# estaturas de algunas personas dadas en cm\n",
    "estaturas = [162, 158, 174, 191, 178, 165, 180, 160, 212]\n",
    "\n",
    "descripcion = [\"bajo\" if estatura < 165  else \"medio\" if  165 <= estatura < 175 else \"alto\" for estatura in estaturas]\n",
    "print(descripcion)"
   ]
  },
  {
   "cell_type": "markdown",
   "metadata": {},
   "source": [
    "Listas anidadas"
   ]
  },
  {
   "cell_type": "code",
   "execution_count": null,
   "metadata": {},
   "outputs": [
    {
     "name": "stdout",
     "output_type": "stream",
     "text": [
      "[['Jorge', 13], ['Andres', 17], ['Ana', 19], ['Julio', 12], ['Vicky', 11]]\n"
     ]
    }
   ],
   "source": [
    "datos = [[\"Jorge\", 13], [\"Andres\", 17], [\"Ana\", 19], [\"Pepe\", 6], [\"Julio\", 12], [\"Vicky\", 11], [\"Jose\", 2]]\n",
    "\n",
    "aprobados = [[dato[0], dato[1]] for dato in datos if dato[1] > 10]\n",
    "print(aprobados)"
   ]
  },
  {
   "cell_type": "code",
   "execution_count": null,
   "metadata": {},
   "outputs": [
    {
     "name": "stdout",
     "output_type": "stream",
     "text": [
      "[13, 17, 19, 6, 12, 11, 2]\n"
     ]
    }
   ],
   "source": [
    "datos = [[\"Jorge\", 13], [\"Andres\", 17], [\"Ana\", 19], [\"Pepe\", 6], [\"Julio\", 12], [\"Vicky\", 11], [\"Jose\", 2]]\n",
    "\n",
    "notas = [nota for nombre, nota in datos]\n",
    "print(notas)"
   ]
  },
  {
   "cell_type": "code",
   "execution_count": 10,
   "metadata": {},
   "outputs": [
    {
     "name": "stdout",
     "output_type": "stream",
     "text": [
      "11.428571428571429\n"
     ]
    }
   ],
   "source": [
    "import statistics as st\n",
    "\n",
    "promedio = st.mean(notas)\n",
    "print(promedio)"
   ]
  },
  {
   "cell_type": "code",
   "execution_count": 11,
   "metadata": {},
   "outputs": [
    {
     "name": "stdout",
     "output_type": "stream",
     "text": [
      "[('Jorge', 13), ('Andres', 17), ('Ana', 19), ('Julio', 12)]\n"
     ]
    }
   ],
   "source": [
    "mayor_que_promedio = [(nombre, nota) for nombre, nota in datos if nota > promedio]\n",
    "print(mayor_que_promedio)\n"
   ]
  },
  {
   "cell_type": "code",
   "execution_count": 12,
   "metadata": {},
   "outputs": [
    {
     "name": "stdout",
     "output_type": "stream",
     "text": [
      "['mas', 'mas', 'mas', 'menos', 'mas', 'menos', 'menos']\n"
     ]
    }
   ],
   "source": [
    "descripcion = [\"mas\" if nota > promedio else \"menos\" for nombre, nota in datos]\n",
    "print(descripcion)"
   ]
  },
  {
   "cell_type": "markdown",
   "metadata": {},
   "source": [
    "De un diccionario dado vamos a obtener una lista con los nombres de las personas que son mayores de edad"
   ]
  },
  {
   "cell_type": "code",
   "execution_count": 13,
   "metadata": {},
   "outputs": [
    {
     "name": "stdout",
     "output_type": "stream",
     "text": [
      "['Maria', 'Jose', 'Luis', 'Juan', 'Oscar']\n"
     ]
    }
   ],
   "source": [
    "datos = {\"Maria\": 23, \"Jose\": 30, \"Luis\": 21, \"Pepe\": 17, \"Ana\": 15, \"Juan\": 20, \"Oscar\": 28, \"Pedro\": 11}\n",
    "\n",
    "mayor_de_edad = [nombre for nombre, edad in datos.items() if edad > 18]\n",
    "print(mayor_de_edad)"
   ]
  }
 ],
 "metadata": {
  "kernelspec": {
   "display_name": "Python 3",
   "language": "python",
   "name": "python3"
  },
  "language_info": {
   "codemirror_mode": {
    "name": "ipython",
    "version": 3
   },
   "file_extension": ".py",
   "mimetype": "text/x-python",
   "name": "python",
   "nbconvert_exporter": "python",
   "pygments_lexer": "ipython3",
   "version": "3.10.7"
  }
 },
 "nbformat": 4,
 "nbformat_minor": 2
}
