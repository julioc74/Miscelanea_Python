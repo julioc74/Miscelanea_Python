{
 "cells": [
  {
   "cell_type": "markdown",
   "metadata": {},
   "source": [
    "# METODOS DE LISTAS"
   ]
  },
  {
   "cell_type": "markdown",
   "metadata": {},
   "source": [
    "La mayoría de los métodos de listas en Python modifican la lista original en lugar de crear una copia. \n",
    "Es decir que cuando aplicas un método a una lista, la lista se modifica directamente. \n",
    "Como por ejemplo:\n",
    "append(), extend(), insert(), remove(), pop(), sort() y reverse().\n",
    "\n",
    "Tambien existen métodos que devuelven una nueva lista sin modificar la lista original, como sorted() y copy(). \n",
    "Además, se puede crear una copia de una lista utilizando el operador de rebanado ([:]) \n",
    "o el constructor list()."
   ]
  },
  {
   "cell_type": "markdown",
   "metadata": {},
   "source": [
    "## Metodo append()"
   ]
  },
  {
   "cell_type": "markdown",
   "metadata": {},
   "source": [
    "El metodo append() se usa para agregar elementos al final de una lista"
   ]
  },
  {
   "cell_type": "code",
   "execution_count": 2,
   "metadata": {},
   "outputs": [
    {
     "name": "stdout",
     "output_type": "stream",
     "text": [
      "['atletismo', 'futbol', 'beisbol', 'voley', 'basquet']\n"
     ]
    }
   ],
   "source": [
    "deportes = ['atletismo', 'futbol', 'beisbol', 'voley']\n",
    "deportes.append('basquet')\n",
    "print(deportes)"
   ]
  },
  {
   "cell_type": "markdown",
   "metadata": {},
   "source": [
    "## Metodo clear()"
   ]
  },
  {
   "cell_type": "markdown",
   "metadata": {},
   "source": [
    "El metodo clear() elimina todo el contenido de una lista"
   ]
  },
  {
   "cell_type": "code",
   "execution_count": 5,
   "metadata": {},
   "outputs": [
    {
     "name": "stdout",
     "output_type": "stream",
     "text": [
      "[]\n"
     ]
    }
   ],
   "source": [
    "deportes = ['atletismo', 'futbol', 'beisbol', 'voley', 'basquet']\n",
    "deportes.clear()\n",
    "print(deportes)"
   ]
  },
  {
   "cell_type": "markdown",
   "metadata": {},
   "source": [
    "## Metodo copy()"
   ]
  },
  {
   "cell_type": "markdown",
   "metadata": {},
   "source": [
    "El metodo copy() devuelve una copia de una lista"
   ]
  },
  {
   "cell_type": "code",
   "execution_count": 21,
   "metadata": {},
   "outputs": [
    {
     "name": "stdout",
     "output_type": "stream",
     "text": [
      "['Paris', 'Tokio', 'Madrid', 'New York', 'El Cairo']\n"
     ]
    }
   ],
   "source": [
    "ciudades = ['Paris', 'Tokio', 'Madrid', 'New York', 'El Cairo']\n",
    "capitales = ciudades.copy()\n",
    "print(capitales)"
   ]
  },
  {
   "cell_type": "markdown",
   "metadata": {},
   "source": [
    "Esto quiere decir que si eliminamos la lista original"
   ]
  },
  {
   "cell_type": "code",
   "execution_count": 22,
   "metadata": {},
   "outputs": [
    {
     "name": "stdout",
     "output_type": "stream",
     "text": [
      "[]\n"
     ]
    }
   ],
   "source": [
    "ciudades.clear()\n",
    "print(ciudades)"
   ]
  },
  {
   "cell_type": "markdown",
   "metadata": {},
   "source": [
    "La lista copiada no se alterara"
   ]
  },
  {
   "cell_type": "code",
   "execution_count": 23,
   "metadata": {},
   "outputs": [
    {
     "name": "stdout",
     "output_type": "stream",
     "text": [
      "['Paris', 'Tokio', 'Madrid', 'New York', 'El Cairo']\n"
     ]
    }
   ],
   "source": [
    "print(capitales)"
   ]
  },
  {
   "cell_type": "markdown",
   "metadata": {},
   "source": [
    "## Metodo count()"
   ]
  },
  {
   "cell_type": "markdown",
   "metadata": {},
   "source": [
    "El metodo count cuenta cuantas veces esta incluido un valor\n",
    "determinado como parametro en una lista"
   ]
  },
  {
   "cell_type": "code",
   "execution_count": 1,
   "metadata": {},
   "outputs": [
    {
     "name": "stdout",
     "output_type": "stream",
     "text": [
      "3\n"
     ]
    }
   ],
   "source": [
    "notas = [11, 14, 15, 8, 11, 16, 5, 14, 18, 11, 12]\n",
    "cantidades_11 = notas.count(11)\n",
    "print(cantidades_11)"
   ]
  },
  {
   "cell_type": "markdown",
   "metadata": {},
   "source": [
    "## Metodo extend()"
   ]
  },
  {
   "cell_type": "markdown",
   "metadata": {},
   "source": [
    "El metodo extend() agrega elementos de un iterable (lista, tupla, string) \n",
    "a una lista"
   ]
  },
  {
   "cell_type": "code",
   "execution_count": 1,
   "metadata": {},
   "outputs": [
    {
     "name": "stdout",
     "output_type": "stream",
     "text": [
      "['naranja', 'manzana', 'sandia', 'pera', 'platano']\n"
     ]
    }
   ],
   "source": [
    "frutas = ['naranja', 'manzana', 'sandia']\n",
    "otras_frutas = ['pera', 'platano']\n",
    "frutas.extend(otras_frutas)\n",
    "print(frutas)"
   ]
  },
  {
   "cell_type": "code",
   "execution_count": 2,
   "metadata": {},
   "outputs": [
    {
     "name": "stdout",
     "output_type": "stream",
     "text": [
      "['Canada', 'Brasil', 'Japon', 'Francia', 'Italia']\n"
     ]
    }
   ],
   "source": [
    "tupla_paises = ('Francia', 'Italia')\n",
    "lista_paises = ['Canada', 'Brasil', 'Japon']\n",
    "\n",
    "lista_paises.extend(tupla_paises)\n",
    "print(lista_paises)"
   ]
  },
  {
   "cell_type": "code",
   "execution_count": 3,
   "metadata": {},
   "outputs": [
    {
     "name": "stdout",
     "output_type": "stream",
     "text": [
      "['e', 'f', 'm', 'vamos']\n"
     ]
    }
   ],
   "source": [
    "palabra = ['e','f','m']\n",
    "otra_palabra = ['vamos']\n",
    "palabra.extend(otra_palabra)\n",
    "print(palabra)"
   ]
  },
  {
   "cell_type": "markdown",
   "metadata": {},
   "source": [
    "Si el iterable a agregar es de tipo cadena de texto o string,\n",
    "añadira cada caracter de la cadena de texto a la lista."
   ]
  },
  {
   "cell_type": "code",
   "execution_count": 1,
   "metadata": {},
   "outputs": [
    {
     "name": "stdout",
     "output_type": "stream",
     "text": [
      "['a', 'b', 'c', 'v', 'a', 'm', 'o', 's']\n"
     ]
    }
   ],
   "source": [
    "letras = ['a', 'b', 'c']\n",
    "cadena = \"vamos\"\n",
    "letras.extend(cadena)\n",
    "print(letras)"
   ]
  },
  {
   "cell_type": "markdown",
   "metadata": {},
   "source": [
    "## Metodo index()"
   ]
  },
  {
   "cell_type": "markdown",
   "metadata": {},
   "source": [
    "El metodo index() devuelve el indice de un elemento\n",
    "contenido en una lista. Para ello debemos de pasarle \n",
    "como parametro el elementocuyo indice se desea encontrar."
   ]
  },
  {
   "cell_type": "code",
   "execution_count": 3,
   "metadata": {},
   "outputs": [
    {
     "name": "stdout",
     "output_type": "stream",
     "text": [
      "El indice del elemento 20 es 1\n"
     ]
    }
   ],
   "source": [
    "lista = [10,20,30,40,50]\n",
    "indice_20 = lista.index(20)\n",
    "print(f\"El indice del elemento 20 es {indice_20}\")"
   ]
  },
  {
   "cell_type": "markdown",
   "metadata": {},
   "source": [
    "Si el elemento se repite el metodo index() nos devolvera\n",
    "el indice de la primera aparicion del elemento"
   ]
  },
  {
   "cell_type": "code",
   "execution_count": 4,
   "metadata": {},
   "outputs": [
    {
     "name": "stdout",
     "output_type": "stream",
     "text": [
      "3\n"
     ]
    }
   ],
   "source": [
    "vocales = ['a', 'i', 'o', 'e', 'u', 'o', 'e', 'a', 'e']\n",
    "print(vocales.index('e'))"
   ]
  },
  {
   "cell_type": "markdown",
   "metadata": {},
   "source": [
    "Pero tambien podemos acotar la busqueda del elemento pedido\n",
    "dandole como parametro el indice inicial de busqueda = 4\n",
    "y el indice final de busqueda = 8"
   ]
  },
  {
   "cell_type": "code",
   "execution_count": 5,
   "metadata": {},
   "outputs": [
    {
     "name": "stdout",
     "output_type": "stream",
     "text": [
      "6\n"
     ]
    }
   ],
   "source": [
    "print(vocales.index('e', 4, 8))"
   ]
  },
  {
   "cell_type": "markdown",
   "metadata": {},
   "source": [
    "## Metodo insert()"
   ]
  },
  {
   "cell_type": "markdown",
   "metadata": {},
   "source": [
    "El metodo insert() nos permite insertar un elemento a una lista\n",
    "dandole como parametro el indice donde deseamos insertar \n",
    "dicho elemento."
   ]
  },
  {
   "cell_type": "markdown",
   "metadata": {},
   "source": [
    "En el ejemplo vamos a insertar en el indice=1 el \n",
    "elemento 'k'"
   ]
  },
  {
   "cell_type": "code",
   "execution_count": 1,
   "metadata": {},
   "outputs": [
    {
     "name": "stdout",
     "output_type": "stream",
     "text": [
      "['m', 'k', 'n', 'p']\n"
     ]
    }
   ],
   "source": [
    "letras = ['m', 'n', 'p']\n",
    "\n",
    "letras.insert(1, 'k')\n",
    "print(letras)"
   ]
  },
  {
   "cell_type": "markdown",
   "metadata": {},
   "source": [
    "En el siguiente ejemplo vamos a insertar el elemento 't'\n",
    "en el indice = len(letras), que es 4 osea al final de la\n",
    "lista. "
   ]
  },
  {
   "cell_type": "code",
   "execution_count": 2,
   "metadata": {},
   "outputs": [
    {
     "name": "stdout",
     "output_type": "stream",
     "text": [
      "['m', 'k', 'n', 'p', 't']\n"
     ]
    }
   ],
   "source": [
    "letras.insert(len(letras), 't')\n",
    "print(letras)"
   ]
  },
  {
   "cell_type": "code",
   "execution_count": 3,
   "metadata": {},
   "outputs": [
    {
     "name": "stdout",
     "output_type": "stream",
     "text": [
      "[2, 'a', (3, 7, -1), 5.3, 'vamos']\n"
     ]
    }
   ],
   "source": [
    "lista_variada = [2, 'a', 5.3, 'vamos']\n",
    "tupla = (3, 7, -1)\n",
    "\n",
    "lista_variada.insert(2, tupla)\n",
    "print(lista_variada)"
   ]
  },
  {
   "cell_type": "markdown",
   "metadata": {},
   "source": [
    "## Metodo pop()"
   ]
  },
  {
   "cell_type": "markdown",
   "metadata": {},
   "source": [
    "El metodo pop() elimina y devuelve un elemento de una lista.\n",
    "Si no se especifica un parametro elimina y devuelve el \n",
    "ultimo elemento de la lista.\n",
    "Si especificamos un indice eliminara y devolvera el elemento\n",
    "que ocupe dicho indice en la lista."
   ]
  },
  {
   "cell_type": "markdown",
   "metadata": {},
   "source": [
    "En el siguiente ejemplo a la lista frutas le aplicamos el\n",
    "metodo pop() sin parametros; por lo tanto eliminara y devolvera\n",
    "el ultimo elemento de la lista"
   ]
  },
  {
   "cell_type": "code",
   "execution_count": 1,
   "metadata": {},
   "outputs": [
    {
     "name": "stdout",
     "output_type": "stream",
     "text": [
      "['manzana', 'pera', 'sandia', 'melon']\n"
     ]
    }
   ],
   "source": [
    "frutas = ['manzana', 'pera', 'sandia', 'melon', 'platano']\n",
    "\n",
    "frutas.pop()\n",
    "print(frutas)\n"
   ]
  },
  {
   "cell_type": "markdown",
   "metadata": {},
   "source": [
    "Ahora con la lista modificada le aplicamos el parametro 1\n",
    "al metodo pop (pop(1)) lo cual significa que eliminara\n",
    "y devolvera el elemento que ocupa la posicion de indice 1\n",
    "en la lista, es decir el elemento 'pera'  "
   ]
  },
  {
   "cell_type": "code",
   "execution_count": 2,
   "metadata": {},
   "outputs": [
    {
     "data": {
      "text/plain": [
       "'pera'"
      ]
     },
     "execution_count": 2,
     "metadata": {},
     "output_type": "execute_result"
    }
   ],
   "source": [
    "frutas.pop(1)"
   ]
  },
  {
   "cell_type": "code",
   "execution_count": 3,
   "metadata": {},
   "outputs": [
    {
     "name": "stdout",
     "output_type": "stream",
     "text": [
      "['manzana', 'sandia', 'melon']\n"
     ]
    }
   ],
   "source": [
    "print(frutas)"
   ]
  },
  {
   "cell_type": "markdown",
   "metadata": {},
   "source": [
    "## Metodo remove()"
   ]
  },
  {
   "cell_type": "markdown",
   "metadata": {},
   "source": [
    "El metodo remove() a diferencia del metodo pop() elimina un\n",
    "elemento de una lista dandole como parametro el nombre del \n",
    "elemento que se desea eliminar en lugar del indice de posicion \n",
    "como lo hace el metodo pop()"
   ]
  },
  {
   "cell_type": "code",
   "execution_count": 5,
   "metadata": {},
   "outputs": [
    {
     "name": "stdout",
     "output_type": "stream",
     "text": [
      "['Ana', 'Carlos', 'Claudia', 'Luis']\n"
     ]
    }
   ],
   "source": [
    "nombres = ['Ana', 'Carlos', 'Jose', 'Claudia', 'Luis']\n",
    "\n",
    "nombres.remove('Jose')\n",
    "print(nombres)"
   ]
  },
  {
   "cell_type": "markdown",
   "metadata": {},
   "source": [
    "Si los elementos se repiten eliminara la primera coincidencia"
   ]
  },
  {
   "cell_type": "code",
   "execution_count": 6,
   "metadata": {},
   "outputs": [
    {
     "name": "stdout",
     "output_type": "stream",
     "text": [
      "['rojo', 'azul', 'negro', 'verde', 'amarillo', 'rojo']\n"
     ]
    }
   ],
   "source": [
    "colores = ['rojo', 'verde', 'azul', 'negro', 'verde', 'amarillo', 'rojo']\n",
    "\n",
    "colores.remove('verde')\n",
    "print(colores)"
   ]
  },
  {
   "cell_type": "markdown",
   "metadata": {},
   "source": [
    "Si el elemento no se encuentra en la lista nos arrojara\n",
    "un error de tipo 'ValueError'"
   ]
  },
  {
   "cell_type": "code",
   "execution_count": 7,
   "metadata": {},
   "outputs": [
    {
     "ename": "ValueError",
     "evalue": "list.remove(x): x not in list",
     "output_type": "error",
     "traceback": [
      "\u001b[1;31m---------------------------------------------------------------------------\u001b[0m",
      "\u001b[1;31mValueError\u001b[0m                                Traceback (most recent call last)",
      "\u001b[1;32mc:\\Users\\cesar\\Desktop\\Miscelanea_Python\\metodos_listas.ipynb Cell 48\u001b[0m line \u001b[0;36m1\n\u001b[1;32m----> <a href='vscode-notebook-cell:/c%3A/Users/cesar/Desktop/Miscelanea_Python/metodos_listas.ipynb#X65sZmlsZQ%3D%3D?line=0'>1</a>\u001b[0m colores\u001b[39m.\u001b[39;49mremove(\u001b[39m'\u001b[39;49m\u001b[39mgris\u001b[39;49m\u001b[39m'\u001b[39;49m)\n",
      "\u001b[1;31mValueError\u001b[0m: list.remove(x): x not in list"
     ]
    }
   ],
   "source": [
    "colores.remove('gris')"
   ]
  },
  {
   "cell_type": "markdown",
   "metadata": {},
   "source": [
    "## Metodo reverse"
   ]
  },
  {
   "cell_type": "markdown",
   "metadata": {},
   "source": [
    "El metodo reverse() invierte el orden de los elementos de una lista"
   ]
  },
  {
   "cell_type": "code",
   "execution_count": 9,
   "metadata": {},
   "outputs": [
    {
     "name": "stdout",
     "output_type": "stream",
     "text": [
      "['quinto', 'cuarto', 'tercero', 'segundo', 'primero']\n"
     ]
    }
   ],
   "source": [
    "orden = ['primero', 'segundo', 'tercero', 'cuarto', 'quinto']\n",
    "\n",
    "orden.reverse()\n",
    "print(orden)"
   ]
  },
  {
   "cell_type": "markdown",
   "metadata": {},
   "source": [
    "## Metodo sort()"
   ]
  },
  {
   "cell_type": "markdown",
   "metadata": {},
   "source": [
    "El metodo sort() se usa para ordenar de manera ascendente\n",
    "si es que no se especifica ningun parametro."
   ]
  },
  {
   "cell_type": "code",
   "execution_count": 10,
   "metadata": {},
   "outputs": [
    {
     "name": "stdout",
     "output_type": "stream",
     "text": [
      "[7, 11, 23, 29, 33, 47, 56, 75, 88, 142]\n"
     ]
    }
   ],
   "source": [
    "numeracion = [23, 142, 75, 11, 88, 56, 7, 47, 33, 29]\n",
    "\n",
    "numeracion.sort()\n",
    "print(numeracion)"
   ]
  },
  {
   "cell_type": "markdown",
   "metadata": {},
   "source": [
    "Si queremos ordenar de manera descendente debemos especificar\n",
    "como parametro la palabra reverse con el valor booleano 'True'"
   ]
  },
  {
   "cell_type": "code",
   "execution_count": 13,
   "metadata": {},
   "outputs": [
    {
     "name": "stdout",
     "output_type": "stream",
     "text": [
      "[99, 85, 72, 54, 41, 28, 21, 15, 5]\n"
     ]
    }
   ],
   "source": [
    "otros_numeros = [72, 28, 54, 15, 85, 21, 5, 99, 41]\n",
    "\n",
    "otros_numeros.sort(reverse=True)\n",
    "print(otros_numeros)"
   ]
  },
  {
   "cell_type": "markdown",
   "metadata": {},
   "source": [
    "Con cadenas de caracteres ocurre lo mismo"
   ]
  },
  {
   "cell_type": "code",
   "execution_count": 12,
   "metadata": {},
   "outputs": [
    {
     "name": "stdout",
     "output_type": "stream",
     "text": [
      "['a23', 'b57', 'c43', 'k22', 'm11', 'm90', 'p12', 'p74']\n"
     ]
    }
   ],
   "source": [
    "codigos = ['m11', 'b57', 'p12', 'a23', 'p74', 'm90', 'c43', 'k22']\n",
    "\n",
    "codigos.sort()\n",
    "print(codigos)\n"
   ]
  },
  {
   "cell_type": "code",
   "execution_count": 14,
   "metadata": {},
   "outputs": [
    {
     "name": "stdout",
     "output_type": "stream",
     "text": [
      "['tango', 'piedra', 'marea', 'bravo', 'amanda']\n"
     ]
    }
   ],
   "source": [
    "mas_codigos = ['amanda', 'tango', 'bravo', 'marea', 'piedra']\n",
    "\n",
    "mas_codigos.sort(reverse=True)\n",
    "print(mas_codigos)"
   ]
  },
  {
   "cell_type": "markdown",
   "metadata": {},
   "source": [
    "Se puede usar el metodo sort() usando como parametro una \n",
    "funcion particular creada para un fin especifico.\n",
    "En el siguiente ejemplo creamos una funcion llamada\n",
    "longitud que retorna la longitud de una cadena de caracteres\n",
    "y dicha funcion le pasamos como valor del parametro key\n",
    "y nos devolvera la lista modificada de acuerdo a la cantidad\n",
    "de caracteres en orden ascendente"
   ]
  },
  {
   "cell_type": "code",
   "execution_count": 20,
   "metadata": {},
   "outputs": [
    {
     "name": "stdout",
     "output_type": "stream",
     "text": [
      "['VW', 'BMW', 'Ford', 'Tesla', 'Toyota', 'Ferrari']\n"
     ]
    }
   ],
   "source": [
    "def longitud(palabra):\n",
    "    return len(palabra)\n",
    "\n",
    "marcas = ['Ford', 'Toyota', 'BMW', 'VW', 'Tesla', 'Ferrari']\n",
    "marcas.sort(key=longitud)\n",
    "print(marcas)"
   ]
  },
  {
   "cell_type": "markdown",
   "metadata": {},
   "source": [
    "Si queremos invertir el orden, agregamos el parametro reverse\n",
    "con el valor booleano 'True' "
   ]
  },
  {
   "cell_type": "code",
   "execution_count": 19,
   "metadata": {},
   "outputs": [
    {
     "name": "stdout",
     "output_type": "stream",
     "text": [
      "['Ferrari', 'Toyota', 'Tesla', 'Ford', 'BMW', 'VW']\n"
     ]
    }
   ],
   "source": [
    "marcas.sort(key=longitud, reverse=True)\n",
    "print(marcas)"
   ]
  },
  {
   "cell_type": "markdown",
   "metadata": {},
   "source": [
    "# OTROS METODOS "
   ]
  },
  {
   "cell_type": "markdown",
   "metadata": {},
   "source": [
    "Existen otros metodos que son funciones incorporadas de python (built in function)\n",
    "como sorted, reversed que se pueden aplicar no solo a listas sino a iterables\n",
    "en general (tuplas, cadenas, etc), solo que a diferencia de sort o reverse; sorted\n",
    "y reversed devuelven una copia de la lista original y no alteran la lista original.\n"
   ]
  }
 ],
 "metadata": {
  "kernelspec": {
   "display_name": "Python 3",
   "language": "python",
   "name": "python3"
  },
  "language_info": {
   "codemirror_mode": {
    "name": "ipython",
    "version": 3
   },
   "file_extension": ".py",
   "mimetype": "text/x-python",
   "name": "python",
   "nbconvert_exporter": "python",
   "pygments_lexer": "ipython3",
   "version": "3.10.7"
  }
 },
 "nbformat": 4,
 "nbformat_minor": 2
}
