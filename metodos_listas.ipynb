{
 "cells": [
  {
   "cell_type": "markdown",
   "metadata": {},
   "source": [
    "# METODOS DE LISTAS"
   ]
  },
  {
   "cell_type": "markdown",
   "metadata": {},
   "source": [
    "La mayoría de los métodos de listas en Python modifican la lista original en lugar de crear una copia. \n",
    "Es decir que cuando aplicas un método a una lista, la lista se modifica directamente. \n",
    "Como por ejemplo:\n",
    "append(), extend(), insert(), remove(), pop(), sort() y reverse().\n",
    "\n",
    "Tambien existen métodos que devuelven una nueva lista sin modificar la lista original, como sorted() y copy(). \n",
    "Además, se puede crear una copia de una lista utilizando el operador de rebanado ([:]) \n",
    "o el constructor list()."
   ]
  },
  {
   "cell_type": "markdown",
   "metadata": {},
   "source": [
    "## Metodo append()"
   ]
  },
  {
   "cell_type": "markdown",
   "metadata": {},
   "source": [
    "El metodo append() se usa para agregar elementos al final de una lista"
   ]
  },
  {
   "cell_type": "code",
   "execution_count": 2,
   "metadata": {},
   "outputs": [
    {
     "name": "stdout",
     "output_type": "stream",
     "text": [
      "['atletismo', 'futbol', 'beisbol', 'voley', 'basquet']\n"
     ]
    }
   ],
   "source": [
    "deportes = ['atletismo', 'futbol', 'beisbol', 'voley']\n",
    "deportes.append('basquet')\n",
    "print(deportes)"
   ]
  },
  {
   "cell_type": "markdown",
   "metadata": {},
   "source": [
    "## Metodo clear()"
   ]
  },
  {
   "cell_type": "code",
   "execution_count": 5,
   "metadata": {},
   "outputs": [
    {
     "name": "stdout",
     "output_type": "stream",
     "text": [
      "[]\n"
     ]
    }
   ],
   "source": [
    "deportes = ['atletismo', 'futbol', 'beisbol', 'voley', 'basquet']\n",
    "deportes.clear()\n",
    "print(deportes)"
   ]
  },
  {
   "cell_type": "markdown",
   "metadata": {},
   "source": [
    "## Metodo copy()"
   ]
  },
  {
   "cell_type": "markdown",
   "metadata": {},
   "source": [
    "El metodo copy() devuelve una copia de una lista"
   ]
  },
  {
   "cell_type": "code",
   "execution_count": 21,
   "metadata": {},
   "outputs": [
    {
     "name": "stdout",
     "output_type": "stream",
     "text": [
      "['Paris', 'Tokio', 'Madrid', 'New York', 'El Cairo']\n"
     ]
    }
   ],
   "source": [
    "ciudades = ['Paris', 'Tokio', 'Madrid', 'New York', 'El Cairo']\n",
    "capitales = ciudades.copy()\n",
    "print(capitales)"
   ]
  },
  {
   "cell_type": "markdown",
   "metadata": {},
   "source": [
    "Esto quiere decir que si eliminamos la lista original"
   ]
  },
  {
   "cell_type": "code",
   "execution_count": 22,
   "metadata": {},
   "outputs": [
    {
     "name": "stdout",
     "output_type": "stream",
     "text": [
      "[]\n"
     ]
    }
   ],
   "source": [
    "ciudades.clear()\n",
    "print(ciudades)"
   ]
  },
  {
   "cell_type": "markdown",
   "metadata": {},
   "source": [
    "La lista copiada no se alterara"
   ]
  },
  {
   "cell_type": "code",
   "execution_count": 23,
   "metadata": {},
   "outputs": [
    {
     "name": "stdout",
     "output_type": "stream",
     "text": [
      "['Paris', 'Tokio', 'Madrid', 'New York', 'El Cairo']\n"
     ]
    }
   ],
   "source": [
    "print(capitales)"
   ]
  },
  {
   "cell_type": "markdown",
   "metadata": {},
   "source": [
    "## Metodo count()"
   ]
  },
  {
   "cell_type": "markdown",
   "metadata": {},
   "source": [
    "El metodo count cuenta cuantas veces esta incluido un valor\n",
    "determinado como parametro en una lista"
   ]
  },
  {
   "cell_type": "code",
   "execution_count": 1,
   "metadata": {},
   "outputs": [
    {
     "name": "stdout",
     "output_type": "stream",
     "text": [
      "3\n"
     ]
    }
   ],
   "source": [
    "notas = [11, 14, 15, 8, 11, 16, 5, 14, 18, 11, 12]\n",
    "cantidades_11 = notas.count(11)\n",
    "print(cantidades_11)"
   ]
  },
  {
   "cell_type": "markdown",
   "metadata": {},
   "source": [
    "## Metodo extend()"
   ]
  },
  {
   "cell_type": "markdown",
   "metadata": {},
   "source": [
    "El metodo extend() agrega elementos de un iterable (lista, tupla, string) \n",
    "a una lista"
   ]
  },
  {
   "cell_type": "code",
   "execution_count": 1,
   "metadata": {},
   "outputs": [
    {
     "name": "stdout",
     "output_type": "stream",
     "text": [
      "['naranja', 'manzana', 'sandia', 'pera', 'platano']\n"
     ]
    }
   ],
   "source": [
    "frutas = ['naranja', 'manzana', 'sandia']\n",
    "otras_frutas = ['pera', 'platano']\n",
    "frutas.extend(otras_frutas)\n",
    "print(frutas)"
   ]
  },
  {
   "cell_type": "code",
   "execution_count": 2,
   "metadata": {},
   "outputs": [
    {
     "name": "stdout",
     "output_type": "stream",
     "text": [
      "['Canada', 'Brasil', 'Japon', 'Francia', 'Italia']\n"
     ]
    }
   ],
   "source": [
    "tupla_paises = ('Francia', 'Italia')\n",
    "lista_paises = ['Canada', 'Brasil', 'Japon']\n",
    "\n",
    "lista_paises.extend(tupla_paises)\n",
    "print(lista_paises)"
   ]
  },
  {
   "cell_type": "code",
   "execution_count": 3,
   "metadata": {},
   "outputs": [
    {
     "name": "stdout",
     "output_type": "stream",
     "text": [
      "['e', 'f', 'm', 'vamos']\n"
     ]
    }
   ],
   "source": [
    "palabra = ['e','f','m']\n",
    "otra_palabra = ['vamos']\n",
    "palabra.extend(otra_palabra)\n",
    "print(palabra)"
   ]
  },
  {
   "cell_type": "markdown",
   "metadata": {},
   "source": [
    "Si el iterable a agregar es de tipo cadena de texto o string,\n",
    "añadira cada caracter de la cadena de texto a la lista."
   ]
  },
  {
   "cell_type": "code",
   "execution_count": 1,
   "metadata": {},
   "outputs": [
    {
     "name": "stdout",
     "output_type": "stream",
     "text": [
      "['a', 'b', 'c', 'v', 'a', 'm', 'o', 's']\n"
     ]
    }
   ],
   "source": [
    "letras = ['a', 'b', 'c']\n",
    "cadena = \"vamos\"\n",
    "letras.extend(cadena)\n",
    "print(letras)"
   ]
  },
  {
   "cell_type": "markdown",
   "metadata": {},
   "source": [
    "## Metodo index()"
   ]
  },
  {
   "cell_type": "code",
   "execution_count": 3,
   "metadata": {},
   "outputs": [
    {
     "name": "stdout",
     "output_type": "stream",
     "text": [
      "El indice del elemento 20 es 1\n"
     ]
    }
   ],
   "source": [
    "lista = [10,20,30,40,50]\n",
    "indice_20 = lista.index(20)\n",
    "print(f\"El indice del elemento 20 es {indice_20}\")"
   ]
  },
  {
   "cell_type": "markdown",
   "metadata": {},
   "source": [
    "Si el elemento se repite el metodo index() nos devolvera\n",
    "el indice de la primera aparicion del elemento"
   ]
  },
  {
   "cell_type": "code",
   "execution_count": 4,
   "metadata": {},
   "outputs": [
    {
     "name": "stdout",
     "output_type": "stream",
     "text": [
      "3\n"
     ]
    }
   ],
   "source": [
    "vocales = ['a', 'i', 'o', 'e', 'u', 'o', 'e', 'a', 'e']\n",
    "print(vocales.index('e'))"
   ]
  },
  {
   "cell_type": "markdown",
   "metadata": {},
   "source": [
    "Pero tambien podemos acotar la busqueda del elemento pedido\n",
    "dandole como parametro el indice inicial de busqueda = 4\n",
    "y el indice final de busqueda = 8"
   ]
  },
  {
   "cell_type": "code",
   "execution_count": 5,
   "metadata": {},
   "outputs": [
    {
     "name": "stdout",
     "output_type": "stream",
     "text": [
      "6\n"
     ]
    }
   ],
   "source": [
    "print(vocales.index('e', 4, 8))"
   ]
  },
  {
   "cell_type": "markdown",
   "metadata": {},
   "source": [
    "## Metodo insert()"
   ]
  },
  {
   "cell_type": "markdown",
   "metadata": {},
   "source": [
    "El metodo insert() nos permite insertar un elemento a una lista\n",
    "dandole como parametro el indice donde deseamos insertar \n",
    "dicho elemento."
   ]
  },
  {
   "cell_type": "code",
   "execution_count": 1,
   "metadata": {},
   "outputs": [
    {
     "name": "stdout",
     "output_type": "stream",
     "text": [
      "['m', 'k', 'n', 'p']\n"
     ]
    }
   ],
   "source": [
    "letras = ['m', 'n', 'p']\n",
    "\n",
    "letras.insert(1, 'k')\n",
    "print(letras)"
   ]
  },
  {
   "cell_type": "code",
   "execution_count": 2,
   "metadata": {},
   "outputs": [
    {
     "name": "stdout",
     "output_type": "stream",
     "text": [
      "['m', 'k', 'n', 'p', 't']\n"
     ]
    }
   ],
   "source": [
    "letras.insert(len(letras), 't')\n",
    "print(letras)"
   ]
  },
  {
   "cell_type": "code",
   "execution_count": 3,
   "metadata": {},
   "outputs": [
    {
     "name": "stdout",
     "output_type": "stream",
     "text": [
      "[2, 'a', (3, 7, -1), 5.3, 'vamos']\n"
     ]
    }
   ],
   "source": [
    "lista_variada = [2, 'a', 5.3, 'vamos']\n",
    "tupla = (3, 7, -1)\n",
    "\n",
    "lista_variada.insert(2, tupla)\n",
    "print(lista_variada)"
   ]
  },
  {
   "cell_type": "markdown",
   "metadata": {},
   "source": [
    "## Metodo pop()"
   ]
  }
 ],
 "metadata": {
  "kernelspec": {
   "display_name": "Python 3",
   "language": "python",
   "name": "python3"
  },
  "language_info": {
   "codemirror_mode": {
    "name": "ipython",
    "version": 3
   },
   "file_extension": ".py",
   "mimetype": "text/x-python",
   "name": "python",
   "nbconvert_exporter": "python",
   "pygments_lexer": "ipython3",
   "version": "3.10.7"
  }
 },
 "nbformat": 4,
 "nbformat_minor": 2
}
