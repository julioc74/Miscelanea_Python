{
 "cells": [
  {
   "cell_type": "markdown",
   "metadata": {},
   "source": [
    "<p style= \"text-align=center;\"> # La sentencia Return </p> "
   ]
  },
  {
   "cell_type": "markdown",
   "metadata": {},
   "source": [
    "## La sentencia return en python sirve para devolver un valor al lugar donde la función fué llamada; pudiendo devolver o retornar cualquier tipo de dato desde un numero,\n",
    "    cadena de caracteres, booleano, listas, diccionarios, objetos, multiples valores (más de uno) o none.    "
   ]
  },
  {
   "cell_type": "code",
   "execution_count": 1,
   "metadata": {},
   "outputs": [
    {
     "data": {
      "text/plain": [
       "10"
      ]
     },
     "execution_count": 1,
     "metadata": {},
     "output_type": "execute_result"
    }
   ],
   "source": [
    "# Ejemplo de return simple\n",
    "\n",
    "def suma(a, b):\n",
    "    return a + b\n",
    "\n",
    "suma(3,7)"
   ]
  },
  {
   "cell_type": "code",
   "execution_count": 2,
   "metadata": {},
   "outputs": [
    {
     "data": {
      "text/plain": [
       "False"
      ]
     },
     "execution_count": 2,
     "metadata": {},
     "output_type": "execute_result"
    }
   ],
   "source": [
    "def mayor_de_edad(edad):\n",
    "    if edad > 18:\n",
    "        return True\n",
    "    else:\n",
    "        return False\n",
    "    \n",
    "mayor_de_edad(15)"
   ]
  },
  {
   "cell_type": "markdown",
   "metadata": {},
   "source": [
    "En el siguiente ejemplo se muestra como python puede devolver una lista bajo una condición pedida(sólo números enteros)"
   ]
  },
  {
   "cell_type": "code",
   "execution_count": 1,
   "metadata": {},
   "outputs": [
    {
     "data": {
      "text/plain": [
       "[3, 7, 8]"
      ]
     },
     "execution_count": 1,
     "metadata": {},
     "output_type": "execute_result"
    }
   ],
   "source": [
    "def es_numero(lista):\n",
    "    lista_numeros = []\n",
    "    for elem in lista:\n",
    "        if isinstance(elem, int):\n",
    "            lista_numeros.append(elem)\n",
    "    return lista_numeros\n",
    " \n",
    "mezcla = ['a', 3, 4.5, \"True\", 7, 'Banana', 8, [6, 'abc']] \n",
    "\n",
    "es_numero(mezcla)       "
   ]
  },
  {
   "cell_type": "markdown",
   "metadata": {},
   "source": [
    "En el siguiente ejemplo vemos como puede retornar un diccionario "
   ]
  },
  {
   "cell_type": "code",
   "execution_count": 8,
   "metadata": {},
   "outputs": [
    {
     "data": {
      "text/plain": [
       "{'Maria': 22, 'manuel': 15}"
      ]
     },
     "execution_count": 8,
     "metadata": {},
     "output_type": "execute_result"
    }
   ],
   "source": [
    "def selecciona_nombres(dicc):\n",
    "    empieza_con_m = {}\n",
    "    for i, v in dicc.items():\n",
    "        if  i.startswith(('m','M')):\n",
    "           empieza_con_m[i] = v\n",
    "            \n",
    "    return empieza_con_m\n",
    "\n",
    "nombres = {\"Ana\" : 28, \"Pepe\" : 34, \"Maria\" : 22, \"juan\": 27, \"manuel\": 15}\n",
    "\n",
    "selecciona_nombres(nombres)"
   ]
  },
  {
   "cell_type": "markdown",
   "metadata": {},
   "source": [
    "Retornando un diccionario usando comprensión de diccionarios."
   ]
  },
  {
   "cell_type": "code",
   "execution_count": null,
   "metadata": {},
   "outputs": [
    {
     "name": "stdout",
     "output_type": "stream",
     "text": [
      "{('Maria', 22), ('manuel', 15)}\n"
     ]
    }
   ],
   "source": [
    "nombres = {\"Ana\" : 28, \"Pepe\" : 34, \"Maria\" : 22, \"juan\": 27, \"manuel\": 15}\n",
    "\n",
    "def seleccion(dicc):\n",
    "    return {(i,v) for i, v in dicc.items() if i.startswith(('m', 'M')) }\n",
    "    \n",
    "diccionario = seleccion(nombres)\n",
    "print(diccionario)"
   ]
  },
  {
   "cell_type": "markdown",
   "metadata": {},
   "source": [
    "Devolviendo una cadena de caracteres contenido en una frase."
   ]
  },
  {
   "cell_type": "code",
   "execution_count": 11,
   "metadata": {},
   "outputs": [
    {
     "data": {
      "text/plain": [
       "'de cuyo nombre no quiero acordarme'"
      ]
     },
     "execution_count": 11,
     "metadata": {},
     "output_type": "execute_result"
    }
   ],
   "source": [
    "frase = \"En un lugar de la Mancha, de cuyo nombre no quiero acordarme, no ha mucho tiempo que vivía un hidalgo de los de lanza en astillero, adarga antigua, rocín flaco y galgo corredor.\"\n",
    "\n",
    "def parrafo_interior(texto):\n",
    "    return texto[26:60]\n",
    "\n",
    "parrafo_interior(frase)"
   ]
  },
  {
   "cell_type": "markdown",
   "metadata": {},
   "source": [
    "Devolviendo un valor dentro de una clase"
   ]
  },
  {
   "cell_type": "code",
   "execution_count": 13,
   "metadata": {},
   "outputs": [
    {
     "name": "stdout",
     "output_type": "stream",
     "text": [
      "el nombre es  Jose y su edad es  34\n"
     ]
    }
   ],
   "source": [
    "class Persona():\n",
    "    \n",
    "    def __init__(self, nombre, edad):\n",
    "        self.nombre = nombre\n",
    "        self.edad = edad\n",
    "    \n",
    "    def ver_datos(self):\n",
    "        return f\"el nombre es  {self.nombre} y su edad es  {self.edad}\"\n",
    "\n",
    "    \n",
    "p = Persona(\"Jose\", 34)\n",
    "print(p.ver_datos())   "
   ]
  },
  {
   "cell_type": "markdown",
   "metadata": {},
   "source": [
    "Además return puede devolver múltiples valores a la vez"
   ]
  },
  {
   "cell_type": "code",
   "execution_count": 14,
   "metadata": {},
   "outputs": [
    {
     "data": {
      "text/plain": [
       "(9, 1, 20)"
      ]
     },
     "execution_count": 14,
     "metadata": {},
     "output_type": "execute_result"
    }
   ],
   "source": [
    "def operaciones(a, b):\n",
    "    return a + b, a - b, a * b\n",
    "\n",
    "operaciones(5, 4)"
   ]
  },
  {
   "cell_type": "code",
   "execution_count": null,
   "metadata": {},
   "outputs": [
    {
     "data": {
      "text/plain": [
       "(9, 4)"
      ]
     },
     "execution_count": 19,
     "metadata": {},
     "output_type": "execute_result"
    }
   ],
   "source": [
    "def devuelve_los_dos_mayores(a,b,c):\n",
    "    \n",
    "    if a > b > c or b > a > c:\n",
    "        return a, b\n",
    "    elif a > c > b or c > a > b:\n",
    "        return a, c\n",
    "    else :\n",
    "        return b, c\n",
    "    \n",
    "devuelve_los_dos_mayores(3,9,4)   \n",
    " \n",
    "    "
   ]
  },
  {
   "cell_type": "markdown",
   "metadata": {},
   "source": [
    "El return que devuelve una función sirve además como parámetro para otra función; por eso es que una función puede ser parámetro de otras funciones"
   ]
  },
  {
   "cell_type": "code",
   "execution_count": 18,
   "metadata": {},
   "outputs": [
    {
     "name": "stdout",
     "output_type": "stream",
     "text": [
      "El índice de masa corporal es 27.51, y la condición física es: Tienes sobrepeso\n"
     ]
    }
   ],
   "source": [
    "def indice_bmi(peso, estatura):\n",
    "    # peso dado en kg y estatura en m\n",
    "    bmi = peso/(estatura)**2\n",
    "    return bmi\n",
    "\n",
    "def condicion_fisica(indice_bmi):\n",
    "    if indice_bmi < 18:\n",
    "        return \"Estas muy delgado/a\"\n",
    "    elif 18 <= indice_bmi< 25:\n",
    "        return \"Estas en un peso normal\"\n",
    "    elif 25 <= indice_bmi < 30:\n",
    "        return \"Tienes sobrepeso\"\n",
    "    else:\n",
    "        return \"Tienes obesidad\"\n",
    "    \n",
    "def evaluacion(peso, estatura):\n",
    "    bmi = indice_bmi(peso, estatura)\n",
    "    estado = condicion_fisica(bmi)\n",
    "    print(f\"El índice de masa corporal es {bmi:.2f}, y la condición física es: {estado}\")\n",
    "\n",
    "evaluacion(74, 1.64)\n",
    "\n"
   ]
  },
  {
   "cell_type": "markdown",
   "metadata": {},
   "source": [
    "Todas las sentencias después de un return como puede ser una función print() o cualquier otra expresión p.e. un bucle, condicional, etc, no será ejecutada ya que return \n",
    "finaliza inmediatamente la ejecución de la función y devuelve un valor (o None si no se especifica)."
   ]
  },
  {
   "cell_type": "code",
   "execution_count": 21,
   "metadata": {},
   "outputs": [
    {
     "name": "stdout",
     "output_type": "stream",
     "text": [
      "Esto se mostrará en pantalla\n"
     ]
    },
    {
     "data": {
      "text/plain": [
       "'Hola mundo'"
      ]
     },
     "execution_count": 21,
     "metadata": {},
     "output_type": "execute_result"
    }
   ],
   "source": [
    "def imprime():\n",
    "    print(\"Esto se mostrará en pantalla\")\n",
    "    return \"Hola mundo\"\n",
    "    print(\"Esto no se verá en pantalla\")\n",
    "    \n",
    "imprime()"
   ]
  },
  {
   "cell_type": "code",
   "execution_count": 23,
   "metadata": {},
   "outputs": [
    {
     "name": "stdout",
     "output_type": "stream",
     "text": [
      "Esto se mostrará en pantalla\n"
     ]
    }
   ],
   "source": [
    "def imprime():\n",
    "    print(\"Esto se mostrará en pantalla\")\n",
    "    return \n",
    "    print(\"Esto no se verá en pantalla\")\n",
    "    \n",
    "imprime()\n",
    "    "
   ]
  },
  {
   "cell_type": "markdown",
   "metadata": {},
   "source": [
    "Todo código después de return dentro de una función se ignora completamente.\n",
    "Si return está dentro de un if, otros bloques de código pueden seguir ejecutándose si el if no se cumple."
   ]
  },
  {
   "cell_type": "code",
   "execution_count": 24,
   "metadata": {},
   "outputs": [
    {
     "data": {
      "text/plain": [
       "'el número es positivo'"
      ]
     },
     "execution_count": 24,
     "metadata": {},
     "output_type": "execute_result"
    }
   ],
   "source": [
    "def es_positivo(num):\n",
    "    if num > 0:\n",
    "        return \"el número es positivo\"\n",
    "        print(\"Esto no se imprime\")\n",
    "    print(\"El número es cero o negativo\")\n",
    "    \n",
    "es_positivo(7)"
   ]
  },
  {
   "cell_type": "code",
   "execution_count": 25,
   "metadata": {},
   "outputs": [
    {
     "name": "stdout",
     "output_type": "stream",
     "text": [
      "El número es cero o negativo\n"
     ]
    }
   ],
   "source": [
    "es_positivo(-3)"
   ]
  }
 ],
 "metadata": {
  "kernelspec": {
   "display_name": "Python 3",
   "language": "python",
   "name": "python3"
  },
  "language_info": {
   "codemirror_mode": {
    "name": "ipython",
    "version": 3
   },
   "file_extension": ".py",
   "mimetype": "text/x-python",
   "name": "python",
   "nbconvert_exporter": "python",
   "pygments_lexer": "ipython3",
   "version": "3.10.7"
  }
 },
 "nbformat": 4,
 "nbformat_minor": 2
}
