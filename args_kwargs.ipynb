{
 "cells": [
  {
   "cell_type": "markdown",
   "metadata": {},
   "source": [
    "# ARGS"
   ]
  },
  {
   "cell_type": "markdown",
   "metadata": {},
   "source": [
    "El argumento de tipo *args se usa cuando el argumento es de tipo iterable lista o tupla cuya cantidad de elementos, no sabemos o no\n",
    "nos interesa saber de antemano porque la función va a realizar el trabajo indiferentemente de la cantidad de elementos del iterable (lista o tupla)"
   ]
  },
  {
   "cell_type": "markdown",
   "metadata": {},
   "source": [
    "Dada una lista de valores llamada cantidades\n",
    "cantidades = [20, 40, 60, 80] queremos hacer una función que reciba como argumento una lista\n",
    "y nos devuelva la suma de los elementos de dicha lista"
   ]
  },
  {
   "cell_type": "code",
   "execution_count": 9,
   "metadata": {},
   "outputs": [
    {
     "data": {
      "text/plain": [
       "200"
      ]
     },
     "execution_count": 9,
     "metadata": {},
     "output_type": "execute_result"
    }
   ],
   "source": [
    "cantidades =  [20, 40, 60, 80]\n",
    "\n",
    "def calculo(*lista):\n",
    "    suma = 0\n",
    "    for elem in lista:\n",
    "        suma += elem\n",
    "    return suma\n",
    "\n",
    "calculo(*cantidades)  "
   ]
  },
  {
   "cell_type": "markdown",
   "metadata": {},
   "source": [
    "Ahora en la siguiente función le restaremos el porcentaje de la suma total a la suma de los\n",
    "elementos de dicha lista, nótese que el primer valor de la llamada a la función (calculo) se \n",
    "refiere al valor del porcentaje a restar (15) y los demás valores son los elementos de la lista.\n",
    "Además nótese que en la llamada a la función tambien se puede escribir todos los elementos de la\n",
    "lista en lugar del nombre de la variable de dicha lista como en el ejemplo anterior."
   ]
  },
  {
   "cell_type": "code",
   "execution_count": 3,
   "metadata": {},
   "outputs": [
    {
     "data": {
      "text/plain": [
       "170.0"
      ]
     },
     "execution_count": 3,
     "metadata": {},
     "output_type": "execute_result"
    }
   ],
   "source": [
    "def calculo(porc, *lista):\n",
    "    suma = 0\n",
    "    total = 0\n",
    "    for elem in lista:\n",
    "        suma += elem\n",
    "    total = suma - porc * suma/100.0\n",
    "    return total\n",
    "\n",
    "calculo(15, 20, 40, 60, 80) # porc = 15, lista = [20, 40, 60, 80]"
   ]
  },
  {
   "cell_type": "markdown",
   "metadata": {},
   "source": [
    "Ahora si queremos el argumento porc como argumento por defecto osea con un valor preestablecido"
   ]
  },
  {
   "cell_type": "code",
   "execution_count": 4,
   "metadata": {},
   "outputs": [
    {
     "data": {
      "text/plain": [
       "160.0"
      ]
     },
     "execution_count": 4,
     "metadata": {},
     "output_type": "execute_result"
    }
   ],
   "source": [
    "def calculo(*lista, porc=20):\n",
    "    suma = 0\n",
    "    total = 0\n",
    "    for elem in lista:\n",
    "        suma += elem\n",
    "    total = suma - porc * suma/100.0\n",
    "    return total\n",
    "\n",
    "calculo(20, 40, 60, 80)"
   ]
  },
  {
   "cell_type": "markdown",
   "metadata": {},
   "source": [
    "Si el argumento por defecto es porc=20; pero queremos calcular su valor por ejemplo\n",
    "a porc=25, entonces procedemos su llamada a la función de la siguiente manera:"
   ]
  },
  {
   "cell_type": "code",
   "execution_count": 5,
   "metadata": {},
   "outputs": [
    {
     "data": {
      "text/plain": [
       "150.0"
      ]
     },
     "execution_count": 5,
     "metadata": {},
     "output_type": "execute_result"
    }
   ],
   "source": [
    "calculo(20, 40, 60, 80, porc=25)"
   ]
  },
  {
   "cell_type": "markdown",
   "metadata": {},
   "source": [
    "# kwargs"
   ]
  },
  {
   "cell_type": "markdown",
   "metadata": {},
   "source": [
    "El argumento de tipo **kwargs se usa cuando se usa como argumento un diccionario cuya cantidad de elementos no sabemos o no\n",
    "nos interesa saber de antemano porque la función va a realizar el trabajo indiferentemente de la cantidad de elementos del diccionario."
   ]
  },
  {
   "cell_type": "markdown",
   "metadata": {},
   "source": [
    "Suponiendo que Ana, Carlos, Juan y Pedro deciden emprender un negocio aportando los siguientes capitales \n",
    "Ana : 100$,  Carlos : 250$,  Juan : 150$  y Pedro : 400$"
   ]
  },
  {
   "cell_type": "code",
   "execution_count": 7,
   "metadata": {},
   "outputs": [
    {
     "name": "stdout",
     "output_type": "stream",
     "text": [
      "Ana aportó 100$\n",
      "Carlos aportó 250$\n",
      "Juan aportó 150$\n",
      "Pedro aportó 400$\n",
      "El capital total inicial es 900$\n"
     ]
    }
   ],
   "source": [
    "capitales = {'Ana' : 100,  'Carlos' : 250,  'Juan' : 150,  'Pedro' : 400 }\n",
    "\n",
    "def empresa(**diccionario):\n",
    "    total_capital = 0\n",
    "    for key, value in diccionario.items():\n",
    "        print(f\"{key} aportó {value}$\")\n",
    "        total_capital += value\n",
    "    print(f\"El capital total inicial es {total_capital}$\")\n",
    "    \n",
    "empresa(**capitales)"
   ]
  },
  {
   "cell_type": "markdown",
   "metadata": {},
   "source": [
    "Suponiendo ahora del ejemplo anterior que se reportó una ganancia del 15% en toda la empresa.\n",
    "Vamos a repartir esa ganancia en proporción al capital inicial aportado por cada uno de los socios.\n",
    "Entonces vamos a calcular la ganancia que le corresponde a cada uno de ellos y la ganancia total.  "
   ]
  },
  {
   "cell_type": "code",
   "execution_count": 11,
   "metadata": {},
   "outputs": [
    {
     "name": "stdout",
     "output_type": "stream",
     "text": [
      "Ana gana => 15.00$\n",
      "Carlos gana => 37.50$\n",
      "Juan gana => 22.50$\n",
      "Pedro gana => 60.00$\n",
      "La ganacia total es 135.00$\n"
     ]
    }
   ],
   "source": [
    "capitales = {'Ana' : 100,  'Carlos' : 250,  'Juan' : 150,  'Pedro' : 400 }\n",
    "\n",
    "def dividendos(ganancia=15,  **diccionario):\n",
    "    suma=0\n",
    "    for key, value in diccionario.items():\n",
    "        print(f\"{key} gana => {ganancia * value/100:.2f}$\")\n",
    "        suma += ganancia * value/100\n",
    "    print(f\"La ganacia total es {suma:.2f}$\")\n",
    "    \n",
    "dividendos(**capitales)"
   ]
  },
  {
   "cell_type": "markdown",
   "metadata": {},
   "source": [
    "Si deseamos obtener los valores con otra ganancia por ejemplo: ganancia = 20, simplemente\n",
    "hacemos el llamado a la función con el argumento ganancia = 20  "
   ]
  },
  {
   "cell_type": "code",
   "execution_count": 12,
   "metadata": {},
   "outputs": [
    {
     "name": "stdout",
     "output_type": "stream",
     "text": [
      "Ana gana => 20.00$\n",
      "Carlos gana => 50.00$\n",
      "Juan gana => 30.00$\n",
      "Pedro gana => 80.00$\n",
      "La ganacia total es 180.00$\n"
     ]
    }
   ],
   "source": [
    "dividendos(ganancia=20, **capitales)"
   ]
  },
  {
   "cell_type": "markdown",
   "metadata": {},
   "source": [
    "Este es el orden de los argumentos o parámetros de una función:\n",
    "\n",
    "def funcion(a, b, *args, c=valor1, d=valor2, **kwargs)  \n",
    "\n",
    "donde: a y b son argumentos posicionales, args es el argumento de un iterable como una lista o tupla\n",
    "        c y d son argumentos con valores por defecto y kwargs es el argumento de un diccionario"
   ]
  }
 ],
 "metadata": {
  "kernelspec": {
   "display_name": "Python 3",
   "language": "python",
   "name": "python3"
  },
  "language_info": {
   "codemirror_mode": {
    "name": "ipython",
    "version": 3
   },
   "file_extension": ".py",
   "mimetype": "text/x-python",
   "name": "python",
   "nbconvert_exporter": "python",
   "pygments_lexer": "ipython3",
   "version": "3.10.7"
  }
 },
 "nbformat": 4,
 "nbformat_minor": 2
}
