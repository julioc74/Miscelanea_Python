{
 "cells": [
  {
   "cell_type": "markdown",
   "metadata": {},
   "source": [
    "# METODOS DE STRING\n",
    "\n",
    "## Nota:\n",
    "Todos los métodos string retornan nuevos valores, estos métodos no cambian el string original "
   ]
  },
  {
   "cell_type": "markdown",
   "metadata": {},
   "source": [
    "## Método capitalize"
   ]
  },
  {
   "cell_type": "markdown",
   "metadata": {},
   "source": [
    "El método capitalize() en Python convierte la primera letra de una cadena en mayúscula y todas las demás en minúscula. Devuelve una nueva cadena sin modificar la original."
   ]
  },
  {
   "cell_type": "code",
   "execution_count": 1,
   "metadata": {},
   "outputs": [
    {
     "name": "stdout",
     "output_type": "stream",
     "text": [
      "Hola, bienvenido al mundo python.\n"
     ]
    }
   ],
   "source": [
    "texto = \"hola, bienvenido al mundo Python.\"\n",
    "print(texto.capitalize())"
   ]
  },
  {
   "cell_type": "markdown",
   "metadata": {},
   "source": [
    "## Método casefold"
   ]
  },
  {
   "cell_type": "markdown",
   "metadata": {},
   "source": [
    "El método casefold() en Python convierte una cadena a minúsculas de manera más agresiva que lower() (método que se verá mas adelante), haciéndolo ideal para comparaciones sin distinción de mayúsculas y minúsculas. Está diseñado para manejar caracteres especiales y alfabetos distintos."
   ]
  },
  {
   "cell_type": "code",
   "execution_count": 2,
   "metadata": {},
   "outputs": [
    {
     "name": "stdout",
     "output_type": "stream",
     "text": [
      "hola, bienvenido al mundo python.\n"
     ]
    }
   ],
   "source": [
    "texto = \"Hola, Bienvenido Al Mundo Python.\"\n",
    "print(texto.casefold())"
   ]
  },
  {
   "cell_type": "markdown",
   "metadata": {},
   "source": [
    "¿Cuándo usar casefold() en lugar de lower()?\n",
    "Cuando necesitas comparaciones más precisas de texto, especialmente en idiomas distintos al inglés.\n",
    "Cuando quieres evitar errores en validaciones de entrada de usuario."
   ]
  },
  {
   "cell_type": "markdown",
   "metadata": {},
   "source": [
    "## Método count()"
   ]
  },
  {
   "cell_type": "markdown",
   "metadata": {},
   "source": [
    "Con el método count() podemos contar cuantas veces esta incluido\n",
    "un conjunto de caracteres en un string; en este caso cuantas veces\n",
    "está incluido la palabra \"de\" en todo el texto.  "
   ]
  },
  {
   "cell_type": "code",
   "execution_count": 3,
   "metadata": {},
   "outputs": [
    {
     "name": "stdout",
     "output_type": "stream",
     "text": [
      "4\n"
     ]
    }
   ],
   "source": [
    "texto = \"\"\"En un lugar de la Mancha, de cuyo nombre no quiero acordarme, \n",
    "no ha mucho tiempo que vivía un hidalgo de los de lanza en astillero, \n",
    "adarga antigua, rocín flaco y galgo corredor.\"\"\"\n",
    "\n",
    "print(texto.count(\"de\"))"
   ]
  },
  {
   "cell_type": "markdown",
   "metadata": {},
   "source": [
    "Pero también podemos restringir la búsqueda entre un determinado índice \n",
    "inicial y final; en el siguiente código contamos cuantas veces está \n",
    "incluido la palabra \"de\" entre el índice 10 al índice 30 del texto."
   ]
  },
  {
   "cell_type": "code",
   "execution_count": 4,
   "metadata": {},
   "outputs": [
    {
     "name": "stdout",
     "output_type": "stream",
     "text": [
      "2\n"
     ]
    }
   ],
   "source": [
    "print(texto.count(\"de\", 10, 30))"
   ]
  },
  {
   "cell_type": "markdown",
   "metadata": {},
   "source": [
    "## Método find()"
   ]
  },
  {
   "cell_type": "markdown",
   "metadata": {},
   "source": [
    "El método find() encuentra la primera ocurrencia de un valor \n",
    "específico pedido y nos devuelve el índice en donde se encuentra\n",
    "dicho valor."
   ]
  },
  {
   "cell_type": "code",
   "execution_count": 5,
   "metadata": {},
   "outputs": [
    {
     "name": "stdout",
     "output_type": "stream",
     "text": [
      "2\n"
     ]
    }
   ],
   "source": [
    "texto = \"Bienvenido al mundo Python!\"\n",
    "\n",
    "print(texto.find('e'))"
   ]
  },
  {
   "cell_type": "markdown",
   "metadata": {},
   "source": [
    "En este otro caso le pedimos al método find() que busque el \n",
    "valor 'e' entre los índices 3 al 10, devolviéndonos el índice\n",
    "del valor pedido. "
   ]
  },
  {
   "cell_type": "code",
   "execution_count": 6,
   "metadata": {},
   "outputs": [
    {
     "name": "stdout",
     "output_type": "stream",
     "text": [
      "5\n"
     ]
    }
   ],
   "source": [
    "print(texto.find('e', 3, 10))"
   ]
  },
  {
   "cell_type": "markdown",
   "metadata": {},
   "source": [
    "Si el valor pedido no es hallado nos devolverá -1."
   ]
  },
  {
   "cell_type": "code",
   "execution_count": 7,
   "metadata": {},
   "outputs": [
    {
     "name": "stdout",
     "output_type": "stream",
     "text": [
      "-1\n"
     ]
    }
   ],
   "source": [
    "print(texto.find('z'))"
   ]
  },
  {
   "cell_type": "markdown",
   "metadata": {},
   "source": [
    "## Método index()"
   ]
  },
  {
   "cell_type": "markdown",
   "metadata": {},
   "source": [
    "El método index() es igual al método find() con la única diferencia\n",
    "que index() lanza una excepción si el valor buscado no es hallado. "
   ]
  },
  {
   "cell_type": "code",
   "execution_count": 8,
   "metadata": {},
   "outputs": [
    {
     "ename": "ValueError",
     "evalue": "substring not found",
     "output_type": "error",
     "traceback": [
      "\u001b[1;31m---------------------------------------------------------------------------\u001b[0m",
      "\u001b[1;31mValueError\u001b[0m                                Traceback (most recent call last)",
      "Cell \u001b[1;32mIn [8], line 3\u001b[0m\n\u001b[0;32m      1\u001b[0m texto \u001b[38;5;241m=\u001b[39m \u001b[38;5;124m\"\u001b[39m\u001b[38;5;124mBienvenido al mundo Python!\u001b[39m\u001b[38;5;124m\"\u001b[39m\n\u001b[1;32m----> 3\u001b[0m \u001b[38;5;28mprint\u001b[39m(\u001b[43mtexto\u001b[49m\u001b[38;5;241;43m.\u001b[39;49m\u001b[43mindex\u001b[49m\u001b[43m(\u001b[49m\u001b[38;5;124;43m'\u001b[39;49m\u001b[38;5;124;43mz\u001b[39;49m\u001b[38;5;124;43m'\u001b[39;49m\u001b[43m)\u001b[49m)\n",
      "\u001b[1;31mValueError\u001b[0m: substring not found"
     ]
    }
   ],
   "source": [
    "texto = \"Bienvenido al mundo Python!\"\n",
    "\n",
    "print(texto.index('z'))\n"
   ]
  },
  {
   "cell_type": "markdown",
   "metadata": {},
   "source": [
    "## Método join()"
   ]
  },
  {
   "cell_type": "markdown",
   "metadata": {},
   "source": [
    "El método join() toma todos los elementos de una secuencia o iterable\n",
    "y los une en un solo string mediante un separador dado. "
   ]
  },
  {
   "cell_type": "code",
   "execution_count": null,
   "metadata": {},
   "outputs": [
    {
     "name": "stdout",
     "output_type": "stream",
     "text": [
      "Bienvenidos al mundo Python\n"
     ]
    }
   ],
   "source": [
    "lista = [\"Bienvenidos\", \"al\", \"mundo\", \"Python\"]\n",
    "\n",
    "print(\" \".join(lista))"
   ]
  },
  {
   "cell_type": "code",
   "execution_count": null,
   "metadata": {},
   "outputs": [
    {
     "name": "stdout",
     "output_type": "stream",
     "text": [
      "Hasta-la-vista-baby\n"
     ]
    }
   ],
   "source": [
    "tupla = (\"Hasta\", \"la\", \"vista\", \"baby\" )\n",
    "\n",
    "print(\"-\".join(tupla))"
   ]
  },
  {
   "cell_type": "code",
   "execution_count": null,
   "metadata": {},
   "outputs": [
    {
     "name": "stdout",
     "output_type": "stream",
     "text": [
      "P y t h o n   e s   g e n i a l !\n"
     ]
    }
   ],
   "source": [
    "cadena = \"Python es genial!\"\n",
    "\n",
    "print(' '.join(cadena))"
   ]
  },
  {
   "cell_type": "code",
   "execution_count": null,
   "metadata": {},
   "outputs": [
    {
     "name": "stdout",
     "output_type": "stream",
     "text": [
      "nombre*Pais\n"
     ]
    }
   ],
   "source": [
    "dicc = {\"nombre\" : \"Juan\", \"Pais\" : \"Mexico\"}\n",
    "separador = \"*\"\n",
    "\n",
    "print(separador.join(dicc))"
   ]
  },
  {
   "cell_type": "code",
   "execution_count": null,
   "metadata": {},
   "outputs": [
    {
     "name": "stdout",
     "output_type": "stream",
     "text": [
      "Juan$Mexico\n"
     ]
    }
   ],
   "source": [
    "separador2 = \"$\"\n",
    "\n",
    "print(separador2.join(dicc.values()))"
   ]
  },
  {
   "cell_type": "markdown",
   "metadata": {},
   "source": [
    "Usamos la función map() para aplicar la función str() a cada elemento \n",
    "de la lista números. \n",
    "Esto convierte cada número en la lista en una cadena de caracteres, \n",
    "ya que el método join() espera que todos los elementos a unir sean \n",
    "cadenas de caracteres."
   ]
  },
  {
   "cell_type": "code",
   "execution_count": null,
   "metadata": {},
   "outputs": [
    {
     "name": "stdout",
     "output_type": "stream",
     "text": [
      "1-2-3-4-5\n"
     ]
    }
   ],
   "source": [
    "numeros = [1,2,3,4,5]\n",
    "sep = \"-\"\n",
    "\n",
    "print(sep.join(map(str,numeros)))"
   ]
  },
  {
   "cell_type": "markdown",
   "metadata": {},
   "source": [
    "## Método ljust()"
   ]
  },
  {
   "cell_type": "markdown",
   "metadata": {},
   "source": [
    "El método ljust() alinea a la izquierda el string usando\n",
    "el caracter especificado (espacio en blanco por defecto)\n",
    "para llenar ese espacio; en el código siguiente creamos\n",
    "20 caracteres de espacio entre el inicio del texto (la\n",
    "letra 'S' de Sandía y el inicio de la siguiente palabra) "
   ]
  },
  {
   "cell_type": "code",
   "execution_count": 13,
   "metadata": {},
   "outputs": [
    {
     "name": "stdout",
     "output_type": "stream",
     "text": [
      "Sandía               es mi fruta favorita.\n"
     ]
    }
   ],
   "source": [
    "txt = \"Sandía\"\n",
    "print(txt.ljust(20), \"es mi fruta favorita.\")"
   ]
  },
  {
   "cell_type": "markdown",
   "metadata": {},
   "source": [
    "Aca rellenamos ese espacio con el símbolo '&' "
   ]
  },
  {
   "cell_type": "code",
   "execution_count": null,
   "metadata": {},
   "outputs": [
    {
     "name": "stdout",
     "output_type": "stream",
     "text": [
      "Sandia&&&&&&&&&&&&&& es mi fruta favorita.\n"
     ]
    }
   ],
   "source": [
    "print(txt.ljust(20, '&'), \"es mi fruta favorita.\")"
   ]
  },
  {
   "cell_type": "markdown",
   "metadata": {},
   "source": [
    "## Método rjust()"
   ]
  },
  {
   "cell_type": "markdown",
   "metadata": {},
   "source": [
    "El método rjust() alinea a la derecha el string usando\n",
    "el caracter especificado (espacio en blanco por defecto)\n",
    "para llenar ese espacio; en el código siguiente creamos\n",
    "20 caracteres de espacio entre el inicio de la linea y\n",
    "el inicio del texto (la letra 'M' de Manzana)"
   ]
  },
  {
   "cell_type": "code",
   "execution_count": null,
   "metadata": {},
   "outputs": [
    {
     "name": "stdout",
     "output_type": "stream",
     "text": [
      "             Manzana es una fruta deliciosa.\n"
     ]
    }
   ],
   "source": [
    "txt = \"Manzana\"\n",
    "print(txt.rjust(20), \"es una fruta deliciosa.\")"
   ]
  },
  {
   "cell_type": "markdown",
   "metadata": {},
   "source": [
    "Aca rellenamos ese espacio con el simbolo '*'"
   ]
  },
  {
   "cell_type": "code",
   "execution_count": null,
   "metadata": {},
   "outputs": [
    {
     "name": "stdout",
     "output_type": "stream",
     "text": [
      "*************Manzana es una fruta deliciosa\n"
     ]
    }
   ],
   "source": [
    "print(txt.rjust(20, '*'), \"es una fruta deliciosa\")"
   ]
  },
  {
   "cell_type": "markdown",
   "metadata": {},
   "source": [
    "## Método lower()"
   ]
  },
  {
   "cell_type": "markdown",
   "metadata": {},
   "source": [
    "El método lower() convierte todas las letras mayusculas a\n",
    "minusculas."
   ]
  },
  {
   "cell_type": "code",
   "execution_count": null,
   "metadata": {},
   "outputs": [
    {
     "name": "stdout",
     "output_type": "stream",
     "text": [
      "hola mundo\n"
     ]
    }
   ],
   "source": [
    "frase = \"Hola MUNDO\"\n",
    "print(frase.lower())"
   ]
  },
  {
   "cell_type": "markdown",
   "metadata": {},
   "source": [
    "## Método lstrip"
   ]
  },
  {
   "cell_type": "markdown",
   "metadata": {},
   "source": [
    "El método lstrip() por defecto elimina los caracteres\n",
    "de espacios en blanco a la izquierda de una frase."
   ]
  },
  {
   "cell_type": "code",
   "execution_count": null,
   "metadata": {},
   "outputs": [
    {
     "name": "stdout",
     "output_type": "stream",
     "text": [
      "Mi deporte favorito es el futbol.   \n"
     ]
    }
   ],
   "source": [
    "frase = \"   Mi deporte favorito es el futbol.   \"\n",
    "print(frase.lstrip())"
   ]
  },
  {
   "cell_type": "markdown",
   "metadata": {},
   "source": [
    "El método lstrip('caracter') elimina el caracter \n",
    "solicitado como argumento a la izquierda de la frase"
   ]
  },
  {
   "cell_type": "code",
   "execution_count": null,
   "metadata": {},
   "outputs": [
    {
     "name": "stdout",
     "output_type": "stream",
     "text": [
      "Python es maravilloso***\n"
     ]
    }
   ],
   "source": [
    "frase2 = \"***Python es maravilloso***\"\n",
    "print(frase2.lstrip('*'))"
   ]
  },
  {
   "cell_type": "markdown",
   "metadata": {},
   "source": [
    "En este ejemplo el método lstrip('caracteres') elimina el grupo\n",
    "de caracteres pedidos como argumento a la izquierda de la frase"
   ]
  },
  {
   "cell_type": "code",
   "execution_count": null,
   "metadata": {},
   "outputs": [
    {
     "name": "stdout",
     "output_type": "stream",
     "text": [
      "thon es maravilloso***\n"
     ]
    }
   ],
   "source": [
    "frase2 = \"***Python es maravilloso***\"\n",
    "print(frase2.lstrip('*Py'))"
   ]
  },
  {
   "cell_type": "markdown",
   "metadata": {},
   "source": [
    "## Método rstrip()"
   ]
  },
  {
   "cell_type": "markdown",
   "metadata": {},
   "source": [
    "El método rstrip() por defecto elimina los caracteres\n",
    "de espacios en blanco a la derecha de una frase."
   ]
  },
  {
   "cell_type": "code",
   "execution_count": null,
   "metadata": {},
   "outputs": [
    {
     "name": "stdout",
     "output_type": "stream",
     "text": [
      "   Mi deporte favorito es el futbol.\n"
     ]
    }
   ],
   "source": [
    "frase = \"   Mi deporte favorito es el futbol.   \"\n",
    "print(frase.rstrip())"
   ]
  },
  {
   "cell_type": "markdown",
   "metadata": {},
   "source": [
    "El método rstrip('caracter') elimina el caracter \n",
    "solicitado como argumento a la derecha de la frase"
   ]
  },
  {
   "cell_type": "code",
   "execution_count": null,
   "metadata": {},
   "outputs": [
    {
     "name": "stdout",
     "output_type": "stream",
     "text": [
      "***Python es maravilloso\n"
     ]
    }
   ],
   "source": [
    "frase2 = \"***Python es maravilloso***\"\n",
    "print(frase2.rstrip('*'))"
   ]
  },
  {
   "cell_type": "markdown",
   "metadata": {},
   "source": [
    "## Método strip()"
   ]
  },
  {
   "cell_type": "markdown",
   "metadata": {},
   "source": [
    "El método strip() por defecto elimina los caracteres\n",
    "de espacios en blanco tanto a la izquierda como a la\n",
    "derecha de una frase."
   ]
  },
  {
   "cell_type": "code",
   "execution_count": null,
   "metadata": {},
   "outputs": [
    {
     "name": "stdout",
     "output_type": "stream",
     "text": [
      "Mi deporte favorito es el futbol.\n"
     ]
    }
   ],
   "source": [
    "frase = \"   Mi deporte favorito es el futbol.   \"\n",
    "print(frase.strip())"
   ]
  },
  {
   "cell_type": "markdown",
   "metadata": {},
   "source": [
    "El método strip('caracter') elimina el caracter \n",
    "solicitado como argumento tanto a la izquierda como \n",
    "a la derecha de la frase."
   ]
  },
  {
   "cell_type": "code",
   "execution_count": null,
   "metadata": {},
   "outputs": [
    {
     "name": "stdout",
     "output_type": "stream",
     "text": [
      "Python es maravilloso\n"
     ]
    }
   ],
   "source": [
    "frase2 = \"***Python es maravilloso***\"\n",
    "print(frase2.strip('*'))"
   ]
  },
  {
   "cell_type": "markdown",
   "metadata": {},
   "source": [
    "En este ejemplo el método strip('caracteres') elimina el grupo\n",
    "de caracteres pedidos como argumento tanto a la izquierda \n",
    "como a la derecha de la frase."
   ]
  },
  {
   "cell_type": "code",
   "execution_count": null,
   "metadata": {},
   "outputs": [
    {
     "name": "stdout",
     "output_type": "stream",
     "text": [
      "thon es maravillos\n"
     ]
    }
   ],
   "source": [
    "print(frase2.strip('*Pyo'))"
   ]
  },
  {
   "cell_type": "markdown",
   "metadata": {},
   "source": [
    "## Método partition()"
   ]
  },
  {
   "cell_type": "markdown",
   "metadata": {},
   "source": [
    "El método partition() divide el string en partes delimitadas por una palabra o parte del string que le damos como argumento\n",
    "a dicho método."
   ]
  },
  {
   "cell_type": "markdown",
   "metadata": {},
   "source": [
    "Por ejemplo en este caso de la frase dada le pedimos que lo\n",
    "divida al encontrar la palabra \"cuyo\""
   ]
  },
  {
   "cell_type": "code",
   "execution_count": null,
   "metadata": {},
   "outputs": [
    {
     "name": "stdout",
     "output_type": "stream",
     "text": [
      "('En un lugar de la Mancha, de ', 'cuyo', ' nombre no quiero acordarme')\n"
     ]
    }
   ],
   "source": [
    "frase = \"En un lugar de la Mancha, de cuyo nombre no quiero acordarme\"\n",
    "\n",
    "print(frase.partition(\"cuyo\"))"
   ]
  },
  {
   "cell_type": "markdown",
   "metadata": {},
   "source": [
    "En caso de no encontrar la palabra o parte del string como argumento\n",
    "nos devolverá la frase entera seguido de dos string vacios."
   ]
  },
  {
   "cell_type": "code",
   "execution_count": null,
   "metadata": {},
   "outputs": [
    {
     "name": "stdout",
     "output_type": "stream",
     "text": [
      "('En un lugar de la Mancha, de cuyo nombre no quiero acordarme', '', '')\n"
     ]
    }
   ],
   "source": [
    "print(frase.partition('valor'))"
   ]
  },
  {
   "cell_type": "markdown",
   "metadata": {},
   "source": [
    "## Método replace()"
   ]
  },
  {
   "cell_type": "markdown",
   "metadata": {},
   "source": [
    "El método replace() reemplaza un string o cadena de caracteres por otro "
   ]
  },
  {
   "cell_type": "code",
   "execution_count": null,
   "metadata": {},
   "outputs": [
    {
     "name": "stdout",
     "output_type": "stream",
     "text": [
      "Vamos a Miami\n"
     ]
    }
   ],
   "source": [
    "texto = \"Vamos a Paris\"\n",
    "\n",
    "x = texto.replace(\"Paris\", \"Miami\")\n",
    "print(x)\n"
   ]
  },
  {
   "cell_type": "markdown",
   "metadata": {},
   "source": [
    "Si el texto a reemplazar se repite mas de una vez, sera reemplazado en todas\n",
    "sus ocurrencias si no se especifica un tercer argumento (por defecto reemplazara\n",
    "el texto en todas las ocurrencias)"
   ]
  },
  {
   "cell_type": "code",
   "execution_count": null,
   "metadata": {},
   "outputs": [
    {
     "name": "stdout",
     "output_type": "stream",
     "text": [
      "naranja, naranja y mas naranja necesitas para hacer una tarta\n"
     ]
    }
   ],
   "source": [
    "texto2 = \"manzana, manzana y mas manzana necesitas para hacer una tarta\"\n",
    "\n",
    "y = texto2.replace(\"manzana\", \"naranja\")\n",
    "print(y)"
   ]
  },
  {
   "cell_type": "markdown",
   "metadata": {},
   "source": [
    "Pero podemos dar un tercer argumento que le indicara al metodo\n",
    "el numero de veces a ser reemplazado el texto."
   ]
  },
  {
   "cell_type": "code",
   "execution_count": null,
   "metadata": {},
   "outputs": [
    {
     "name": "stdout",
     "output_type": "stream",
     "text": [
      "progresa, progresa, vamos hacia adelante, avanza para llegar al exito\n"
     ]
    }
   ],
   "source": [
    "texto3 = \"avanza, avanza, vamos hacia adelante, avanza para llegar al exito\"\n",
    "\n",
    "z = texto3.replace(\"avanza\", \"progresa\", 2)\n",
    "print(z)"
   ]
  },
  {
   "cell_type": "markdown",
   "metadata": {},
   "source": [
    "## Método rfind() "
   ]
  },
  {
   "cell_type": "markdown",
   "metadata": {},
   "source": [
    "El método rfind() encuentra la última ocurrencia de un valor específico pedido o subcadena y nos devuelve el índice donde se encuentra dicho valor."
   ]
  },
  {
   "cell_type": "code",
   "execution_count": 1,
   "metadata": {},
   "outputs": [
    {
     "name": "stdout",
     "output_type": "stream",
     "text": [
      "12\n"
     ]
    }
   ],
   "source": [
    "texto = \"Mi casa, su casa.\"\n",
    "x = texto.rfind(\"casa\")\n",
    "print(x)"
   ]
  },
  {
   "cell_type": "code",
   "execution_count": 2,
   "metadata": {},
   "outputs": [
    {
     "name": "stdout",
     "output_type": "stream",
     "text": [
      "22\n"
     ]
    }
   ],
   "source": [
    "texto2 = \"Bienvenido a este planeta.\"\n",
    "x2 = texto2.rfind(\"e\")\n",
    "print(x2)"
   ]
  },
  {
   "cell_type": "markdown",
   "metadata": {},
   "source": [
    "Pero también le podemos dar un intervalo en el cual queremos que busque dicha subcadena."
   ]
  },
  {
   "cell_type": "code",
   "execution_count": 4,
   "metadata": {},
   "outputs": [
    {
     "name": "stdout",
     "output_type": "stream",
     "text": [
      "7\n"
     ]
    }
   ],
   "source": [
    "texto3 = \"vamos, vamos, vamos todos a ganar.\"\n",
    "x3 = texto3.rfind(\"vamos\", 5, 15)\n",
    "print(x3)"
   ]
  },
  {
   "cell_type": "markdown",
   "metadata": {},
   "source": [
    "Si la subcadena pedida no se encuentra, devuelve -1"
   ]
  },
  {
   "cell_type": "code",
   "execution_count": 1,
   "metadata": {},
   "outputs": [
    {
     "name": "stdout",
     "output_type": "stream",
     "text": [
      "-1\n"
     ]
    }
   ],
   "source": [
    "texto4 = \"abracadabra\"\n",
    "x4 = texto4.rfind(\"xyz\")\n",
    "print(x4)"
   ]
  },
  {
   "cell_type": "markdown",
   "metadata": {},
   "source": [
    "## Método rindex()"
   ]
  },
  {
   "cell_type": "markdown",
   "metadata": {},
   "source": [
    "El método rindex() en Python se usa para encontrar la última aparición de una subcadena dentro de una cadena principal. Es similar a rfind(), pero con una diferencia importante: si la subcadena no se encuentra, lanza un error en lugar de devolver -1."
   ]
  },
  {
   "cell_type": "code",
   "execution_count": 2,
   "metadata": {},
   "outputs": [
    {
     "name": "stdout",
     "output_type": "stream",
     "text": [
      "12\n"
     ]
    }
   ],
   "source": [
    "texto = \"Hola mundo, mundo Python\"\n",
    "indice = texto.rindex(\"mundo\")\n",
    "print(indice)"
   ]
  },
  {
   "cell_type": "markdown",
   "metadata": {},
   "source": [
    "Si la subcadena no está, lanza un error"
   ]
  },
  {
   "cell_type": "code",
   "execution_count": null,
   "metadata": {},
   "outputs": [
    {
     "ename": "ValueError",
     "evalue": "substring not found",
     "output_type": "error",
     "traceback": [
      "\u001b[1;31m---------------------------------------------------------------------------\u001b[0m",
      "\u001b[1;31mValueError\u001b[0m                                Traceback (most recent call last)",
      "Cell \u001b[1;32mIn [4], line 2\u001b[0m\n\u001b[0;32m      1\u001b[0m texto \u001b[38;5;241m=\u001b[39m \u001b[38;5;124m\"\u001b[39m\u001b[38;5;124mHola mundo\u001b[39m\u001b[38;5;124m\"\u001b[39m\n\u001b[1;32m----> 2\u001b[0m indice \u001b[38;5;241m=\u001b[39m \u001b[43mtexto\u001b[49m\u001b[38;5;241;43m.\u001b[39;49m\u001b[43mrindex\u001b[49m\u001b[43m(\u001b[49m\u001b[38;5;124;43m\"\u001b[39;49m\u001b[38;5;124;43mPython\u001b[39;49m\u001b[38;5;124;43m\"\u001b[39;49m\u001b[43m)\u001b[49m \n\u001b[0;32m      3\u001b[0m \u001b[38;5;28mprint\u001b[39m(indice)\n",
      "\u001b[1;31mValueError\u001b[0m: substring not found"
     ]
    }
   ],
   "source": [
    "texto = \"Hola mundo\"\n",
    "indice = texto.rindex(\"Python\") \n",
    "print(indice)"
   ]
  },
  {
   "cell_type": "markdown",
   "metadata": {},
   "source": [
    "## Método rpartition()"
   ]
  },
  {
   "cell_type": "markdown",
   "metadata": {},
   "source": [
    "El método rpartition() en Python divide una cadena en tres partes, tomando como referencia la última aparición de una subcadena dada. Es similar a partition(), pero busca desde la derecha.\n",
    "Usa como parámetro un separador que es una subcadena la cual dividirá a la cadena total en 3 partes: la parte antes del separador, el separador y la\n",
    "cadena después del separador."
   ]
  },
  {
   "cell_type": "code",
   "execution_count": 9,
   "metadata": {},
   "outputs": [
    {
     "name": "stdout",
     "output_type": "stream",
     "text": [
      "('Hola mundo, bienvenido al ', 'mundo', ' Python')\n"
     ]
    }
   ],
   "source": [
    "texto = \"Hola mundo, bienvenido al mundo Python\"\n",
    "resultado = texto.rpartition(\"mundo\")\n",
    "print(resultado)"
   ]
  },
  {
   "cell_type": "markdown",
   "metadata": {},
   "source": [
    "Si el separador no existe, los dos primeros quedan vacíos y el último elemento es la cadena completa."
   ]
  },
  {
   "cell_type": "code",
   "execution_count": 8,
   "metadata": {},
   "outputs": [
    {
     "name": "stdout",
     "output_type": "stream",
     "text": [
      "('', '', 'Vamos a aprender Python, ya!')\n"
     ]
    }
   ],
   "source": [
    "texto1 = \"Vamos a aprender Python, ya!\"\n",
    "resultado = texto1.rpartition(\"programar\")\n",
    "print(resultado)"
   ]
  },
  {
   "cell_type": "markdown",
   "metadata": {},
   "source": [
    "## Método rsplit()"
   ]
  },
  {
   "cell_type": "markdown",
   "metadata": {},
   "source": [
    "El método rsplit() en Python es similar a split(), pero divide la cadena desde la derecha en lugar de la izquierda.\n",
    "Tiene 2 parámetros.<br> \n",
    "1_ El separador (opcional): El carácter o cadena que se usará para dividir la cadena original. Si no se especifica, \n",
    "se toman los espacios en blanco como separador.<br>\n",
    "2_ Número máximo de particiones (opcional): Número máximo de divisiones a realizar. Si se omite, se dividen todos los posibles. "
   ]
  },
  {
   "cell_type": "code",
   "execution_count": null,
   "metadata": {},
   "outputs": [
    {
     "name": "stdout",
     "output_type": "stream",
     "text": [
      "['uno', 'dos', 'tres', 'cuatro']\n"
     ]
    }
   ],
   "source": [
    "texto = \"uno,dos,tres,cuatro\"\n",
    "print(texto.rsplit(\",\"))  "
   ]
  },
  {
   "cell_type": "code",
   "execution_count": null,
   "metadata": {},
   "outputs": [
    {
     "name": "stdout",
     "output_type": "stream",
     "text": [
      "['uno,dos,tres', 'cuatro']\n"
     ]
    }
   ],
   "source": [
    "texto = \"uno,dos,tres,cuatro\"\n",
    "print(texto.rsplit(\",\", 1))  "
   ]
  },
  {
   "cell_type": "markdown",
   "metadata": {},
   "source": [
    "Si no se especifica el separador, se toman los espacios en blanco como tal."
   ]
  },
  {
   "cell_type": "code",
   "execution_count": 3,
   "metadata": {},
   "outputs": [
    {
     "name": "stdout",
     "output_type": "stream",
     "text": [
      "['uno', 'dos', 'tres', 'cuatro']\n"
     ]
    }
   ],
   "source": [
    "texto2 = \"uno dos tres cuatro\"\n",
    "print(texto2.rsplit())"
   ]
  },
  {
   "cell_type": "markdown",
   "metadata": {},
   "source": [
    "## Método split()"
   ]
  },
  {
   "cell_type": "markdown",
   "metadata": {},
   "source": [
    "El método split() en Python divide una cadena en una lista de subcadenas usando un separador específico y empieza dividiendo desde la izquierda, mientras que .rsplit() lo hace desde la derecha. Presenta 2 parámetros<br>\n",
    "1_El separador (opcional): El carácter o cadena que se usará para dividir la cadena. Si no se especifica, se usan los espacios en blanco como separador.<br>\n",
    "2_Número máximo de particiones(opcional): Número máximo de divisiones a realizar. Si se omite, se dividen todas las posibles."
   ]
  },
  {
   "cell_type": "code",
   "execution_count": 4,
   "metadata": {},
   "outputs": [
    {
     "name": "stdout",
     "output_type": "stream",
     "text": [
      "['manzana', 'pera', 'uva', 'naranja']\n"
     ]
    }
   ],
   "source": [
    "texto = \"manzana,pera,uva,naranja\"\n",
    "print(texto.split(\",\"))  "
   ]
  },
  {
   "cell_type": "code",
   "execution_count": 5,
   "metadata": {},
   "outputs": [
    {
     "name": "stdout",
     "output_type": "stream",
     "text": [
      "['manzana', 'pera', 'uva,naranja']\n"
     ]
    }
   ],
   "source": [
    "texto = \"manzana,pera,uva,naranja\"\n",
    "print(texto.split(\",\", 2))  "
   ]
  },
  {
   "cell_type": "markdown",
   "metadata": {},
   "source": [
    "Si no se especifica el separador, se toman los espacios en blanco como tal."
   ]
  },
  {
   "cell_type": "code",
   "execution_count": 6,
   "metadata": {},
   "outputs": [
    {
     "name": "stdout",
     "output_type": "stream",
     "text": [
      "['Hola', 'mundo', 'Python']\n"
     ]
    }
   ],
   "source": [
    "texto = \"Hola  mundo  Python\"\n",
    "print(texto.split())  "
   ]
  },
  {
   "cell_type": "markdown",
   "metadata": {},
   "source": [
    "## Método splitlines()"
   ]
  },
  {
   "cell_type": "markdown",
   "metadata": {},
   "source": [
    "El método splitlines() en Python divide una cadena en una lista de líneas, separando por saltos de línea (\\n, \\r\\n, o \\r).<br>\n",
    "Tiene un solo parámetro keepends (opcional) que es un parámetro booleano que determina si deben eliminarse los caracteres de salto de línea ( False ) por defecto o si se deben mantenerse( True ).<br>\n",
    "Cada línea se convierte en un elemento de la lista. Este método es útil para procesar archivos de texto o cadenas con múltiples líneas."
   ]
  },
  {
   "cell_type": "code",
   "execution_count": 7,
   "metadata": {},
   "outputs": [
    {
     "name": "stdout",
     "output_type": "stream",
     "text": [
      "['Hola', 'Mundo', 'Python']\n"
     ]
    }
   ],
   "source": [
    "texto = \"Hola\\nMundo\\nPython\"\n",
    "print(texto.splitlines())  "
   ]
  },
  {
   "cell_type": "code",
   "execution_count": 9,
   "metadata": {},
   "outputs": [
    {
     "name": "stdout",
     "output_type": "stream",
     "text": [
      "['Hola', 'Mundo', 'Python']\n"
     ]
    }
   ],
   "source": [
    "texto = \"Hola\\r\\nMundo\\rPython\"\n",
    "print(texto.splitlines())  "
   ]
  },
  {
   "cell_type": "code",
   "execution_count": 8,
   "metadata": {},
   "outputs": [
    {
     "name": "stdout",
     "output_type": "stream",
     "text": [
      "['Hola\\n', 'Mundo\\n', 'Python']\n"
     ]
    }
   ],
   "source": [
    "texto = \"Hola\\nMundo\\nPython\"\n",
    "print(texto.splitlines(True)) "
   ]
  },
  {
   "cell_type": "code",
   "execution_count": 11,
   "metadata": {},
   "outputs": [
    {
     "name": "stdout",
     "output_type": "stream",
     "text": [
      "['Hola\\r\\n', 'Mundo\\r', 'Python']\n"
     ]
    }
   ],
   "source": [
    "texto = \"Hola\\r\\nMundo\\rPython\"\n",
    "print(texto.splitlines(True))  "
   ]
  },
  {
   "cell_type": "markdown",
   "metadata": {},
   "source": [
    "## Metodo startswidth()"
   ]
  },
  {
   "cell_type": "markdown",
   "metadata": {},
   "source": [
    "El método startswith() en Python se usa para comprobar si una cadena comienza con un determinado prefijo. Devuelve True si la cadena empieza con el prefijo especificado y False en caso contrario."
   ]
  },
  {
   "cell_type": "code",
   "execution_count": 1,
   "metadata": {},
   "outputs": [
    {
     "name": "stdout",
     "output_type": "stream",
     "text": [
      "True\n"
     ]
    }
   ],
   "source": [
    "texto = \"Hola mundo\"\n",
    "print(texto.startswith(\"Hola\"))"
   ]
  },
  {
   "cell_type": "code",
   "execution_count": 2,
   "metadata": {},
   "outputs": [
    {
     "name": "stdout",
     "output_type": "stream",
     "text": [
      "False\n"
     ]
    }
   ],
   "source": [
    "texto = \"Hola mundo\"\n",
    "print(texto.startswith(\"mundo\"))"
   ]
  },
  {
   "cell_type": "code",
   "execution_count": null,
   "metadata": {},
   "outputs": [
    {
     "name": "stdout",
     "output_type": "stream",
     "text": [
      "True\n"
     ]
    }
   ],
   "source": [
    "# la subcadena \"mundo\" empieza desde el índice 5\n",
    "print(texto.startswith(\"mundo\", 5))"
   ]
  },
  {
   "cell_type": "markdown",
   "metadata": {},
   "source": [
    "### Usando una tupla de prefijos"
   ]
  },
  {
   "cell_type": "code",
   "execution_count": null,
   "metadata": {},
   "outputs": [
    {
     "name": "stdout",
     "output_type": "stream",
     "text": [
      "True\n"
     ]
    }
   ],
   "source": [
    "# True (porque empieza con \"Hola\")\n",
    "print(texto.startswith((\"Hola\", \"Adiós\")))"
   ]
  },
  {
   "cell_type": "code",
   "execution_count": 5,
   "metadata": {},
   "outputs": [
    {
     "name": "stdout",
     "output_type": "stream",
     "text": [
      "False\n"
     ]
    }
   ],
   "source": [
    "print(texto.startswith((\"Mundo\", \"Adiós\")))"
   ]
  },
  {
   "cell_type": "code",
   "execution_count": 9,
   "metadata": {},
   "outputs": [
    {
     "data": {
      "text/plain": [
       "{('Maria', 22), ('manuel', 15)}"
      ]
     },
     "execution_count": 9,
     "metadata": {},
     "output_type": "execute_result"
    }
   ],
   "source": [
    "empieza_con_m = {}\n",
    "\n",
    "nombres = {\"Ana\" : 28, \"Pepe\" : 34, \"Maria\" : 22, \"juan\": 27, \"manuel\": 15}\n",
    "\n",
    "empieza_con_m = {(i, v) for i, v in nombres.items() if i.startswith(('m', 'M'))}\n",
    "\n",
    "empieza_con_m"
   ]
  },
  {
   "cell_type": "markdown",
   "metadata": {},
   "source": [
    "## Método swapcase()"
   ]
  },
  {
   "cell_type": "markdown",
   "metadata": {},
   "source": [
    "El método swapcase() en Python devuelve una nueva cadena con las letras mayúsculas convertidas en minúsculas y viceversa. No modifica la cadena original, sino que genera una nueva."
   ]
  },
  {
   "cell_type": "code",
   "execution_count": 6,
   "metadata": {},
   "outputs": [
    {
     "name": "stdout",
     "output_type": "stream",
     "text": [
      "hOLA mUNDO\n"
     ]
    }
   ],
   "source": [
    "texto = \"Hola Mundo\"\n",
    "print(texto.swapcase())"
   ]
  },
  {
   "cell_type": "code",
   "execution_count": 7,
   "metadata": {},
   "outputs": [
    {
     "name": "stdout",
     "output_type": "stream",
     "text": [
      "python ES genial\n"
     ]
    }
   ],
   "source": [
    "texto = \"PYTHON es GENIAL\"\n",
    "print(texto.swapcase())"
   ]
  },
  {
   "cell_type": "markdown",
   "metadata": {},
   "source": [
    "Con números y caracteres especiales (no se ven afectados)"
   ]
  },
  {
   "cell_type": "code",
   "execution_count": 8,
   "metadata": {},
   "outputs": [
    {
     "name": "stdout",
     "output_type": "stream",
     "text": [
      "1234 pYTHON!\n"
     ]
    }
   ],
   "source": [
    "texto = \"1234 Python!\"\n",
    "print(texto.swapcase())"
   ]
  },
  {
   "cell_type": "markdown",
   "metadata": {},
   "source": [
    "## Método upper()"
   ]
  },
  {
   "cell_type": "markdown",
   "metadata": {},
   "source": [
    "El método upper() en Python convierte todos los caracteres de una cadena a mayúsculas y devuelve una nueva cadena sin modificar la original."
   ]
  },
  {
   "cell_type": "code",
   "execution_count": 9,
   "metadata": {},
   "outputs": [
    {
     "name": "stdout",
     "output_type": "stream",
     "text": [
      "HOLA MUNDO\n"
     ]
    }
   ],
   "source": [
    "texto = \"Hola Mundo\"\n",
    "print(texto.upper()) "
   ]
  },
  {
   "cell_type": "markdown",
   "metadata": {},
   "source": [
    "## Método zfill()"
   ]
  },
  {
   "cell_type": "markdown",
   "metadata": {},
   "source": [
    "El método zfill() en Python rellena una cadena con ceros (0) a la izquierda hasta alcanzar una longitud específica dado por un parámetro que nos indica\n",
    "el ancho o número de caracteres de la cadena.\n",
    "Este método es útil cuando necesitas formatear números o IDs con ceros a la izquierda."
   ]
  },
  {
   "cell_type": "code",
   "execution_count": null,
   "metadata": {},
   "outputs": [
    {
     "name": "stdout",
     "output_type": "stream",
     "text": [
      "00042\n"
     ]
    }
   ],
   "source": [
    "# Rellenar con ceros hasta alcanzar una longitud de 5\n",
    "numero = \"42\"\n",
    "print(numero.zfill(5))"
   ]
  },
  {
   "cell_type": "code",
   "execution_count": null,
   "metadata": {},
   "outputs": [
    {
     "name": "stdout",
     "output_type": "stream",
     "text": [
      "Python\n"
     ]
    }
   ],
   "source": [
    "# Con una cadena más larga que el ancho, no cambia porque ya es más larga\n",
    "texto = \"Python\"\n",
    "print(texto.zfill(3))"
   ]
  },
  {
   "cell_type": "code",
   "execution_count": null,
   "metadata": {},
   "outputs": [
    {
     "name": "stdout",
     "output_type": "stream",
     "text": [
      "-0042\n"
     ]
    }
   ],
   "source": [
    "# Con números negativos (el signo se mantiene)\n",
    "num = \"-42\"\n",
    "print(num.zfill(5))"
   ]
  }
 ],
 "metadata": {
  "kernelspec": {
   "display_name": "Python 3",
   "language": "python",
   "name": "python3"
  },
  "language_info": {
   "codemirror_mode": {
    "name": "ipython",
    "version": 3
   },
   "file_extension": ".py",
   "mimetype": "text/x-python",
   "name": "python",
   "nbconvert_exporter": "python",
   "pygments_lexer": "ipython3",
   "version": "3.10.7"
  }
 },
 "nbformat": 4,
 "nbformat_minor": 2
}
